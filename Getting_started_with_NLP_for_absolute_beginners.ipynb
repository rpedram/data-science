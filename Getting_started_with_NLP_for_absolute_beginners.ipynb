{
  "metadata": {
    "kernelspec": {
      "language": "python",
      "display_name": "Python 3",
      "name": "python3"
    },
    "language_info": {
      "pygments_lexer": "ipython3",
      "nbconvert_exporter": "python",
      "version": "3.6.4",
      "file_extension": ".py",
      "codemirror_mode": {
        "name": "ipython",
        "version": 3
      },
      "name": "python",
      "mimetype": "text/x-python"
    },
    "kaggle": {
      "accelerator": "gpu",
      "dataSources": [
        {
          "sourceId": 33657,
          "databundleVersionId": 3279164,
          "sourceType": "competition"
        }
      ],
      "dockerImageVersionId": 30177,
      "isInternetEnabled": true,
      "language": "python",
      "sourceType": "notebook",
      "isGpuEnabled": true
    },
    "colab": {
      "name": "Getting started with NLP for absolute beginners",
      "provenance": [],
      "include_colab_link": true
    }
  },
  "nbformat_minor": 0,
  "nbformat": 4,
  "cells": [
    {
      "cell_type": "markdown",
      "metadata": {
        "id": "view-in-github",
        "colab_type": "text"
      },
      "source": [
        "<a href=\"https://colab.research.google.com/github/rpedram/data-science/blob/main/Getting_started_with_NLP_for_absolute_beginners.ipynb\" target=\"_parent\"><img src=\"https://colab.research.google.com/assets/colab-badge.svg\" alt=\"Open In Colab\"/></a>"
      ]
    },
    {
      "source": [
        "\n",
        "# IMPORTANT: RUN THIS CELL IN ORDER TO IMPORT YOUR KAGGLE DATA SOURCES\n",
        "# TO THE CORRECT LOCATION (/kaggle/input) IN YOUR NOTEBOOK,\n",
        "# THEN FEEL FREE TO DELETE THIS CELL.\n",
        "# NOTE: THIS NOTEBOOK ENVIRONMENT DIFFERS FROM KAGGLE'S PYTHON\n",
        "# ENVIRONMENT SO THERE MAY BE MISSING LIBRARIES USED BY YOUR\n",
        "# NOTEBOOK.\n",
        "\n",
        "import os\n",
        "import sys\n",
        "from tempfile import NamedTemporaryFile\n",
        "from urllib.request import urlopen\n",
        "from urllib.parse import unquote, urlparse\n",
        "from urllib.error import HTTPError\n",
        "from zipfile import ZipFile\n",
        "import tarfile\n",
        "import shutil\n",
        "\n",
        "CHUNK_SIZE = 40960\n",
        "DATA_SOURCE_MAPPING = 'us-patent-phrase-to-phrase-matching:https%3A%2F%2Fstorage.googleapis.com%2Fkaggle-competitions-data%2Fkaggle-v2%2F33657%2F3279164%2Fbundle%2Farchive.zip%3FX-Goog-Algorithm%3DGOOG4-RSA-SHA256%26X-Goog-Credential%3Dgcp-kaggle-com%2540kaggle-161607.iam.gserviceaccount.com%252F20240806%252Fauto%252Fstorage%252Fgoog4_request%26X-Goog-Date%3D20240806T020347Z%26X-Goog-Expires%3D259200%26X-Goog-SignedHeaders%3Dhost%26X-Goog-Signature%3D5779210a2aaa9b0b764aff0e85c5e2f726bf323a418818b426a715fd7138672f9df64a312f26dd65936edb29065eacba32d7cdf12a54109198bc612c7cee79d3c473ded08db4ec31fad1eb7e28cd6373db2301fa96a4a6dcf9104ab542d891b0eaccef996a846540943ceaa8c21d900c2a9743e20847c878fc71a7c3c89e4a2e96207295f6673f8fa4f64d32c58d78702956329426598a74e3db7803f3ea5924739eb12e831c536d450be2758407f25ef8d6d296632ca6ee54001deb8c3c31390a2b3a47555692f5f985eda9078b6a220a9396bac804255d56d755139b16a28cc736127dd4595a4f700bdf63a50f5c70206a0a1fbaf6b034e6dd1982f329cc2c'\n",
        "\n",
        "KAGGLE_INPUT_PATH='/kaggle/input'\n",
        "KAGGLE_WORKING_PATH='/kaggle/working'\n",
        "KAGGLE_SYMLINK='kaggle'\n",
        "\n",
        "!umount /kaggle/input/ 2> /dev/null\n",
        "shutil.rmtree('/kaggle/input', ignore_errors=True)\n",
        "os.makedirs(KAGGLE_INPUT_PATH, 0o777, exist_ok=True)\n",
        "os.makedirs(KAGGLE_WORKING_PATH, 0o777, exist_ok=True)\n",
        "\n",
        "try:\n",
        "  os.symlink(KAGGLE_INPUT_PATH, os.path.join(\"..\", 'input'), target_is_directory=True)\n",
        "except FileExistsError:\n",
        "  pass\n",
        "try:\n",
        "  os.symlink(KAGGLE_WORKING_PATH, os.path.join(\"..\", 'working'), target_is_directory=True)\n",
        "except FileExistsError:\n",
        "  pass\n",
        "\n",
        "for data_source_mapping in DATA_SOURCE_MAPPING.split(','):\n",
        "    directory, download_url_encoded = data_source_mapping.split(':')\n",
        "    download_url = unquote(download_url_encoded)\n",
        "    filename = urlparse(download_url).path\n",
        "    destination_path = os.path.join(KAGGLE_INPUT_PATH, directory)\n",
        "    try:\n",
        "        with urlopen(download_url) as fileres, NamedTemporaryFile() as tfile:\n",
        "            total_length = fileres.headers['content-length']\n",
        "            print(f'Downloading {directory}, {total_length} bytes compressed')\n",
        "            dl = 0\n",
        "            data = fileres.read(CHUNK_SIZE)\n",
        "            while len(data) > 0:\n",
        "                dl += len(data)\n",
        "                tfile.write(data)\n",
        "                done = int(50 * dl / int(total_length))\n",
        "                sys.stdout.write(f\"\\r[{'=' * done}{' ' * (50-done)}] {dl} bytes downloaded\")\n",
        "                sys.stdout.flush()\n",
        "                data = fileres.read(CHUNK_SIZE)\n",
        "            if filename.endswith('.zip'):\n",
        "              with ZipFile(tfile) as zfile:\n",
        "                zfile.extractall(destination_path)\n",
        "            else:\n",
        "              with tarfile.open(tfile.name) as tarfile:\n",
        "                tarfile.extractall(destination_path)\n",
        "            print(f'\\nDownloaded and uncompressed: {directory}')\n",
        "    except HTTPError as e:\n",
        "        print(f'Failed to load (likely expired) {download_url} to path {destination_path}')\n",
        "        continue\n",
        "    except OSError as e:\n",
        "        print(f'Failed to load {download_url} to path {destination_path}')\n",
        "        continue\n",
        "\n",
        "print('Data source import complete.')\n"
      ],
      "metadata": {
        "colab": {
          "base_uri": "https://localhost:8080/"
        },
        "id": "ASSYiK2GbbBO",
        "outputId": "8fb29045-83c3-4744-fbed-a1fd95fd9236"
      },
      "cell_type": "code",
      "outputs": [
        {
          "output_type": "stream",
          "name": "stdout",
          "text": [
            "Downloading us-patent-phrase-to-phrase-matching, 698368 bytes compressed\n",
            "[==================================================] 698368 bytes downloaded\n",
            "Downloaded and uncompressed: us-patent-phrase-to-phrase-matching\n",
            "Data source import complete.\n"
          ]
        }
      ],
      "execution_count": 19
    },
    {
      "source": [
        "!chmod 600 ~/.kaggle/kaggle.json"
      ],
      "cell_type": "code",
      "metadata": {
        "id": "vWT_7KZHei4E"
      },
      "execution_count": null,
      "outputs": []
    },
    {
      "cell_type": "code",
      "source": [
        "\n",
        "!cp kaggle.json ~/.kaggle/\n",
        "!chmod 600 ~/.kaggle/kaggle.json\n"
      ],
      "metadata": {
        "id": "7FYHH0Mcgtx6"
      },
      "execution_count": 22,
      "outputs": []
    },
    {
      "source": [
        "from pathlib import Path\n",
        "import zipfile\n",
        "import kaggle  # Import kaggle module\n",
        "\n",
        "# ... your existing code ...\n",
        "\n",
        "if not iskaggle and not path.exists():\n",
        "    kaggle.api.competition_download_cli(str(path))\n",
        "    zipfile.ZipFile(f'{path}.zip').extractall(path)\n",
        "\n",
        "# ... your existing code ..."
      ],
      "cell_type": "code",
      "metadata": {
        "colab": {
          "base_uri": "https://localhost:8080/"
        },
        "id": "fxkAwsh3el_i",
        "outputId": "6a811f6e-4a77-41ff-ed7c-4acac5d66d12"
      },
      "execution_count": 23,
      "outputs": [
        {
          "output_type": "stream",
          "name": "stdout",
          "text": [
            "Downloading us-patent-phrase-to-phrase-matching.zip to /content\n"
          ]
        },
        {
          "output_type": "stream",
          "name": "stderr",
          "text": [
            "100%|██████████| 682k/682k [00:00<00:00, 40.5MB/s]"
          ]
        },
        {
          "output_type": "stream",
          "name": "stdout",
          "text": [
            "\n"
          ]
        },
        {
          "output_type": "stream",
          "name": "stderr",
          "text": [
            "\n"
          ]
        }
      ]
    },
    {
      "cell_type": "markdown",
      "source": [
        "## Introduction"
      ],
      "metadata": {
        "id": "Lw18X9z5bbBV"
      }
    },
    {
      "cell_type": "markdown",
      "source": [
        "One area where deep learning has dramatically improved in the last couple of years is natural language processing (NLP). Computers can now generate text, translate automatically from one language to another, analyze comments, label words in sentences, and much more.\n",
        "\n",
        "Perhaps the most widely practically useful application of NLP is *classification* -- that is, classifying a document automatically into some category. This can be used, for instance, for:\n",
        "\n",
        "- Sentiment analysis (e.g are people saying *positive* or *negative* things about your product)\n",
        "- Author identification (what author most likely wrote some document)\n",
        "- Legal discovery (which documents are in scope for a trial)\n",
        "- Organizing documents by topic\n",
        "- Triaging inbound emails\n",
        "- ...and much more!\n",
        "\n",
        "Classification models can also be used to solve problems that are not, at first, obviously appropriate. For instance, consider the Kaggle [U.S. Patent Phrase to Phrase Matching](https://www.kaggle.com/competitions/us-patent-phrase-to-phrase-matching/) competition. In this, we are tasked with comparing two words or short phrases, and scoring them based on whether they're similar or not, based on which patent class they were used in. With a score of `1` it is considered that the two inputs have identical meaning, and `0` means they have totally different meaning. For instance, *abatement* and *eliminating process* have a score of `0.5`, meaning they're somewhat similar, but not identical.\n",
        "\n",
        "It turns out that this can be represented as a classification problem. How? By representing the question like this:\n",
        "\n",
        "> For the following text...: \"TEXT1: abatement; TEXT2: eliminating process\" ...chose a category of meaning similarity: \"Different; Similar; Identical\".\n",
        "\n",
        "In this notebook we'll see how to solve the Patent Phrase Matching problem by treating it as a classification task, by representing it in a very similar way to that shown above."
      ],
      "metadata": {
        "id": "_64p2wK5bbBX"
      }
    },
    {
      "cell_type": "markdown",
      "source": [
        "### On Kaggle"
      ],
      "metadata": {
        "id": "RUKXmG0VbbBY"
      }
    },
    {
      "cell_type": "markdown",
      "source": [
        "Kaggle is an awesome resource for aspiring data scientists or anyone looking to improve their machine learning skills. There is nothing like being able to get hands-on practice and receiving real-time feedback to help you improve your skills. It provides:\n",
        "\n",
        "1. Interesting data sets\n",
        "1. Feedback on how you're doing\n",
        "1. A leader board to see what's good, what's possible, and what's state-of-art\n",
        "1. Notebooks and blog posts by winning contestants share useful tips and techniques.\n",
        "\n",
        "The dataset we will be using here is only available from Kaggle. Therefore, you will need to register on the site, then go to the [page for the competition](https://www.kaggle.com/c/us-patent-phrase-to-phrase-matching). On that page click \"Rules,\" then \"I Understand and Accept.\" (Although the competition has finished, and you will not be entering it, you still have to agree to the rules to be allowed to download the data.)\n",
        "\n",
        "There are two ways to then use this data:\n",
        "\n",
        "- Easiest: run this notebook directly on Kaggle, or\n",
        "- Most flexible: download the data locally and run it on your PC or GPU server\n",
        "\n",
        "If you are running this on Kaggle.com, you can skip the next section. Just make sure that on Kaggle you've selected to use a GPU during your session, by clicking on the hamburger menu (3 dots in the top right) and clicking \"Accelerator\" -- it should look like this:"
      ],
      "metadata": {
        "id": "8buPAVAUbbBY"
      }
    },
    {
      "cell_type": "markdown",
      "source": [
        "![image.png](attachment:9af4e875-1f2a-468c-b233-8c91531e4c40.png)!"
      ],
      "metadata": {
        "id": "wpzpAzwXbbBZ"
      }
    },
    {
      "cell_type": "markdown",
      "source": [
        "We'll need slightly different code depending on whether we're running on Kaggle or not, so we'll use this variable to track where we are:"
      ],
      "metadata": {
        "id": "UGJ5b4KebbBZ"
      }
    },
    {
      "cell_type": "code",
      "source": [
        "import os\n",
        "iskaggle = os.environ.get('KAGGLE_KERNEL_RUN_TYPE', '')"
      ],
      "metadata": {
        "execution": {
          "iopub.status.busy": "2022-04-19T22:50:15.587736Z",
          "iopub.execute_input": "2022-04-19T22:50:15.588105Z",
          "iopub.status.idle": "2022-04-19T22:50:15.617766Z",
          "shell.execute_reply.started": "2022-04-19T22:50:15.58802Z",
          "shell.execute_reply": "2022-04-19T22:50:15.617115Z"
        },
        "trusted": true,
        "id": "81cOM8jzbbBa"
      },
      "execution_count": 24,
      "outputs": []
    },
    {
      "cell_type": "markdown",
      "source": [
        "### Using Kaggle data on your own machine"
      ],
      "metadata": {
        "id": "zJTMwXBKbbBa"
      }
    },
    {
      "cell_type": "markdown",
      "source": [
        "Kaggle limits your weekly time using a GPU machine. The limits are very generous, but you may well still find it's not enough! In that case, you'll want to use your own GPU server, or a cloud server such as Colab, Paperspace Gradient, or SageMaker Studio Lab (all of which have free options). To do so, you'll need to be able to download Kaggle datasets.\n",
        "\n",
        "The easiest way to download Kaggle datasets is to use the Kaggle API. You can install this using `pip` by running this in a notebook cell:\n",
        "\n",
        "    !pip install kaggle\n",
        "\n",
        "You need an API key to use the Kaggle API; to get one, click on your profile picture on the Kaggle website, and choose My Account, then click Create New API Token. This will save a file called *kaggle.json* to your PC. You need to copy this key on your GPU server. To do so, open the file you downloaded, copy the contents, and paste them in the following cell (e.g., `creds = '{\"username\":\"xxx\",\"key\":\"xxx\"}'`):"
      ],
      "metadata": {
        "id": "hCuvz5AWbbBb"
      }
    },
    {
      "cell_type": "code",
      "source": [
        "!pip install kaggle"
      ],
      "metadata": {
        "colab": {
          "base_uri": "https://localhost:8080/"
        },
        "id": "k1PU5EolcBID",
        "outputId": "b69c83cd-658c-4b12-daf4-8d718e965f3d"
      },
      "execution_count": 7,
      "outputs": [
        {
          "output_type": "stream",
          "name": "stdout",
          "text": [
            "Requirement already satisfied: kaggle in /usr/local/lib/python3.10/dist-packages (1.6.17)\n",
            "Requirement already satisfied: six>=1.10 in /usr/local/lib/python3.10/dist-packages (from kaggle) (1.16.0)\n",
            "Requirement already satisfied: certifi>=2023.7.22 in /usr/local/lib/python3.10/dist-packages (from kaggle) (2024.7.4)\n",
            "Requirement already satisfied: python-dateutil in /usr/local/lib/python3.10/dist-packages (from kaggle) (2.8.2)\n",
            "Requirement already satisfied: requests in /usr/local/lib/python3.10/dist-packages (from kaggle) (2.31.0)\n",
            "Requirement already satisfied: tqdm in /usr/local/lib/python3.10/dist-packages (from kaggle) (4.66.4)\n",
            "Requirement already satisfied: python-slugify in /usr/local/lib/python3.10/dist-packages (from kaggle) (8.0.4)\n",
            "Requirement already satisfied: urllib3 in /usr/local/lib/python3.10/dist-packages (from kaggle) (2.0.7)\n",
            "Requirement already satisfied: bleach in /usr/local/lib/python3.10/dist-packages (from kaggle) (6.1.0)\n",
            "Requirement already satisfied: webencodings in /usr/local/lib/python3.10/dist-packages (from bleach->kaggle) (0.5.1)\n",
            "Requirement already satisfied: text-unidecode>=1.3 in /usr/local/lib/python3.10/dist-packages (from python-slugify->kaggle) (1.3)\n",
            "Requirement already satisfied: charset-normalizer<4,>=2 in /usr/local/lib/python3.10/dist-packages (from requests->kaggle) (3.3.2)\n",
            "Requirement already satisfied: idna<4,>=2.5 in /usr/local/lib/python3.10/dist-packages (from requests->kaggle) (3.7)\n"
          ]
        }
      ]
    },
    {
      "cell_type": "code",
      "source": [
        "creds = ''"
      ],
      "metadata": {
        "execution": {
          "iopub.status.busy": "2022-04-19T22:50:15.619247Z",
          "iopub.execute_input": "2022-04-19T22:50:15.619569Z",
          "iopub.status.idle": "2022-04-19T22:50:15.623522Z",
          "shell.execute_reply.started": "2022-04-19T22:50:15.619534Z",
          "shell.execute_reply": "2022-04-19T22:50:15.622704Z"
        },
        "trusted": true,
        "id": "mw_vnnLrbbBb"
      },
      "execution_count": 15,
      "outputs": []
    },
    {
      "cell_type": "markdown",
      "source": [
        "Then execute this cell (this only needs to be run once):"
      ],
      "metadata": {
        "id": "50cRKkHjbbBb"
      }
    },
    {
      "cell_type": "code",
      "source": [
        "# for working with paths in Python, I recommend using `pathlib.Path`\n",
        "from pathlib import Path\n",
        "\n",
        "cred_path = Path('~/.kaggle/kaggle.json').expanduser()\n",
        "if not cred_path.exists():\n",
        "    cred_path.parent.mkdir(exist_ok=True)\n",
        "    cred_path.write_text(creds)\n",
        "    cred_path.chmod(0o600)"
      ],
      "metadata": {
        "execution": {
          "iopub.status.busy": "2022-04-19T22:50:15.624716Z",
          "iopub.execute_input": "2022-04-19T22:50:15.625489Z",
          "iopub.status.idle": "2022-04-19T22:50:15.633519Z",
          "shell.execute_reply.started": "2022-04-19T22:50:15.625454Z",
          "shell.execute_reply": "2022-04-19T22:50:15.632834Z"
        },
        "trusted": true,
        "id": "9XYd5gVtbbBc"
      },
      "execution_count": 16,
      "outputs": []
    },
    {
      "cell_type": "markdown",
      "source": [
        "Now you can download datasets from Kaggle."
      ],
      "metadata": {
        "id": "BAG08ZJNbbBc"
      }
    },
    {
      "cell_type": "code",
      "source": [
        "path = Path('us-patent-phrase-to-phrase-matching')"
      ],
      "metadata": {
        "execution": {
          "iopub.status.busy": "2022-04-19T22:50:15.635423Z",
          "iopub.execute_input": "2022-04-19T22:50:15.636204Z",
          "iopub.status.idle": "2022-04-19T22:50:15.642688Z",
          "shell.execute_reply.started": "2022-04-19T22:50:15.636168Z",
          "shell.execute_reply": "2022-04-19T22:50:15.642098Z"
        },
        "trusted": true,
        "id": "4LxhhDD3bbBc"
      },
      "execution_count": 17,
      "outputs": []
    },
    {
      "cell_type": "markdown",
      "source": [
        "And use the Kaggle API to download the dataset to that path, and extract it:"
      ],
      "metadata": {
        "id": "Q8U-tp2MbbBc"
      }
    },
    {
      "cell_type": "code",
      "source": [
        "if not iskaggle and not path.exists():\n",
        "    import zipfile,kaggle\n",
        "    kaggle.api.competition_download_cli(str(path))\n",
        "    zipfile.ZipFile(f'{path}.zip').extractall(path)"
      ],
      "metadata": {
        "execution": {
          "iopub.status.busy": "2022-04-19T22:50:15.645546Z",
          "iopub.execute_input": "2022-04-19T22:50:15.645766Z",
          "iopub.status.idle": "2022-04-19T22:50:15.651722Z",
          "shell.execute_reply.started": "2022-04-19T22:50:15.645742Z",
          "shell.execute_reply": "2022-04-19T22:50:15.650984Z"
        },
        "trusted": true,
        "id": "_Gvm__7GbbBd"
      },
      "execution_count": 25,
      "outputs": []
    },
    {
      "source": [
        "!chmod 600 ~/.kaggle/kaggle.json"
      ],
      "cell_type": "code",
      "metadata": {
        "id": "QWhlRYXcdTg9"
      },
      "execution_count": 11,
      "outputs": []
    },
    {
      "cell_type": "code",
      "source": [
        "from google.colab import drive\n",
        "drive.mount('/content/drive')"
      ],
      "metadata": {
        "colab": {
          "base_uri": "https://localhost:8080/"
        },
        "id": "LVOETMTAcdvS",
        "outputId": "a8ff79ee-14ab-446d-a00c-a684990a2e88"
      },
      "execution_count": 9,
      "outputs": [
        {
          "output_type": "stream",
          "name": "stdout",
          "text": [
            "Mounted at /content/drive\n"
          ]
        }
      ]
    },
    {
      "cell_type": "markdown",
      "source": [
        "Note that you can easily download notebooks from Kaggle and upload them to other cloud services. So if you're low on Kaggle GPU credits, give this a try!"
      ],
      "metadata": {
        "id": "fuw7nzRdbbBd"
      }
    },
    {
      "cell_type": "markdown",
      "source": [
        "## Import and EDA"
      ],
      "metadata": {
        "id": "DEWAREEcbbBd"
      }
    },
    {
      "cell_type": "code",
      "source": [
        "if iskaggle:\n",
        "    path = Path('../input/us-patent-phrase-to-phrase-matching')\n",
        "    ! pip install -q datasets"
      ],
      "metadata": {
        "execution": {
          "iopub.status.busy": "2022-04-19T22:50:15.652746Z",
          "iopub.execute_input": "2022-04-19T22:50:15.653663Z",
          "iopub.status.idle": "2022-04-19T22:50:24.31782Z",
          "shell.execute_reply.started": "2022-04-19T22:50:15.653623Z",
          "shell.execute_reply": "2022-04-19T22:50:24.317005Z"
        },
        "trusted": true,
        "id": "qmq8GDijbbBd"
      },
      "execution_count": 26,
      "outputs": []
    },
    {
      "cell_type": "markdown",
      "source": [
        "Documents in NLP datasets are generally in one of two main forms:\n",
        "\n",
        "- **Larger documents**: One text file per document, often organised into one folder per category\n",
        "- **Smaller documents**: One document (or document pair, optionally with metadata) per row in a [CSV file](https://realpython.com/python-csv/).\n",
        "\n",
        "Let's look at our data and see what we've got. In Jupyter you can use any bash/shell command by starting a line with a `!`, and use `{}` to include python variables, like so:"
      ],
      "metadata": {
        "id": "6fsV7jDtbbBe"
      }
    },
    {
      "cell_type": "code",
      "source": [
        "!ls {path}"
      ],
      "metadata": {
        "execution": {
          "iopub.status.busy": "2022-04-19T22:50:24.319918Z",
          "iopub.execute_input": "2022-04-19T22:50:24.320225Z",
          "iopub.status.idle": "2022-04-19T22:50:25.026182Z",
          "shell.execute_reply.started": "2022-04-19T22:50:24.320172Z",
          "shell.execute_reply": "2022-04-19T22:50:25.025396Z"
        },
        "trusted": true,
        "colab": {
          "base_uri": "https://localhost:8080/"
        },
        "id": "KxZRdInwbbBe",
        "outputId": "43a1d001-c05a-48aa-a58f-b41c3c77bb61"
      },
      "execution_count": 27,
      "outputs": [
        {
          "output_type": "stream",
          "name": "stdout",
          "text": [
            "sample_submission.csv  test.csv  train.csv\n"
          ]
        }
      ]
    },
    {
      "cell_type": "markdown",
      "source": [
        "It looks like this competition uses CSV files. For opening, manipulating, and viewing CSV files, it's generally best to use the Pandas library, which is explained brilliantly in [this book](https://wesmckinney.com/book/) by the lead developer (it's also an excellent introduction to matplotlib and numpy, both of which I use in this notebook). Generally it's imported as the abbreviation `pd`."
      ],
      "metadata": {
        "id": "HPW7p3C5bbBe"
      }
    },
    {
      "cell_type": "code",
      "source": [
        "import pandas as pd"
      ],
      "metadata": {
        "execution": {
          "iopub.status.busy": "2022-04-19T22:50:25.029087Z",
          "iopub.execute_input": "2022-04-19T22:50:25.029405Z",
          "iopub.status.idle": "2022-04-19T22:50:25.033899Z",
          "shell.execute_reply.started": "2022-04-19T22:50:25.029375Z",
          "shell.execute_reply": "2022-04-19T22:50:25.033097Z"
        },
        "trusted": true,
        "id": "CEsv4j2CbbBe"
      },
      "execution_count": 28,
      "outputs": []
    },
    {
      "cell_type": "markdown",
      "source": [
        "Let's set a path to our data:"
      ],
      "metadata": {
        "id": "tpvt-hE7bbBf"
      }
    },
    {
      "cell_type": "code",
      "source": [
        "df = pd.read_csv(path/'train.csv')"
      ],
      "metadata": {
        "execution": {
          "iopub.status.busy": "2022-04-19T22:50:25.035596Z",
          "iopub.execute_input": "2022-04-19T22:50:25.036233Z",
          "iopub.status.idle": "2022-04-19T22:50:25.118872Z",
          "shell.execute_reply.started": "2022-04-19T22:50:25.036197Z",
          "shell.execute_reply": "2022-04-19T22:50:25.118154Z"
        },
        "trusted": true,
        "id": "wgVVPt8-bbBf"
      },
      "execution_count": 29,
      "outputs": []
    },
    {
      "cell_type": "markdown",
      "source": [
        "This creates a [DataFrame](https://pandas.pydata.org/docs/user_guide/10min.html), which is a table of named columns, a bit like a database table. To view the first and last rows, and row count of a DataFrame, just type its name:"
      ],
      "metadata": {
        "id": "XoZrw5PwbbBf"
      }
    },
    {
      "cell_type": "code",
      "source": [
        "df"
      ],
      "metadata": {
        "execution": {
          "iopub.status.busy": "2022-04-19T22:50:25.122029Z",
          "iopub.execute_input": "2022-04-19T22:50:25.122228Z",
          "iopub.status.idle": "2022-04-19T22:50:25.148288Z",
          "shell.execute_reply.started": "2022-04-19T22:50:25.122204Z",
          "shell.execute_reply": "2022-04-19T22:50:25.147661Z"
        },
        "trusted": true,
        "colab": {
          "base_uri": "https://localhost:8080/",
          "height": 423
        },
        "id": "SyZf1kPCbbBf",
        "outputId": "3a1ee1d8-65e0-4ef6-b3c8-de19cccfa120"
      },
      "execution_count": 30,
      "outputs": [
        {
          "output_type": "execute_result",
          "data": {
            "text/plain": [
              "                     id        anchor                  target context  score\n",
              "0      37d61fd2272659b1     abatement  abatement of pollution     A47   0.50\n",
              "1      7b9652b17b68b7a4     abatement          act of abating     A47   0.75\n",
              "2      36d72442aefd8232     abatement         active catalyst     A47   0.25\n",
              "3      5296b0c19e1ce60e     abatement     eliminating process     A47   0.50\n",
              "4      54c1e3b9184cb5b6     abatement           forest region     A47   0.00\n",
              "...                 ...           ...                     ...     ...    ...\n",
              "36468  8e1386cbefd7f245  wood article          wooden article     B44   1.00\n",
              "36469  42d9e032d1cd3242  wood article              wooden box     B44   0.50\n",
              "36470  208654ccb9e14fa3  wood article           wooden handle     B44   0.50\n",
              "36471  756ec035e694722b  wood article         wooden material     B44   0.75\n",
              "36472  8d135da0b55b8c88  wood article        wooden substrate     B44   0.50\n",
              "\n",
              "[36473 rows x 5 columns]"
            ],
            "text/html": [
              "\n",
              "  <div id=\"df-8f00d510-4085-4863-87ad-d9d231c60b6b\" class=\"colab-df-container\">\n",
              "    <div>\n",
              "<style scoped>\n",
              "    .dataframe tbody tr th:only-of-type {\n",
              "        vertical-align: middle;\n",
              "    }\n",
              "\n",
              "    .dataframe tbody tr th {\n",
              "        vertical-align: top;\n",
              "    }\n",
              "\n",
              "    .dataframe thead th {\n",
              "        text-align: right;\n",
              "    }\n",
              "</style>\n",
              "<table border=\"1\" class=\"dataframe\">\n",
              "  <thead>\n",
              "    <tr style=\"text-align: right;\">\n",
              "      <th></th>\n",
              "      <th>id</th>\n",
              "      <th>anchor</th>\n",
              "      <th>target</th>\n",
              "      <th>context</th>\n",
              "      <th>score</th>\n",
              "    </tr>\n",
              "  </thead>\n",
              "  <tbody>\n",
              "    <tr>\n",
              "      <th>0</th>\n",
              "      <td>37d61fd2272659b1</td>\n",
              "      <td>abatement</td>\n",
              "      <td>abatement of pollution</td>\n",
              "      <td>A47</td>\n",
              "      <td>0.50</td>\n",
              "    </tr>\n",
              "    <tr>\n",
              "      <th>1</th>\n",
              "      <td>7b9652b17b68b7a4</td>\n",
              "      <td>abatement</td>\n",
              "      <td>act of abating</td>\n",
              "      <td>A47</td>\n",
              "      <td>0.75</td>\n",
              "    </tr>\n",
              "    <tr>\n",
              "      <th>2</th>\n",
              "      <td>36d72442aefd8232</td>\n",
              "      <td>abatement</td>\n",
              "      <td>active catalyst</td>\n",
              "      <td>A47</td>\n",
              "      <td>0.25</td>\n",
              "    </tr>\n",
              "    <tr>\n",
              "      <th>3</th>\n",
              "      <td>5296b0c19e1ce60e</td>\n",
              "      <td>abatement</td>\n",
              "      <td>eliminating process</td>\n",
              "      <td>A47</td>\n",
              "      <td>0.50</td>\n",
              "    </tr>\n",
              "    <tr>\n",
              "      <th>4</th>\n",
              "      <td>54c1e3b9184cb5b6</td>\n",
              "      <td>abatement</td>\n",
              "      <td>forest region</td>\n",
              "      <td>A47</td>\n",
              "      <td>0.00</td>\n",
              "    </tr>\n",
              "    <tr>\n",
              "      <th>...</th>\n",
              "      <td>...</td>\n",
              "      <td>...</td>\n",
              "      <td>...</td>\n",
              "      <td>...</td>\n",
              "      <td>...</td>\n",
              "    </tr>\n",
              "    <tr>\n",
              "      <th>36468</th>\n",
              "      <td>8e1386cbefd7f245</td>\n",
              "      <td>wood article</td>\n",
              "      <td>wooden article</td>\n",
              "      <td>B44</td>\n",
              "      <td>1.00</td>\n",
              "    </tr>\n",
              "    <tr>\n",
              "      <th>36469</th>\n",
              "      <td>42d9e032d1cd3242</td>\n",
              "      <td>wood article</td>\n",
              "      <td>wooden box</td>\n",
              "      <td>B44</td>\n",
              "      <td>0.50</td>\n",
              "    </tr>\n",
              "    <tr>\n",
              "      <th>36470</th>\n",
              "      <td>208654ccb9e14fa3</td>\n",
              "      <td>wood article</td>\n",
              "      <td>wooden handle</td>\n",
              "      <td>B44</td>\n",
              "      <td>0.50</td>\n",
              "    </tr>\n",
              "    <tr>\n",
              "      <th>36471</th>\n",
              "      <td>756ec035e694722b</td>\n",
              "      <td>wood article</td>\n",
              "      <td>wooden material</td>\n",
              "      <td>B44</td>\n",
              "      <td>0.75</td>\n",
              "    </tr>\n",
              "    <tr>\n",
              "      <th>36472</th>\n",
              "      <td>8d135da0b55b8c88</td>\n",
              "      <td>wood article</td>\n",
              "      <td>wooden substrate</td>\n",
              "      <td>B44</td>\n",
              "      <td>0.50</td>\n",
              "    </tr>\n",
              "  </tbody>\n",
              "</table>\n",
              "<p>36473 rows × 5 columns</p>\n",
              "</div>\n",
              "    <div class=\"colab-df-buttons\">\n",
              "\n",
              "  <div class=\"colab-df-container\">\n",
              "    <button class=\"colab-df-convert\" onclick=\"convertToInteractive('df-8f00d510-4085-4863-87ad-d9d231c60b6b')\"\n",
              "            title=\"Convert this dataframe to an interactive table.\"\n",
              "            style=\"display:none;\">\n",
              "\n",
              "  <svg xmlns=\"http://www.w3.org/2000/svg\" height=\"24px\" viewBox=\"0 -960 960 960\">\n",
              "    <path d=\"M120-120v-720h720v720H120Zm60-500h600v-160H180v160Zm220 220h160v-160H400v160Zm0 220h160v-160H400v160ZM180-400h160v-160H180v160Zm440 0h160v-160H620v160ZM180-180h160v-160H180v160Zm440 0h160v-160H620v160Z\"/>\n",
              "  </svg>\n",
              "    </button>\n",
              "\n",
              "  <style>\n",
              "    .colab-df-container {\n",
              "      display:flex;\n",
              "      gap: 12px;\n",
              "    }\n",
              "\n",
              "    .colab-df-convert {\n",
              "      background-color: #E8F0FE;\n",
              "      border: none;\n",
              "      border-radius: 50%;\n",
              "      cursor: pointer;\n",
              "      display: none;\n",
              "      fill: #1967D2;\n",
              "      height: 32px;\n",
              "      padding: 0 0 0 0;\n",
              "      width: 32px;\n",
              "    }\n",
              "\n",
              "    .colab-df-convert:hover {\n",
              "      background-color: #E2EBFA;\n",
              "      box-shadow: 0px 1px 2px rgba(60, 64, 67, 0.3), 0px 1px 3px 1px rgba(60, 64, 67, 0.15);\n",
              "      fill: #174EA6;\n",
              "    }\n",
              "\n",
              "    .colab-df-buttons div {\n",
              "      margin-bottom: 4px;\n",
              "    }\n",
              "\n",
              "    [theme=dark] .colab-df-convert {\n",
              "      background-color: #3B4455;\n",
              "      fill: #D2E3FC;\n",
              "    }\n",
              "\n",
              "    [theme=dark] .colab-df-convert:hover {\n",
              "      background-color: #434B5C;\n",
              "      box-shadow: 0px 1px 3px 1px rgba(0, 0, 0, 0.15);\n",
              "      filter: drop-shadow(0px 1px 2px rgba(0, 0, 0, 0.3));\n",
              "      fill: #FFFFFF;\n",
              "    }\n",
              "  </style>\n",
              "\n",
              "    <script>\n",
              "      const buttonEl =\n",
              "        document.querySelector('#df-8f00d510-4085-4863-87ad-d9d231c60b6b button.colab-df-convert');\n",
              "      buttonEl.style.display =\n",
              "        google.colab.kernel.accessAllowed ? 'block' : 'none';\n",
              "\n",
              "      async function convertToInteractive(key) {\n",
              "        const element = document.querySelector('#df-8f00d510-4085-4863-87ad-d9d231c60b6b');\n",
              "        const dataTable =\n",
              "          await google.colab.kernel.invokeFunction('convertToInteractive',\n",
              "                                                    [key], {});\n",
              "        if (!dataTable) return;\n",
              "\n",
              "        const docLinkHtml = 'Like what you see? Visit the ' +\n",
              "          '<a target=\"_blank\" href=https://colab.research.google.com/notebooks/data_table.ipynb>data table notebook</a>'\n",
              "          + ' to learn more about interactive tables.';\n",
              "        element.innerHTML = '';\n",
              "        dataTable['output_type'] = 'display_data';\n",
              "        await google.colab.output.renderOutput(dataTable, element);\n",
              "        const docLink = document.createElement('div');\n",
              "        docLink.innerHTML = docLinkHtml;\n",
              "        element.appendChild(docLink);\n",
              "      }\n",
              "    </script>\n",
              "  </div>\n",
              "\n",
              "\n",
              "<div id=\"df-505994ab-191d-4137-8a09-cdacca438b39\">\n",
              "  <button class=\"colab-df-quickchart\" onclick=\"quickchart('df-505994ab-191d-4137-8a09-cdacca438b39')\"\n",
              "            title=\"Suggest charts\"\n",
              "            style=\"display:none;\">\n",
              "\n",
              "<svg xmlns=\"http://www.w3.org/2000/svg\" height=\"24px\"viewBox=\"0 0 24 24\"\n",
              "     width=\"24px\">\n",
              "    <g>\n",
              "        <path d=\"M19 3H5c-1.1 0-2 .9-2 2v14c0 1.1.9 2 2 2h14c1.1 0 2-.9 2-2V5c0-1.1-.9-2-2-2zM9 17H7v-7h2v7zm4 0h-2V7h2v10zm4 0h-2v-4h2v4z\"/>\n",
              "    </g>\n",
              "</svg>\n",
              "  </button>\n",
              "\n",
              "<style>\n",
              "  .colab-df-quickchart {\n",
              "      --bg-color: #E8F0FE;\n",
              "      --fill-color: #1967D2;\n",
              "      --hover-bg-color: #E2EBFA;\n",
              "      --hover-fill-color: #174EA6;\n",
              "      --disabled-fill-color: #AAA;\n",
              "      --disabled-bg-color: #DDD;\n",
              "  }\n",
              "\n",
              "  [theme=dark] .colab-df-quickchart {\n",
              "      --bg-color: #3B4455;\n",
              "      --fill-color: #D2E3FC;\n",
              "      --hover-bg-color: #434B5C;\n",
              "      --hover-fill-color: #FFFFFF;\n",
              "      --disabled-bg-color: #3B4455;\n",
              "      --disabled-fill-color: #666;\n",
              "  }\n",
              "\n",
              "  .colab-df-quickchart {\n",
              "    background-color: var(--bg-color);\n",
              "    border: none;\n",
              "    border-radius: 50%;\n",
              "    cursor: pointer;\n",
              "    display: none;\n",
              "    fill: var(--fill-color);\n",
              "    height: 32px;\n",
              "    padding: 0;\n",
              "    width: 32px;\n",
              "  }\n",
              "\n",
              "  .colab-df-quickchart:hover {\n",
              "    background-color: var(--hover-bg-color);\n",
              "    box-shadow: 0 1px 2px rgba(60, 64, 67, 0.3), 0 1px 3px 1px rgba(60, 64, 67, 0.15);\n",
              "    fill: var(--button-hover-fill-color);\n",
              "  }\n",
              "\n",
              "  .colab-df-quickchart-complete:disabled,\n",
              "  .colab-df-quickchart-complete:disabled:hover {\n",
              "    background-color: var(--disabled-bg-color);\n",
              "    fill: var(--disabled-fill-color);\n",
              "    box-shadow: none;\n",
              "  }\n",
              "\n",
              "  .colab-df-spinner {\n",
              "    border: 2px solid var(--fill-color);\n",
              "    border-color: transparent;\n",
              "    border-bottom-color: var(--fill-color);\n",
              "    animation:\n",
              "      spin 1s steps(1) infinite;\n",
              "  }\n",
              "\n",
              "  @keyframes spin {\n",
              "    0% {\n",
              "      border-color: transparent;\n",
              "      border-bottom-color: var(--fill-color);\n",
              "      border-left-color: var(--fill-color);\n",
              "    }\n",
              "    20% {\n",
              "      border-color: transparent;\n",
              "      border-left-color: var(--fill-color);\n",
              "      border-top-color: var(--fill-color);\n",
              "    }\n",
              "    30% {\n",
              "      border-color: transparent;\n",
              "      border-left-color: var(--fill-color);\n",
              "      border-top-color: var(--fill-color);\n",
              "      border-right-color: var(--fill-color);\n",
              "    }\n",
              "    40% {\n",
              "      border-color: transparent;\n",
              "      border-right-color: var(--fill-color);\n",
              "      border-top-color: var(--fill-color);\n",
              "    }\n",
              "    60% {\n",
              "      border-color: transparent;\n",
              "      border-right-color: var(--fill-color);\n",
              "    }\n",
              "    80% {\n",
              "      border-color: transparent;\n",
              "      border-right-color: var(--fill-color);\n",
              "      border-bottom-color: var(--fill-color);\n",
              "    }\n",
              "    90% {\n",
              "      border-color: transparent;\n",
              "      border-bottom-color: var(--fill-color);\n",
              "    }\n",
              "  }\n",
              "</style>\n",
              "\n",
              "  <script>\n",
              "    async function quickchart(key) {\n",
              "      const quickchartButtonEl =\n",
              "        document.querySelector('#' + key + ' button');\n",
              "      quickchartButtonEl.disabled = true;  // To prevent multiple clicks.\n",
              "      quickchartButtonEl.classList.add('colab-df-spinner');\n",
              "      try {\n",
              "        const charts = await google.colab.kernel.invokeFunction(\n",
              "            'suggestCharts', [key], {});\n",
              "      } catch (error) {\n",
              "        console.error('Error during call to suggestCharts:', error);\n",
              "      }\n",
              "      quickchartButtonEl.classList.remove('colab-df-spinner');\n",
              "      quickchartButtonEl.classList.add('colab-df-quickchart-complete');\n",
              "    }\n",
              "    (() => {\n",
              "      let quickchartButtonEl =\n",
              "        document.querySelector('#df-505994ab-191d-4137-8a09-cdacca438b39 button');\n",
              "      quickchartButtonEl.style.display =\n",
              "        google.colab.kernel.accessAllowed ? 'block' : 'none';\n",
              "    })();\n",
              "  </script>\n",
              "</div>\n",
              "\n",
              "  <div id=\"id_5913bb94-8410-463f-ad49-365ed07d6bea\">\n",
              "    <style>\n",
              "      .colab-df-generate {\n",
              "        background-color: #E8F0FE;\n",
              "        border: none;\n",
              "        border-radius: 50%;\n",
              "        cursor: pointer;\n",
              "        display: none;\n",
              "        fill: #1967D2;\n",
              "        height: 32px;\n",
              "        padding: 0 0 0 0;\n",
              "        width: 32px;\n",
              "      }\n",
              "\n",
              "      .colab-df-generate:hover {\n",
              "        background-color: #E2EBFA;\n",
              "        box-shadow: 0px 1px 2px rgba(60, 64, 67, 0.3), 0px 1px 3px 1px rgba(60, 64, 67, 0.15);\n",
              "        fill: #174EA6;\n",
              "      }\n",
              "\n",
              "      [theme=dark] .colab-df-generate {\n",
              "        background-color: #3B4455;\n",
              "        fill: #D2E3FC;\n",
              "      }\n",
              "\n",
              "      [theme=dark] .colab-df-generate:hover {\n",
              "        background-color: #434B5C;\n",
              "        box-shadow: 0px 1px 3px 1px rgba(0, 0, 0, 0.15);\n",
              "        filter: drop-shadow(0px 1px 2px rgba(0, 0, 0, 0.3));\n",
              "        fill: #FFFFFF;\n",
              "      }\n",
              "    </style>\n",
              "    <button class=\"colab-df-generate\" onclick=\"generateWithVariable('df')\"\n",
              "            title=\"Generate code using this dataframe.\"\n",
              "            style=\"display:none;\">\n",
              "\n",
              "  <svg xmlns=\"http://www.w3.org/2000/svg\" height=\"24px\"viewBox=\"0 0 24 24\"\n",
              "       width=\"24px\">\n",
              "    <path d=\"M7,19H8.4L18.45,9,17,7.55,7,17.6ZM5,21V16.75L18.45,3.32a2,2,0,0,1,2.83,0l1.4,1.43a1.91,1.91,0,0,1,.58,1.4,1.91,1.91,0,0,1-.58,1.4L9.25,21ZM18.45,9,17,7.55Zm-12,3A5.31,5.31,0,0,0,4.9,8.1,5.31,5.31,0,0,0,1,6.5,5.31,5.31,0,0,0,4.9,4.9,5.31,5.31,0,0,0,6.5,1,5.31,5.31,0,0,0,8.1,4.9,5.31,5.31,0,0,0,12,6.5,5.46,5.46,0,0,0,6.5,12Z\"/>\n",
              "  </svg>\n",
              "    </button>\n",
              "    <script>\n",
              "      (() => {\n",
              "      const buttonEl =\n",
              "        document.querySelector('#id_5913bb94-8410-463f-ad49-365ed07d6bea button.colab-df-generate');\n",
              "      buttonEl.style.display =\n",
              "        google.colab.kernel.accessAllowed ? 'block' : 'none';\n",
              "\n",
              "      buttonEl.onclick = () => {\n",
              "        google.colab.notebook.generateWithVariable('df');\n",
              "      }\n",
              "      })();\n",
              "    </script>\n",
              "  </div>\n",
              "\n",
              "    </div>\n",
              "  </div>\n"
            ],
            "application/vnd.google.colaboratory.intrinsic+json": {
              "type": "dataframe",
              "variable_name": "df",
              "summary": "{\n  \"name\": \"df\",\n  \"rows\": 36473,\n  \"fields\": [\n    {\n      \"column\": \"id\",\n      \"properties\": {\n        \"dtype\": \"string\",\n        \"num_unique_values\": 36473,\n        \"samples\": [\n          \"ed1c4e525eb105fe\",\n          \"5386316f318f5221\",\n          \"1544ca6753fcbddd\"\n        ],\n        \"semantic_type\": \"\",\n        \"description\": \"\"\n      }\n    },\n    {\n      \"column\": \"anchor\",\n      \"properties\": {\n        \"dtype\": \"category\",\n        \"num_unique_values\": 733,\n        \"samples\": [\n          \"time digital signal\",\n          \"antiatherosclerotic\",\n          \"filled interior\"\n        ],\n        \"semantic_type\": \"\",\n        \"description\": \"\"\n      }\n    },\n    {\n      \"column\": \"target\",\n      \"properties\": {\n        \"dtype\": \"string\",\n        \"num_unique_values\": 29340,\n        \"samples\": [\n          \"dispersions\",\n          \"grid station\",\n          \"end bearing pile\"\n        ],\n        \"semantic_type\": \"\",\n        \"description\": \"\"\n      }\n    },\n    {\n      \"column\": \"context\",\n      \"properties\": {\n        \"dtype\": \"category\",\n        \"num_unique_values\": 106,\n        \"samples\": [\n          \"F17\",\n          \"B41\",\n          \"F16\"\n        ],\n        \"semantic_type\": \"\",\n        \"description\": \"\"\n      }\n    },\n    {\n      \"column\": \"score\",\n      \"properties\": {\n        \"dtype\": \"number\",\n        \"std\": 0.25833525574359106,\n        \"min\": 0.0,\n        \"max\": 1.0,\n        \"num_unique_values\": 5,\n        \"samples\": [\n          0.75,\n          1.0,\n          0.25\n        ],\n        \"semantic_type\": \"\",\n        \"description\": \"\"\n      }\n    }\n  ]\n}"
            }
          },
          "metadata": {},
          "execution_count": 30
        }
      ]
    },
    {
      "cell_type": "markdown",
      "source": [
        "It's important to carefully read the [dataset description](https://www.kaggle.com/competitions/us-patent-phrase-to-phrase-matching/data) to understand how each of these columns is used.\n",
        "\n",
        "One of the most useful features of `DataFrame` is the `describe()` method:"
      ],
      "metadata": {
        "id": "xgiGZO-rbbBg"
      }
    },
    {
      "cell_type": "code",
      "source": [
        "df.describe(include='object')"
      ],
      "metadata": {
        "execution": {
          "iopub.status.busy": "2022-04-19T22:50:25.149508Z",
          "iopub.execute_input": "2022-04-19T22:50:25.149775Z",
          "iopub.status.idle": "2022-04-19T22:50:25.224974Z",
          "shell.execute_reply.started": "2022-04-19T22:50:25.149735Z",
          "shell.execute_reply": "2022-04-19T22:50:25.224207Z"
        },
        "trusted": true,
        "colab": {
          "base_uri": "https://localhost:8080/",
          "height": 174
        },
        "id": "kOxWVxTdbbBg",
        "outputId": "54bf5d6b-01b2-4a24-cb9b-192377ea721a"
      },
      "execution_count": 31,
      "outputs": [
        {
          "output_type": "execute_result",
          "data": {
            "text/plain": [
              "                      id                       anchor       target context\n",
              "count              36473                        36473        36473   36473\n",
              "unique             36473                          733        29340     106\n",
              "top     37d61fd2272659b1  component composite coating  composition     H01\n",
              "freq                   1                          152           24    2186"
            ],
            "text/html": [
              "\n",
              "  <div id=\"df-1150f10e-3c58-4b93-a1db-8fa546817b4a\" class=\"colab-df-container\">\n",
              "    <div>\n",
              "<style scoped>\n",
              "    .dataframe tbody tr th:only-of-type {\n",
              "        vertical-align: middle;\n",
              "    }\n",
              "\n",
              "    .dataframe tbody tr th {\n",
              "        vertical-align: top;\n",
              "    }\n",
              "\n",
              "    .dataframe thead th {\n",
              "        text-align: right;\n",
              "    }\n",
              "</style>\n",
              "<table border=\"1\" class=\"dataframe\">\n",
              "  <thead>\n",
              "    <tr style=\"text-align: right;\">\n",
              "      <th></th>\n",
              "      <th>id</th>\n",
              "      <th>anchor</th>\n",
              "      <th>target</th>\n",
              "      <th>context</th>\n",
              "    </tr>\n",
              "  </thead>\n",
              "  <tbody>\n",
              "    <tr>\n",
              "      <th>count</th>\n",
              "      <td>36473</td>\n",
              "      <td>36473</td>\n",
              "      <td>36473</td>\n",
              "      <td>36473</td>\n",
              "    </tr>\n",
              "    <tr>\n",
              "      <th>unique</th>\n",
              "      <td>36473</td>\n",
              "      <td>733</td>\n",
              "      <td>29340</td>\n",
              "      <td>106</td>\n",
              "    </tr>\n",
              "    <tr>\n",
              "      <th>top</th>\n",
              "      <td>37d61fd2272659b1</td>\n",
              "      <td>component composite coating</td>\n",
              "      <td>composition</td>\n",
              "      <td>H01</td>\n",
              "    </tr>\n",
              "    <tr>\n",
              "      <th>freq</th>\n",
              "      <td>1</td>\n",
              "      <td>152</td>\n",
              "      <td>24</td>\n",
              "      <td>2186</td>\n",
              "    </tr>\n",
              "  </tbody>\n",
              "</table>\n",
              "</div>\n",
              "    <div class=\"colab-df-buttons\">\n",
              "\n",
              "  <div class=\"colab-df-container\">\n",
              "    <button class=\"colab-df-convert\" onclick=\"convertToInteractive('df-1150f10e-3c58-4b93-a1db-8fa546817b4a')\"\n",
              "            title=\"Convert this dataframe to an interactive table.\"\n",
              "            style=\"display:none;\">\n",
              "\n",
              "  <svg xmlns=\"http://www.w3.org/2000/svg\" height=\"24px\" viewBox=\"0 -960 960 960\">\n",
              "    <path d=\"M120-120v-720h720v720H120Zm60-500h600v-160H180v160Zm220 220h160v-160H400v160Zm0 220h160v-160H400v160ZM180-400h160v-160H180v160Zm440 0h160v-160H620v160ZM180-180h160v-160H180v160Zm440 0h160v-160H620v160Z\"/>\n",
              "  </svg>\n",
              "    </button>\n",
              "\n",
              "  <style>\n",
              "    .colab-df-container {\n",
              "      display:flex;\n",
              "      gap: 12px;\n",
              "    }\n",
              "\n",
              "    .colab-df-convert {\n",
              "      background-color: #E8F0FE;\n",
              "      border: none;\n",
              "      border-radius: 50%;\n",
              "      cursor: pointer;\n",
              "      display: none;\n",
              "      fill: #1967D2;\n",
              "      height: 32px;\n",
              "      padding: 0 0 0 0;\n",
              "      width: 32px;\n",
              "    }\n",
              "\n",
              "    .colab-df-convert:hover {\n",
              "      background-color: #E2EBFA;\n",
              "      box-shadow: 0px 1px 2px rgba(60, 64, 67, 0.3), 0px 1px 3px 1px rgba(60, 64, 67, 0.15);\n",
              "      fill: #174EA6;\n",
              "    }\n",
              "\n",
              "    .colab-df-buttons div {\n",
              "      margin-bottom: 4px;\n",
              "    }\n",
              "\n",
              "    [theme=dark] .colab-df-convert {\n",
              "      background-color: #3B4455;\n",
              "      fill: #D2E3FC;\n",
              "    }\n",
              "\n",
              "    [theme=dark] .colab-df-convert:hover {\n",
              "      background-color: #434B5C;\n",
              "      box-shadow: 0px 1px 3px 1px rgba(0, 0, 0, 0.15);\n",
              "      filter: drop-shadow(0px 1px 2px rgba(0, 0, 0, 0.3));\n",
              "      fill: #FFFFFF;\n",
              "    }\n",
              "  </style>\n",
              "\n",
              "    <script>\n",
              "      const buttonEl =\n",
              "        document.querySelector('#df-1150f10e-3c58-4b93-a1db-8fa546817b4a button.colab-df-convert');\n",
              "      buttonEl.style.display =\n",
              "        google.colab.kernel.accessAllowed ? 'block' : 'none';\n",
              "\n",
              "      async function convertToInteractive(key) {\n",
              "        const element = document.querySelector('#df-1150f10e-3c58-4b93-a1db-8fa546817b4a');\n",
              "        const dataTable =\n",
              "          await google.colab.kernel.invokeFunction('convertToInteractive',\n",
              "                                                    [key], {});\n",
              "        if (!dataTable) return;\n",
              "\n",
              "        const docLinkHtml = 'Like what you see? Visit the ' +\n",
              "          '<a target=\"_blank\" href=https://colab.research.google.com/notebooks/data_table.ipynb>data table notebook</a>'\n",
              "          + ' to learn more about interactive tables.';\n",
              "        element.innerHTML = '';\n",
              "        dataTable['output_type'] = 'display_data';\n",
              "        await google.colab.output.renderOutput(dataTable, element);\n",
              "        const docLink = document.createElement('div');\n",
              "        docLink.innerHTML = docLinkHtml;\n",
              "        element.appendChild(docLink);\n",
              "      }\n",
              "    </script>\n",
              "  </div>\n",
              "\n",
              "\n",
              "<div id=\"df-f5db9c40-949c-4944-91cf-0ffbd532293f\">\n",
              "  <button class=\"colab-df-quickchart\" onclick=\"quickchart('df-f5db9c40-949c-4944-91cf-0ffbd532293f')\"\n",
              "            title=\"Suggest charts\"\n",
              "            style=\"display:none;\">\n",
              "\n",
              "<svg xmlns=\"http://www.w3.org/2000/svg\" height=\"24px\"viewBox=\"0 0 24 24\"\n",
              "     width=\"24px\">\n",
              "    <g>\n",
              "        <path d=\"M19 3H5c-1.1 0-2 .9-2 2v14c0 1.1.9 2 2 2h14c1.1 0 2-.9 2-2V5c0-1.1-.9-2-2-2zM9 17H7v-7h2v7zm4 0h-2V7h2v10zm4 0h-2v-4h2v4z\"/>\n",
              "    </g>\n",
              "</svg>\n",
              "  </button>\n",
              "\n",
              "<style>\n",
              "  .colab-df-quickchart {\n",
              "      --bg-color: #E8F0FE;\n",
              "      --fill-color: #1967D2;\n",
              "      --hover-bg-color: #E2EBFA;\n",
              "      --hover-fill-color: #174EA6;\n",
              "      --disabled-fill-color: #AAA;\n",
              "      --disabled-bg-color: #DDD;\n",
              "  }\n",
              "\n",
              "  [theme=dark] .colab-df-quickchart {\n",
              "      --bg-color: #3B4455;\n",
              "      --fill-color: #D2E3FC;\n",
              "      --hover-bg-color: #434B5C;\n",
              "      --hover-fill-color: #FFFFFF;\n",
              "      --disabled-bg-color: #3B4455;\n",
              "      --disabled-fill-color: #666;\n",
              "  }\n",
              "\n",
              "  .colab-df-quickchart {\n",
              "    background-color: var(--bg-color);\n",
              "    border: none;\n",
              "    border-radius: 50%;\n",
              "    cursor: pointer;\n",
              "    display: none;\n",
              "    fill: var(--fill-color);\n",
              "    height: 32px;\n",
              "    padding: 0;\n",
              "    width: 32px;\n",
              "  }\n",
              "\n",
              "  .colab-df-quickchart:hover {\n",
              "    background-color: var(--hover-bg-color);\n",
              "    box-shadow: 0 1px 2px rgba(60, 64, 67, 0.3), 0 1px 3px 1px rgba(60, 64, 67, 0.15);\n",
              "    fill: var(--button-hover-fill-color);\n",
              "  }\n",
              "\n",
              "  .colab-df-quickchart-complete:disabled,\n",
              "  .colab-df-quickchart-complete:disabled:hover {\n",
              "    background-color: var(--disabled-bg-color);\n",
              "    fill: var(--disabled-fill-color);\n",
              "    box-shadow: none;\n",
              "  }\n",
              "\n",
              "  .colab-df-spinner {\n",
              "    border: 2px solid var(--fill-color);\n",
              "    border-color: transparent;\n",
              "    border-bottom-color: var(--fill-color);\n",
              "    animation:\n",
              "      spin 1s steps(1) infinite;\n",
              "  }\n",
              "\n",
              "  @keyframes spin {\n",
              "    0% {\n",
              "      border-color: transparent;\n",
              "      border-bottom-color: var(--fill-color);\n",
              "      border-left-color: var(--fill-color);\n",
              "    }\n",
              "    20% {\n",
              "      border-color: transparent;\n",
              "      border-left-color: var(--fill-color);\n",
              "      border-top-color: var(--fill-color);\n",
              "    }\n",
              "    30% {\n",
              "      border-color: transparent;\n",
              "      border-left-color: var(--fill-color);\n",
              "      border-top-color: var(--fill-color);\n",
              "      border-right-color: var(--fill-color);\n",
              "    }\n",
              "    40% {\n",
              "      border-color: transparent;\n",
              "      border-right-color: var(--fill-color);\n",
              "      border-top-color: var(--fill-color);\n",
              "    }\n",
              "    60% {\n",
              "      border-color: transparent;\n",
              "      border-right-color: var(--fill-color);\n",
              "    }\n",
              "    80% {\n",
              "      border-color: transparent;\n",
              "      border-right-color: var(--fill-color);\n",
              "      border-bottom-color: var(--fill-color);\n",
              "    }\n",
              "    90% {\n",
              "      border-color: transparent;\n",
              "      border-bottom-color: var(--fill-color);\n",
              "    }\n",
              "  }\n",
              "</style>\n",
              "\n",
              "  <script>\n",
              "    async function quickchart(key) {\n",
              "      const quickchartButtonEl =\n",
              "        document.querySelector('#' + key + ' button');\n",
              "      quickchartButtonEl.disabled = true;  // To prevent multiple clicks.\n",
              "      quickchartButtonEl.classList.add('colab-df-spinner');\n",
              "      try {\n",
              "        const charts = await google.colab.kernel.invokeFunction(\n",
              "            'suggestCharts', [key], {});\n",
              "      } catch (error) {\n",
              "        console.error('Error during call to suggestCharts:', error);\n",
              "      }\n",
              "      quickchartButtonEl.classList.remove('colab-df-spinner');\n",
              "      quickchartButtonEl.classList.add('colab-df-quickchart-complete');\n",
              "    }\n",
              "    (() => {\n",
              "      let quickchartButtonEl =\n",
              "        document.querySelector('#df-f5db9c40-949c-4944-91cf-0ffbd532293f button');\n",
              "      quickchartButtonEl.style.display =\n",
              "        google.colab.kernel.accessAllowed ? 'block' : 'none';\n",
              "    })();\n",
              "  </script>\n",
              "</div>\n",
              "\n",
              "    </div>\n",
              "  </div>\n"
            ],
            "application/vnd.google.colaboratory.intrinsic+json": {
              "type": "dataframe",
              "summary": "{\n  \"name\": \"df\",\n  \"rows\": 4,\n  \"fields\": [\n    {\n      \"column\": \"id\",\n      \"properties\": {\n        \"dtype\": \"string\",\n        \"num_unique_values\": 3,\n        \"samples\": [\n          \"36473\",\n          \"37d61fd2272659b1\",\n          \"1\"\n        ],\n        \"semantic_type\": \"\",\n        \"description\": \"\"\n      }\n    },\n    {\n      \"column\": \"anchor\",\n      \"properties\": {\n        \"dtype\": \"string\",\n        \"num_unique_values\": 4,\n        \"samples\": [\n          733,\n          \"152\",\n          \"36473\"\n        ],\n        \"semantic_type\": \"\",\n        \"description\": \"\"\n      }\n    },\n    {\n      \"column\": \"target\",\n      \"properties\": {\n        \"dtype\": \"string\",\n        \"num_unique_values\": 4,\n        \"samples\": [\n          29340,\n          \"24\",\n          \"36473\"\n        ],\n        \"semantic_type\": \"\",\n        \"description\": \"\"\n      }\n    },\n    {\n      \"column\": \"context\",\n      \"properties\": {\n        \"dtype\": \"string\",\n        \"num_unique_values\": 4,\n        \"samples\": [\n          106,\n          \"2186\",\n          \"36473\"\n        ],\n        \"semantic_type\": \"\",\n        \"description\": \"\"\n      }\n    }\n  ]\n}"
            }
          },
          "metadata": {},
          "execution_count": 31
        }
      ]
    },
    {
      "cell_type": "markdown",
      "source": [
        "We can see that in the 36473 rows, there are 733 unique anchors, 106 contexts, and nearly 30000 targets. Some anchors are very common, with \"component composite coating\" for instance appearing 152 times.\n",
        "\n",
        "Earlier, I suggested we could represent the input to the model as something like \"*TEXT1: abatement; TEXT2: eliminating process*\". We'll need to add the context to this too. In Pandas, we just use `+` to concatenate, like so:"
      ],
      "metadata": {
        "id": "t76zUsd_bbBg"
      }
    },
    {
      "cell_type": "code",
      "source": [
        "df['input'] = 'TEXT1: ' + df.context + '; TEXT2: ' + df.target + '; ANC1: ' + df.anchor"
      ],
      "metadata": {
        "execution": {
          "iopub.status.busy": "2022-04-19T22:50:25.22633Z",
          "iopub.execute_input": "2022-04-19T22:50:25.226581Z",
          "iopub.status.idle": "2022-04-19T22:50:25.256756Z",
          "shell.execute_reply.started": "2022-04-19T22:50:25.226549Z",
          "shell.execute_reply": "2022-04-19T22:50:25.256142Z"
        },
        "trusted": true,
        "id": "10RI7mqVbbBg"
      },
      "execution_count": null,
      "outputs": []
    },
    {
      "cell_type": "markdown",
      "source": [
        "We can refer to a column (also known as a *series*) either using regular python \"dotted\" notation, or access it like a dictionary. To get the first few rows, use `head()`:"
      ],
      "metadata": {
        "id": "qpk5LiyUbbBg"
      }
    },
    {
      "cell_type": "code",
      "source": [
        "df.input.head()"
      ],
      "metadata": {
        "execution": {
          "iopub.status.busy": "2022-04-19T22:50:25.258073Z",
          "iopub.execute_input": "2022-04-19T22:50:25.258323Z",
          "iopub.status.idle": "2022-04-19T22:50:25.266369Z",
          "shell.execute_reply.started": "2022-04-19T22:50:25.25829Z",
          "shell.execute_reply": "2022-04-19T22:50:25.26554Z"
        },
        "trusted": true,
        "id": "aemWLuwrbbBh"
      },
      "execution_count": null,
      "outputs": []
    },
    {
      "cell_type": "markdown",
      "source": [
        "## Tokenization"
      ],
      "metadata": {
        "id": "2xUrZRsVbbBh"
      }
    },
    {
      "cell_type": "markdown",
      "source": [
        "Transformers uses a `Dataset` object for storing a... well a dataset, of course! We can create one like so:"
      ],
      "metadata": {
        "id": "rW_ISVp1bbBh"
      }
    },
    {
      "cell_type": "code",
      "source": [
        "from datasets import Dataset,DatasetDict\n",
        "\n",
        "ds = Dataset.from_pandas(df)"
      ],
      "metadata": {
        "execution": {
          "iopub.status.busy": "2022-04-19T22:50:25.267623Z",
          "iopub.execute_input": "2022-04-19T22:50:25.267941Z",
          "iopub.status.idle": "2022-04-19T22:50:27.33017Z",
          "shell.execute_reply.started": "2022-04-19T22:50:25.267906Z",
          "shell.execute_reply": "2022-04-19T22:50:27.32933Z"
        },
        "trusted": true,
        "id": "NodAO_ObbbBh"
      },
      "execution_count": null,
      "outputs": []
    },
    {
      "cell_type": "markdown",
      "source": [
        "Here's how it's displayed in a notebook:"
      ],
      "metadata": {
        "id": "HkI9Rtz9bbBh"
      }
    },
    {
      "cell_type": "code",
      "source": [
        "ds"
      ],
      "metadata": {
        "execution": {
          "iopub.status.busy": "2022-04-19T22:50:27.331409Z",
          "iopub.execute_input": "2022-04-19T22:50:27.3318Z",
          "iopub.status.idle": "2022-04-19T22:50:27.343688Z",
          "shell.execute_reply.started": "2022-04-19T22:50:27.331754Z",
          "shell.execute_reply": "2022-04-19T22:50:27.34289Z"
        },
        "trusted": true,
        "id": "37-L5deHbbBi"
      },
      "execution_count": null,
      "outputs": []
    },
    {
      "cell_type": "markdown",
      "source": [
        "But we can't pass the texts directly into a model. A deep learning model expects numbers as inputs, not English sentences! So we need to do two things:\n",
        "\n",
        "- *Tokenization*: Split each text up into words (or actually, as we'll see, into *tokens*)\n",
        "- *Numericalization*: Convert each word (or token) into a number.\n",
        "\n",
        "The details about how this is done actually depend on the particular model we use. So first we'll need to pick a model. There are thousands of models available, but a reasonable starting point for nearly any NLP problem is to use this (replace \"small\" with \"large\" for a slower but more accurate model, once you've finished exploring):"
      ],
      "metadata": {
        "id": "YlEZyjQ7bbBm"
      }
    },
    {
      "cell_type": "code",
      "source": [
        "model_nm = 'microsoft/deberta-v3-small'"
      ],
      "metadata": {
        "execution": {
          "iopub.status.busy": "2022-04-19T22:50:27.34511Z",
          "iopub.execute_input": "2022-04-19T22:50:27.34548Z",
          "iopub.status.idle": "2022-04-19T22:50:27.350321Z",
          "shell.execute_reply.started": "2022-04-19T22:50:27.345436Z",
          "shell.execute_reply": "2022-04-19T22:50:27.348895Z"
        },
        "trusted": true,
        "id": "F8SbcQ_ebbBn"
      },
      "execution_count": null,
      "outputs": []
    },
    {
      "cell_type": "markdown",
      "source": [
        "`AutoTokenizer` will create a tokenizer appropriate for a given model:"
      ],
      "metadata": {
        "id": "M1TjZ6IBbbBn"
      }
    },
    {
      "cell_type": "code",
      "source": [
        "from transformers import AutoModelForSequenceClassification,AutoTokenizer\n",
        "tokz = AutoTokenizer.from_pretrained(model_nm)"
      ],
      "metadata": {
        "execution": {
          "iopub.status.busy": "2022-04-19T22:50:27.352982Z",
          "iopub.execute_input": "2022-04-19T22:50:27.354027Z",
          "iopub.status.idle": "2022-04-19T22:50:32.888486Z",
          "shell.execute_reply.started": "2022-04-19T22:50:27.353989Z",
          "shell.execute_reply": "2022-04-19T22:50:32.887654Z"
        },
        "trusted": true,
        "id": "YT-T6H-dbbBn"
      },
      "execution_count": null,
      "outputs": []
    },
    {
      "cell_type": "markdown",
      "source": [
        "Here's an example of how the tokenizer splits a text into \"tokens\" (which are like words, but can be sub-word pieces, as you see below):"
      ],
      "metadata": {
        "id": "StCHGcMYbbBo"
      }
    },
    {
      "cell_type": "code",
      "source": [
        "tokz.tokenize(\"G'day folks, I'm Jeremy from fast.ai!\")"
      ],
      "metadata": {
        "execution": {
          "iopub.status.busy": "2022-04-19T22:50:32.889685Z",
          "iopub.execute_input": "2022-04-19T22:50:32.889972Z",
          "iopub.status.idle": "2022-04-19T22:50:32.896362Z",
          "shell.execute_reply.started": "2022-04-19T22:50:32.889936Z",
          "shell.execute_reply": "2022-04-19T22:50:32.895562Z"
        },
        "trusted": true,
        "id": "L3HUnsr8bbBo"
      },
      "execution_count": null,
      "outputs": []
    },
    {
      "cell_type": "markdown",
      "source": [
        "Uncommon words will be split into pieces. The start of a new word is represented by `▁`:"
      ],
      "metadata": {
        "id": "tMWtc4kpbbBp"
      }
    },
    {
      "cell_type": "code",
      "source": [
        "tokz.tokenize(\"A platypus is an ornithorhynchus anatinus.\")"
      ],
      "metadata": {
        "execution": {
          "iopub.status.busy": "2022-04-19T22:50:32.903864Z",
          "iopub.execute_input": "2022-04-19T22:50:32.904487Z",
          "iopub.status.idle": "2022-04-19T22:50:32.91109Z",
          "shell.execute_reply.started": "2022-04-19T22:50:32.904456Z",
          "shell.execute_reply": "2022-04-19T22:50:32.910229Z"
        },
        "trusted": true,
        "id": "xHNXVUTnbbBp"
      },
      "execution_count": null,
      "outputs": []
    },
    {
      "cell_type": "markdown",
      "source": [
        "Here's a simple function which tokenizes our inputs:"
      ],
      "metadata": {
        "id": "Zqs9Rc3vbbBp"
      }
    },
    {
      "cell_type": "code",
      "source": [
        "def tok_func(x): return tokz(x[\"input\"])"
      ],
      "metadata": {
        "execution": {
          "iopub.status.busy": "2022-04-19T22:50:32.912176Z",
          "iopub.execute_input": "2022-04-19T22:50:32.912536Z",
          "iopub.status.idle": "2022-04-19T22:50:32.918514Z",
          "shell.execute_reply.started": "2022-04-19T22:50:32.9125Z",
          "shell.execute_reply": "2022-04-19T22:50:32.917626Z"
        },
        "trusted": true,
        "id": "SnaKJqFEbbBp"
      },
      "execution_count": null,
      "outputs": []
    },
    {
      "cell_type": "markdown",
      "source": [
        "To run this quickly in parallel on every row in our dataset, use `map`:"
      ],
      "metadata": {
        "id": "xB8nenXpbbBq"
      }
    },
    {
      "cell_type": "code",
      "source": [
        "tok_ds = ds.map(tok_func, batched=True)"
      ],
      "metadata": {
        "execution": {
          "iopub.status.busy": "2022-04-19T22:50:32.919819Z",
          "iopub.execute_input": "2022-04-19T22:50:32.920279Z",
          "iopub.status.idle": "2022-04-19T22:50:40.024032Z",
          "shell.execute_reply.started": "2022-04-19T22:50:32.920244Z",
          "shell.execute_reply": "2022-04-19T22:50:40.023189Z"
        },
        "trusted": true,
        "id": "zJJBeaODbbBq"
      },
      "execution_count": null,
      "outputs": []
    },
    {
      "cell_type": "markdown",
      "source": [
        "This adds a new item to our dataset called `input_ids`. For instance, here is the input and IDs for the first row of our data:"
      ],
      "metadata": {
        "id": "G5tgRGQVbbBq"
      }
    },
    {
      "cell_type": "code",
      "source": [
        "row = tok_ds[0]\n",
        "row['input'], row['input_ids']"
      ],
      "metadata": {
        "execution": {
          "iopub.status.busy": "2022-04-19T22:50:40.025285Z",
          "iopub.execute_input": "2022-04-19T22:50:40.025768Z",
          "iopub.status.idle": "2022-04-19T22:50:40.033207Z",
          "shell.execute_reply.started": "2022-04-19T22:50:40.025726Z",
          "shell.execute_reply": "2022-04-19T22:50:40.032522Z"
        },
        "trusted": true,
        "id": "a0YYClJDbbBq"
      },
      "execution_count": null,
      "outputs": []
    },
    {
      "cell_type": "markdown",
      "source": [
        "So, what are those IDs and where do they come from? The secret is that there's a list called `vocab` in the tokenizer which contains a unique integer for every possible token string. We can look them up like this, for instance to find the token for the word \"of\":"
      ],
      "metadata": {
        "id": "9fwuOSUibbBr"
      }
    },
    {
      "cell_type": "code",
      "source": [
        "tokz.vocab['▁of']"
      ],
      "metadata": {
        "execution": {
          "iopub.status.busy": "2022-04-19T22:50:40.034423Z",
          "iopub.execute_input": "2022-04-19T22:50:40.035157Z",
          "iopub.status.idle": "2022-04-19T22:50:40.043664Z",
          "shell.execute_reply.started": "2022-04-19T22:50:40.035118Z",
          "shell.execute_reply": "2022-04-19T22:50:40.04286Z"
        },
        "trusted": true,
        "id": "w7aLOlCEbbBr"
      },
      "execution_count": null,
      "outputs": []
    },
    {
      "cell_type": "markdown",
      "source": [
        "Looking above at our input IDs, we do indeed see that `265` appears as expected.\n",
        "\n",
        "Finally, we need to prepare our labels. Transformers always assumes that your labels has the column name `labels`, but in our dataset it's currently `score`. Therefore, we need to rename it:"
      ],
      "metadata": {
        "id": "3FkBwKSbbbBr"
      }
    },
    {
      "cell_type": "code",
      "source": [
        "tok_ds = tok_ds.rename_columns({'score':'labels'})"
      ],
      "metadata": {
        "execution": {
          "iopub.status.busy": "2022-04-19T22:50:40.044835Z",
          "iopub.execute_input": "2022-04-19T22:50:40.045192Z",
          "iopub.status.idle": "2022-04-19T22:50:40.05338Z",
          "shell.execute_reply.started": "2022-04-19T22:50:40.045156Z",
          "shell.execute_reply": "2022-04-19T22:50:40.05267Z"
        },
        "trusted": true,
        "id": "9Nzdq964bbBs"
      },
      "execution_count": null,
      "outputs": []
    },
    {
      "cell_type": "markdown",
      "source": [
        "Now that we've prepared our tokens and labels, we need to create our validation set."
      ],
      "metadata": {
        "id": "RMDcxxA2bbBs"
      }
    },
    {
      "cell_type": "markdown",
      "source": [
        "## Test and validation sets"
      ],
      "metadata": {
        "id": "lfAarHTsbbBt"
      }
    },
    {
      "cell_type": "markdown",
      "source": [
        "You may have noticed that our directory contained another file:"
      ],
      "metadata": {
        "id": "xfUAy32VbbBt"
      }
    },
    {
      "cell_type": "code",
      "source": [
        "eval_df = pd.read_csv(path/'test.csv')\n",
        "eval_df.describe()"
      ],
      "metadata": {
        "execution": {
          "iopub.status.busy": "2022-04-19T22:50:40.054687Z",
          "iopub.execute_input": "2022-04-19T22:50:40.055436Z",
          "iopub.status.idle": "2022-04-19T22:50:40.080344Z",
          "shell.execute_reply.started": "2022-04-19T22:50:40.055398Z",
          "shell.execute_reply": "2022-04-19T22:50:40.0797Z"
        },
        "trusted": true,
        "id": "0mdHczKubbBt"
      },
      "execution_count": null,
      "outputs": []
    },
    {
      "cell_type": "markdown",
      "source": [
        "This is the *test set*. Possibly the most important idea in machine learning is that of having separate training, validation, and test data sets."
      ],
      "metadata": {
        "id": "if0VG3-6bbBt"
      }
    },
    {
      "cell_type": "markdown",
      "source": [
        "### Validation set"
      ],
      "metadata": {
        "heading_collapsed": true,
        "id": "y06O1F-fbbBu"
      }
    },
    {
      "cell_type": "markdown",
      "source": [
        "To explain the motivation, let's start simple, and imagine we're trying to fit a model where the true relationship is this quadratic:"
      ],
      "metadata": {
        "hidden": true,
        "id": "W9SWHlkQbbBu"
      }
    },
    {
      "cell_type": "code",
      "source": [
        "def f(x): return -3*x**2 + 2*x + 20"
      ],
      "metadata": {
        "hidden": true,
        "execution": {
          "iopub.status.busy": "2022-04-19T22:50:40.081507Z",
          "iopub.execute_input": "2022-04-19T22:50:40.083018Z",
          "iopub.status.idle": "2022-04-19T22:50:40.086665Z",
          "shell.execute_reply.started": "2022-04-19T22:50:40.082981Z",
          "shell.execute_reply": "2022-04-19T22:50:40.085797Z"
        },
        "trusted": true,
        "id": "KYXen727bbBu"
      },
      "execution_count": null,
      "outputs": []
    },
    {
      "cell_type": "markdown",
      "source": [
        "Unfortunately matplotlib (the most common library for plotting in Python) doesn't come with a way to visualize a function, so we'll write something to do this ourselves:"
      ],
      "metadata": {
        "hidden": true,
        "id": "aer86bq7bbBu"
      }
    },
    {
      "cell_type": "code",
      "source": [
        "import numpy as np, matplotlib.pyplot as plt\n",
        "\n",
        "def plot_function(f, min=-2.1, max=2.1, color='r'):\n",
        "    x = np.linspace(min,max, 100)[:,None]\n",
        "    plt.plot(x, f(x), color)"
      ],
      "metadata": {
        "hidden": true,
        "execution": {
          "iopub.status.busy": "2022-04-19T22:50:40.087927Z",
          "iopub.execute_input": "2022-04-19T22:50:40.08842Z",
          "iopub.status.idle": "2022-04-19T22:50:40.09535Z",
          "shell.execute_reply.started": "2022-04-19T22:50:40.088386Z",
          "shell.execute_reply": "2022-04-19T22:50:40.094666Z"
        },
        "trusted": true,
        "id": "g6sljhNmbbBu"
      },
      "execution_count": null,
      "outputs": []
    },
    {
      "cell_type": "markdown",
      "source": [
        "Here's what our function looks like:"
      ],
      "metadata": {
        "hidden": true,
        "id": "-R7YE9FgbbBu"
      }
    },
    {
      "cell_type": "code",
      "source": [
        "plot_function(f)"
      ],
      "metadata": {
        "hidden": true,
        "execution": {
          "iopub.status.busy": "2022-04-19T22:50:40.096774Z",
          "iopub.execute_input": "2022-04-19T22:50:40.097207Z",
          "iopub.status.idle": "2022-04-19T22:50:40.302644Z",
          "shell.execute_reply.started": "2022-04-19T22:50:40.097166Z",
          "shell.execute_reply": "2022-04-19T22:50:40.301994Z"
        },
        "trusted": true,
        "id": "asg5yIDVbbBv"
      },
      "execution_count": null,
      "outputs": []
    },
    {
      "cell_type": "markdown",
      "source": [
        "For instance, perhaps we've measured the height above ground of an object before and after some event. The measurements will have some random error. We can use numpy's random number generator to simulate that. I like to use `seed` when writing about simulations like this so that I know you'll see the same thing I do:"
      ],
      "metadata": {
        "hidden": true,
        "id": "iskOYpsvbbBv"
      }
    },
    {
      "cell_type": "code",
      "source": [
        "from numpy.random import normal,seed,uniform\n",
        "np.random.seed(42)"
      ],
      "metadata": {
        "hidden": true,
        "execution": {
          "iopub.status.busy": "2022-04-19T22:50:40.303814Z",
          "iopub.execute_input": "2022-04-19T22:50:40.304201Z",
          "iopub.status.idle": "2022-04-19T22:50:40.308089Z",
          "shell.execute_reply.started": "2022-04-19T22:50:40.304166Z",
          "shell.execute_reply": "2022-04-19T22:50:40.307332Z"
        },
        "trusted": true,
        "id": "cRYV4YfYbbBv"
      },
      "execution_count": null,
      "outputs": []
    },
    {
      "cell_type": "markdown",
      "source": [
        "Here's a function `add_noise` that adds some random variation to an array:"
      ],
      "metadata": {
        "hidden": true,
        "id": "ac7kEDbgbbBv"
      }
    },
    {
      "cell_type": "code",
      "source": [
        "def noise(x, scale): return normal(scale=scale, size=x.shape)\n",
        "def add_noise(x, mult, add): return x * (1+noise(x,mult)) + noise(x,add)"
      ],
      "metadata": {
        "hidden": true,
        "execution": {
          "iopub.status.busy": "2022-04-19T22:50:40.309302Z",
          "iopub.execute_input": "2022-04-19T22:50:40.310083Z",
          "iopub.status.idle": "2022-04-19T22:50:40.317335Z",
          "shell.execute_reply.started": "2022-04-19T22:50:40.310049Z",
          "shell.execute_reply": "2022-04-19T22:50:40.316644Z"
        },
        "trusted": true,
        "id": "EfzbpK6jbbBv"
      },
      "execution_count": null,
      "outputs": []
    },
    {
      "cell_type": "markdown",
      "source": [
        "Let's use it to simulate some measurements evenly distributed over time:"
      ],
      "metadata": {
        "hidden": true,
        "id": "8ankVw_PbbBw"
      }
    },
    {
      "cell_type": "code",
      "source": [
        "x = np.linspace(-2, 2, num=20)[:,None]\n",
        "y = add_noise(f(x), 0.2, 1.3)\n",
        "plt.scatter(x,y);"
      ],
      "metadata": {
        "hidden": true,
        "execution": {
          "iopub.status.busy": "2022-04-19T22:50:40.318641Z",
          "iopub.execute_input": "2022-04-19T22:50:40.318943Z",
          "iopub.status.idle": "2022-04-19T22:50:40.538437Z",
          "shell.execute_reply.started": "2022-04-19T22:50:40.318907Z",
          "shell.execute_reply": "2022-04-19T22:50:40.537815Z"
        },
        "trusted": true,
        "id": "yaWdVZKZbbBw"
      },
      "execution_count": null,
      "outputs": []
    },
    {
      "cell_type": "markdown",
      "source": [
        "Now let's see what happens if we *underfit* or *overfit* these predictions. To do that, we'll create a function that fits a polynomial of some degree (e.g. a line is degree 1, quadratic is degree 2, cubic is degree 3, etc). The details of how this function works don't matter too much so feel free to skip over it if you like!  (PS: if you're not sure about the jargon around polynomials, here's a [great video](https://www.youtube.com/watch?v=ffLLmV4mZwU) which teaches you what you'll need to know.)"
      ],
      "metadata": {
        "hidden": true,
        "id": "arbz0zKdbbBw"
      }
    },
    {
      "cell_type": "code",
      "source": [
        "from sklearn.linear_model import LinearRegression\n",
        "from sklearn.preprocessing import PolynomialFeatures\n",
        "from sklearn.pipeline import make_pipeline\n",
        "\n",
        "def plot_poly(degree):\n",
        "    model = make_pipeline(PolynomialFeatures(degree), LinearRegression())\n",
        "    model.fit(x, y)\n",
        "    plt.scatter(x,y)\n",
        "    plot_function(model.predict)"
      ],
      "metadata": {
        "hidden": true,
        "execution": {
          "iopub.status.busy": "2022-04-19T22:50:40.539573Z",
          "iopub.execute_input": "2022-04-19T22:50:40.539829Z",
          "iopub.status.idle": "2022-04-19T22:50:41.55072Z",
          "shell.execute_reply.started": "2022-04-19T22:50:40.539771Z",
          "shell.execute_reply": "2022-04-19T22:50:41.54997Z"
        },
        "trusted": true,
        "id": "3oSlK2OzbbBw"
      },
      "execution_count": null,
      "outputs": []
    },
    {
      "cell_type": "markdown",
      "source": [
        "So, what happens if we fit a line (a \"degree 1 polynomial\") to our measurements?"
      ],
      "metadata": {
        "hidden": true,
        "id": "AAcVkkqybbBx"
      }
    },
    {
      "cell_type": "code",
      "source": [
        "plot_poly(1)"
      ],
      "metadata": {
        "hidden": true,
        "execution": {
          "iopub.status.busy": "2022-04-19T22:50:41.552351Z",
          "iopub.execute_input": "2022-04-19T22:50:41.552615Z",
          "iopub.status.idle": "2022-04-19T22:50:41.805475Z",
          "shell.execute_reply.started": "2022-04-19T22:50:41.552578Z",
          "shell.execute_reply": "2022-04-19T22:50:41.80484Z"
        },
        "trusted": true,
        "id": "ajv93De8bbBx"
      },
      "execution_count": null,
      "outputs": []
    },
    {
      "cell_type": "markdown",
      "source": [
        "As you see, the points on the red line (the line we fitted) aren't very close at all. This is *under-fit* -- there's not enough detail in our function to match our data.\n",
        "\n",
        "And what happens if we fit a degree 10 polynomial to our measurements?"
      ],
      "metadata": {
        "hidden": true,
        "id": "x5sJJWDmbbBx"
      }
    },
    {
      "cell_type": "code",
      "source": [
        "plot_poly(10)"
      ],
      "metadata": {
        "hidden": true,
        "execution": {
          "iopub.status.busy": "2022-04-19T22:50:41.806743Z",
          "iopub.execute_input": "2022-04-19T22:50:41.806999Z",
          "iopub.status.idle": "2022-04-19T22:50:41.990392Z",
          "shell.execute_reply.started": "2022-04-19T22:50:41.806965Z",
          "shell.execute_reply": "2022-04-19T22:50:41.989678Z"
        },
        "trusted": true,
        "id": "mBtobVGIbbBx"
      },
      "execution_count": null,
      "outputs": []
    },
    {
      "cell_type": "markdown",
      "source": [
        "Well now it fits our data better, but it doesn't look like it'll do a great job predicting points other than those we measured -- especially those in earlier or later time periods. This is *over-fit* -- there's too much detail such that the model fits our points, but not the underlying process we really care about.\n",
        "\n",
        "Let's try a degree 2 polynomial (a quadratic), and compare it to our \"true\" function (in blue):"
      ],
      "metadata": {
        "hidden": true,
        "id": "uPEDlg7vbbBx"
      }
    },
    {
      "cell_type": "code",
      "source": [
        "plot_poly(2)\n",
        "plot_function(f, color='b')"
      ],
      "metadata": {
        "hidden": true,
        "execution": {
          "iopub.status.busy": "2022-04-19T22:50:41.991733Z",
          "iopub.execute_input": "2022-04-19T22:50:41.992042Z",
          "iopub.status.idle": "2022-04-19T22:50:42.181247Z",
          "shell.execute_reply.started": "2022-04-19T22:50:41.991988Z",
          "shell.execute_reply": "2022-04-19T22:50:42.180598Z"
        },
        "trusted": true,
        "id": "SkPT47fWbbBy"
      },
      "execution_count": null,
      "outputs": []
    },
    {
      "cell_type": "markdown",
      "source": [
        "That's not bad at all!\n",
        "\n",
        "So, how do we recognise whether our models are under-fit, over-fit, or \"just right\"? We use a *validation set*. This is a set of data that we \"hold out\" from training -- we don't let our model see it at all. If you use the fastai library, it automatically creates a validation set for you if you don't have one, and will always report metrics (measurements of the accuracy of a model) using the validation set.\n",
        "\n",
        "The validation set is *only* ever used to see how we're doing. It's *never* used as inputs to training the model.\n",
        "\n",
        "Transformers uses a `DatasetDict` for holding your training and validation sets. To create one that contains 25% of our data for the validation set, and 75% for the training set, use `train_test_split`:"
      ],
      "metadata": {
        "hidden": true,
        "id": "wFF4umM_bbBy"
      }
    },
    {
      "cell_type": "code",
      "source": [
        "dds = tok_ds.train_test_split(0.25, seed=42)\n",
        "dds"
      ],
      "metadata": {
        "hidden": true,
        "execution": {
          "iopub.status.busy": "2022-04-19T22:50:42.182472Z",
          "iopub.execute_input": "2022-04-19T22:50:42.182706Z",
          "iopub.status.idle": "2022-04-19T22:50:42.206436Z",
          "shell.execute_reply.started": "2022-04-19T22:50:42.182674Z",
          "shell.execute_reply": "2022-04-19T22:50:42.205623Z"
        },
        "trusted": true,
        "id": "ZqTpS6SvbbBy"
      },
      "execution_count": null,
      "outputs": []
    },
    {
      "cell_type": "markdown",
      "source": [
        "As you see above, the validation set here is called `test` and not `validate`, so be careful!\n",
        "\n",
        "In practice, a random split like we've used here might not be a good idea -- here's what Dr Rachel Thomas has to say about it:\n",
        "\n",
        "> \"*One of the most likely culprits for this disconnect between results in development vs results in production is a poorly chosen validation set (or even worse, no validation set at all). Depending on the nature of your data, choosing a validation set can be the most important step. Although sklearn offers a `train_test_split` method, this method takes a random subset of the data, which is a poor choice for many real-world problems.*\"\n",
        "\n",
        "I strongly recommend reading her article [How (and why) to create a good validation set](https://www.fast.ai/2017/11/13/validation-sets/) to more fully understand this critical topic."
      ],
      "metadata": {
        "hidden": true,
        "id": "yL_oXhnzbbBy"
      }
    },
    {
      "cell_type": "markdown",
      "source": [
        "### Test set"
      ],
      "metadata": {
        "heading_collapsed": true,
        "id": "cWoPvlmWbbBz"
      }
    },
    {
      "cell_type": "markdown",
      "source": [
        "So that's the validation set explained, and created. What about the \"test set\" then -- what's that for?\n",
        "\n",
        "The *test set* is yet another dataset that's held out from training. But it's held out from reporting metrics too! The accuracy of your model on the test set is only ever checked after you've completed your entire training process, including trying different models, training methods, data processing, etc.\n",
        "\n",
        "You see, as you try all these different things, to see their impact on the metrics on the validation set, you might just accidentally find a few things that entirely coincidentally improve your validation set metrics, but aren't really better in practice. Given enough time and experiments, you'll find lots of these coincidental improvements. That means you're actually over-fitting to your validation set!\n",
        "\n",
        "That's why we keep a test set held back. Kaggle's public leaderboard is like a test set that you can check from time to time. But don't check too often, or you'll be even over-fitting to the test set!\n",
        "\n",
        "Kaggle has a *second* test set, which is yet another held-out dataset that's only used at the *end* of the competition to assess your predictions. That's called the \"private leaderboard\". Here's a [great post](https://gregpark.io/blog/Kaggle-Psychopathy-Postmortem/) about what can happen if you overfit to the public leaderboard.\n",
        "\n",
        "We'll use `eval` as our name for the test set, to avoid confusion with the `test` dataset that was created above."
      ],
      "metadata": {
        "hidden": true,
        "id": "e4jK6rDZbbBz"
      }
    },
    {
      "cell_type": "code",
      "source": [
        "eval_df['input'] = 'TEXT1: ' + eval_df.context + '; TEXT2: ' + eval_df.target + '; ANC1: ' + eval_df.anchor\n",
        "eval_ds = Dataset.from_pandas(eval_df).map(tok_func, batched=True)"
      ],
      "metadata": {
        "hidden": true,
        "execution": {
          "iopub.status.busy": "2022-04-19T22:50:42.208514Z",
          "iopub.execute_input": "2022-04-19T22:50:42.209142Z",
          "iopub.status.idle": "2022-04-19T22:50:43.285224Z",
          "shell.execute_reply.started": "2022-04-19T22:50:42.209113Z",
          "shell.execute_reply": "2022-04-19T22:50:43.284504Z"
        },
        "trusted": true,
        "id": "YYDAO5QPbbBz"
      },
      "execution_count": null,
      "outputs": []
    },
    {
      "cell_type": "markdown",
      "source": [
        "## Metrics and correlation"
      ],
      "metadata": {
        "heading_collapsed": true,
        "id": "xSaZYg2bbbB0"
      }
    },
    {
      "cell_type": "markdown",
      "source": [
        "When we're training a model, there will be one or more *metrics* that we're interested in maximising or minimising. These are the measurements that should, hopefully, represent how well our model will works for us.\n",
        "\n",
        "In real life, outside of Kaggle, things not easy... As my partner Dr Rachel Thomas notes in [The problem with metrics is a big problem for AI](https://www.fast.ai/2019/09/24/metrics/):\n",
        "\n",
        ">  At their heart, what most current AI approaches do is to optimize metrics. The practice of optimizing metrics is not new nor unique to AI, yet AI can be particularly efficient (even too efficient!) at doing so. This is important to understand, because any risks of optimizing metrics are heightened by AI. While metrics can be useful in their proper place, there are harms when they are unthinkingly applied. Some of the scariest instances of algorithms run amok all result from over-emphasizing metrics. We have to understand this dynamic in order to understand the urgent risks we are facing due to misuse of AI.\n",
        "\n",
        "In Kaggle, however, it's very straightforward to know what metric to use: Kaggle will tell you! According to this competition's [evaluation page](https://www.kaggle.com/competitions/us-patent-phrase-to-phrase-matching/overview/evaluation), \"*submissions are evaluated on the [Pearson correlation coefficient](https://en.wikipedia.org/wiki/Pearson_correlation_coefficient) between the predicted and actual similarity scores*.\" This coefficient is usually abbreviated using the single letter *r*. It is the most widely used measure of the degree of relationship between two variables.\n",
        "\n",
        "r can vary between `-1`, which means perfect inverse correlation, and `+1`, which means perfect positive correlation. The mathematical formula for it is much less important than getting a good intuition for what the different values look like. To start to get that intuition, let's look at some examples using the [California Housing](https://scikit-learn.org/stable/datasets/real_world.html#california-housing-dataset) dataset, which shows \"*is the median house value for California districts, expressed in hundreds of thousands of dollars*\". This dataset is provided by the excellent [scikit-learn](https://scikit-learn.org/stable/) library, which is the most widely used library for machine learning outside of deep learning."
      ],
      "metadata": {
        "hidden": true,
        "id": "HtMald-_bbB0"
      }
    },
    {
      "cell_type": "code",
      "source": [
        "from sklearn.datasets import fetch_california_housing\n",
        "housing = fetch_california_housing(as_frame=True)\n",
        "housing = housing['data'].join(housing['target']).sample(1000, random_state=52)\n",
        "housing.head()"
      ],
      "metadata": {
        "hidden": true,
        "execution": {
          "iopub.status.busy": "2022-04-19T22:50:43.286609Z",
          "iopub.execute_input": "2022-04-19T22:50:43.287069Z",
          "iopub.status.idle": "2022-04-19T22:50:45.695379Z",
          "shell.execute_reply.started": "2022-04-19T22:50:43.287033Z",
          "shell.execute_reply": "2022-04-19T22:50:45.694638Z"
        },
        "trusted": true,
        "id": "DYT9iwwxbbB1"
      },
      "execution_count": null,
      "outputs": []
    },
    {
      "cell_type": "markdown",
      "source": [
        "We can see all the correlation coefficients for every combination of columns in this dataset by calling `np.corrcoef`:"
      ],
      "metadata": {
        "hidden": true,
        "id": "lW1Amg0hbbB2"
      }
    },
    {
      "cell_type": "code",
      "source": [
        "np.set_printoptions(precision=2, suppress=True)\n",
        "\n",
        "np.corrcoef(housing, rowvar=False)"
      ],
      "metadata": {
        "hidden": true,
        "execution": {
          "iopub.status.busy": "2022-04-19T22:50:45.696556Z",
          "iopub.execute_input": "2022-04-19T22:50:45.696814Z",
          "iopub.status.idle": "2022-04-19T22:50:45.706279Z",
          "shell.execute_reply.started": "2022-04-19T22:50:45.696764Z",
          "shell.execute_reply": "2022-04-19T22:50:45.705491Z"
        },
        "trusted": true,
        "id": "d5SMWr_1bbB2"
      },
      "execution_count": null,
      "outputs": []
    },
    {
      "cell_type": "markdown",
      "source": [
        "This works well when we're getting a bunch of values at once, but it's overkill when we want a single coefficient:"
      ],
      "metadata": {
        "hidden": true,
        "id": "jK9TYzRybbB2"
      }
    },
    {
      "cell_type": "code",
      "source": [
        "np.corrcoef(housing.MedInc, housing.MedHouseVal)"
      ],
      "metadata": {
        "hidden": true,
        "execution": {
          "iopub.status.busy": "2022-04-19T22:50:45.707653Z",
          "iopub.execute_input": "2022-04-19T22:50:45.707925Z",
          "iopub.status.idle": "2022-04-19T22:50:45.714801Z",
          "shell.execute_reply.started": "2022-04-19T22:50:45.70789Z",
          "shell.execute_reply": "2022-04-19T22:50:45.714099Z"
        },
        "trusted": true,
        "id": "UWHglXfCbbB2"
      },
      "execution_count": null,
      "outputs": []
    },
    {
      "cell_type": "markdown",
      "source": [
        "Therefore, we'll create this little function to just return the single number we need given a pair of variables:"
      ],
      "metadata": {
        "hidden": true,
        "id": "i_a2VaiHbbB3"
      }
    },
    {
      "cell_type": "code",
      "source": [
        "def corr(x,y): return np.corrcoef(x,y)[0][1]\n",
        "\n",
        "corr(housing.MedInc, housing.MedHouseVal)"
      ],
      "metadata": {
        "hidden": true,
        "execution": {
          "iopub.status.busy": "2022-04-19T22:50:45.716399Z",
          "iopub.execute_input": "2022-04-19T22:50:45.716984Z",
          "iopub.status.idle": "2022-04-19T22:50:45.725866Z",
          "shell.execute_reply.started": "2022-04-19T22:50:45.716828Z",
          "shell.execute_reply": "2022-04-19T22:50:45.724914Z"
        },
        "trusted": true,
        "id": "fUUSRPOHbbB3"
      },
      "execution_count": null,
      "outputs": []
    },
    {
      "cell_type": "markdown",
      "source": [
        "Now we'll look at a few examples of correlations, using this function (the details of the function don't matter too much):"
      ],
      "metadata": {
        "hidden": true,
        "id": "CsxY-Q_AbbB3"
      }
    },
    {
      "cell_type": "code",
      "source": [
        "def show_corr(df, a, b):\n",
        "    x,y = df[a],df[b]\n",
        "    plt.scatter(x,y, alpha=0.5, s=4)\n",
        "    plt.title(f'{a} vs {b}; r: {corr(x, y):.2f}')"
      ],
      "metadata": {
        "hidden": true,
        "execution": {
          "iopub.status.busy": "2022-04-19T22:50:45.727239Z",
          "iopub.execute_input": "2022-04-19T22:50:45.727521Z",
          "iopub.status.idle": "2022-04-19T22:50:45.73348Z",
          "shell.execute_reply.started": "2022-04-19T22:50:45.727485Z",
          "shell.execute_reply": "2022-04-19T22:50:45.732695Z"
        },
        "trusted": true,
        "id": "xAnVhzo9bbB4"
      },
      "execution_count": null,
      "outputs": []
    },
    {
      "cell_type": "markdown",
      "source": [
        "OK, let's check out the correlation between income and house value:"
      ],
      "metadata": {
        "hidden": true,
        "id": "wZzdRE5ybbB4"
      }
    },
    {
      "cell_type": "code",
      "source": [
        "show_corr(housing, 'MedInc', 'MedHouseVal')"
      ],
      "metadata": {
        "hidden": true,
        "execution": {
          "iopub.status.busy": "2022-04-19T22:50:45.734925Z",
          "iopub.execute_input": "2022-04-19T22:50:45.735373Z",
          "iopub.status.idle": "2022-04-19T22:50:45.934349Z",
          "shell.execute_reply.started": "2022-04-19T22:50:45.735339Z",
          "shell.execute_reply": "2022-04-19T22:50:45.933604Z"
        },
        "trusted": true,
        "id": "hXOgQmdbbbB4"
      },
      "execution_count": null,
      "outputs": []
    },
    {
      "cell_type": "markdown",
      "source": [
        "So that's what a correlation of 0.68 looks like. It's quite a close relationship, but there's still a lot of variation. (Incidentally, this also shows why looking at your data is so important -- we can see clearly in this plot that house prices above $500,000 seem to have been truncated to that maximum value).\n",
        "\n",
        "Let's take a look at another pair:"
      ],
      "metadata": {
        "hidden": true,
        "id": "mUYOeSw9bbB5"
      }
    },
    {
      "cell_type": "code",
      "source": [
        "show_corr(housing, 'MedInc', 'AveRooms')"
      ],
      "metadata": {
        "hidden": true,
        "execution": {
          "iopub.status.busy": "2022-04-19T22:50:45.936529Z",
          "iopub.execute_input": "2022-04-19T22:50:45.936766Z",
          "iopub.status.idle": "2022-04-19T22:50:46.140068Z",
          "shell.execute_reply.started": "2022-04-19T22:50:45.936734Z",
          "shell.execute_reply": "2022-04-19T22:50:46.139406Z"
        },
        "trusted": true,
        "id": "AaCQWPF5bbB5"
      },
      "execution_count": null,
      "outputs": []
    },
    {
      "cell_type": "markdown",
      "source": [
        "The relationship looks like it is similarly close to the previous example, but r is much lower than the income vs valuation case. Why is that? The reason is that there are a lot of *outliers* -- values of `AveRooms` well outside the mean.\n",
        "\n",
        "r is very sensitive to outliers. If there's outliers in your data, then the relationship between them will dominate the metric. In this case, the houses with a very high number of rooms don't tend to be that valuable, so it's decreasing r from where it would otherwise be.\n",
        "\n",
        "Let's remove the outliers and try again:"
      ],
      "metadata": {
        "hidden": true,
        "id": "UYU6t30SbbB6"
      }
    },
    {
      "cell_type": "code",
      "source": [
        "subset = housing[housing.AveRooms<15]\n",
        "show_corr(subset, 'MedInc', 'AveRooms')"
      ],
      "metadata": {
        "hidden": true,
        "execution": {
          "iopub.status.busy": "2022-04-19T22:50:46.141412Z",
          "iopub.execute_input": "2022-04-19T22:50:46.141685Z",
          "iopub.status.idle": "2022-04-19T22:50:46.338356Z",
          "shell.execute_reply.started": "2022-04-19T22:50:46.141649Z",
          "shell.execute_reply": "2022-04-19T22:50:46.337634Z"
        },
        "trusted": true,
        "id": "aBH9K4uWbbB7"
      },
      "execution_count": null,
      "outputs": []
    },
    {
      "cell_type": "markdown",
      "source": [
        "As we expected, now the correlation is very similar to our first comparison.\n",
        "\n",
        "Here's another relationship using `AveRooms` on the subset:"
      ],
      "metadata": {
        "hidden": true,
        "id": "38xDDTC6bbB7"
      }
    },
    {
      "cell_type": "code",
      "source": [
        "show_corr(subset, 'MedHouseVal', 'AveRooms')"
      ],
      "metadata": {
        "hidden": true,
        "execution": {
          "iopub.status.busy": "2022-04-19T22:50:46.339686Z",
          "iopub.execute_input": "2022-04-19T22:50:46.339954Z",
          "iopub.status.idle": "2022-04-19T22:50:46.525259Z",
          "shell.execute_reply.started": "2022-04-19T22:50:46.33992Z",
          "shell.execute_reply": "2022-04-19T22:50:46.5246Z"
        },
        "trusted": true,
        "id": "Z7DPjRoBbbB8"
      },
      "execution_count": null,
      "outputs": []
    },
    {
      "cell_type": "markdown",
      "source": [
        "At this level, with r of 0.34, the relationship is becoming quite weak.\n",
        "\n",
        "Let's look at one more:"
      ],
      "metadata": {
        "hidden": true,
        "id": "f3AgHAZ3bbB8"
      }
    },
    {
      "cell_type": "code",
      "source": [
        "show_corr(subset, 'HouseAge', 'AveRooms')"
      ],
      "metadata": {
        "hidden": true,
        "execution": {
          "iopub.status.busy": "2022-04-19T22:50:46.526533Z",
          "iopub.execute_input": "2022-04-19T22:50:46.526758Z",
          "iopub.status.idle": "2022-04-19T22:50:46.713907Z",
          "shell.execute_reply.started": "2022-04-19T22:50:46.526726Z",
          "shell.execute_reply": "2022-04-19T22:50:46.71321Z"
        },
        "trusted": true,
        "id": "ya870V4tbbB9"
      },
      "execution_count": null,
      "outputs": []
    },
    {
      "cell_type": "markdown",
      "source": [
        "As you see here, a correlation of -0.2 shows a very weak negative trend.\n",
        "\n",
        "We've seen now examples of a variety of levels of correlation coefficient, so hopefully you're getting a good sense of what this metric means.\n",
        "\n",
        "Transformers expects metrics to be returned as a `dict`, since that way the trainer knows what label to use, so let's create a function to do that:"
      ],
      "metadata": {
        "hidden": true,
        "id": "KKNyqY46bbB9"
      }
    },
    {
      "cell_type": "code",
      "source": [
        "def corr_d(eval_pred): return {'pearson': corr(*eval_pred)}"
      ],
      "metadata": {
        "hidden": true,
        "execution": {
          "iopub.status.busy": "2022-04-19T22:50:46.714967Z",
          "iopub.execute_input": "2022-04-19T22:50:46.715747Z",
          "iopub.status.idle": "2022-04-19T22:50:46.720156Z",
          "shell.execute_reply.started": "2022-04-19T22:50:46.715707Z",
          "shell.execute_reply": "2022-04-19T22:50:46.719423Z"
        },
        "trusted": true,
        "id": "aX4Bg1hIbbB9"
      },
      "execution_count": null,
      "outputs": []
    },
    {
      "cell_type": "markdown",
      "source": [
        "## Training"
      ],
      "metadata": {
        "id": "F3i63EyubbB9"
      }
    },
    {
      "cell_type": "markdown",
      "source": [
        "## Training our model"
      ],
      "metadata": {
        "id": "jTSwq5SZbbB-"
      }
    },
    {
      "cell_type": "markdown",
      "source": [
        "To train a model in Transformers we'll need this:"
      ],
      "metadata": {
        "id": "_Jnb9AtUbbB-"
      }
    },
    {
      "cell_type": "code",
      "source": [
        "from transformers import TrainingArguments,Trainer"
      ],
      "metadata": {
        "execution": {
          "iopub.status.busy": "2022-04-19T22:50:46.721475Z",
          "iopub.execute_input": "2022-04-19T22:50:46.722217Z",
          "iopub.status.idle": "2022-04-19T22:50:50.49162Z",
          "shell.execute_reply.started": "2022-04-19T22:50:46.722181Z",
          "shell.execute_reply": "2022-04-19T22:50:50.490895Z"
        },
        "trusted": true,
        "id": "iD4ae_t2bbB-"
      },
      "execution_count": null,
      "outputs": []
    },
    {
      "cell_type": "markdown",
      "source": [
        "We pick a batch size that fits our GPU, and small number of epochs so we can run experiments quickly:"
      ],
      "metadata": {
        "id": "Roof2gKvbbB-"
      }
    },
    {
      "cell_type": "code",
      "source": [
        "bs = 128\n",
        "epochs = 4"
      ],
      "metadata": {
        "execution": {
          "iopub.status.busy": "2022-04-19T22:50:50.493123Z",
          "iopub.execute_input": "2022-04-19T22:50:50.493385Z",
          "iopub.status.idle": "2022-04-19T22:50:50.497666Z",
          "shell.execute_reply.started": "2022-04-19T22:50:50.493351Z",
          "shell.execute_reply": "2022-04-19T22:50:50.496574Z"
        },
        "trusted": true,
        "id": "3sLnyNUpbbB-"
      },
      "execution_count": null,
      "outputs": []
    },
    {
      "cell_type": "markdown",
      "source": [
        "The most important hyperparameter is the learning rate. fastai provides a learning rate finder to help you figure this out, but Transformers doesn't, so you'll just have to use trial and error. The idea is to find the largest value you can, but which doesn't result in training failing."
      ],
      "metadata": {
        "id": "E6fhckxQbbB_"
      }
    },
    {
      "cell_type": "code",
      "source": [
        "lr = 8e-5"
      ],
      "metadata": {
        "execution": {
          "iopub.status.busy": "2022-04-19T22:50:50.499023Z",
          "iopub.execute_input": "2022-04-19T22:50:50.499529Z",
          "iopub.status.idle": "2022-04-19T22:50:50.50552Z",
          "shell.execute_reply.started": "2022-04-19T22:50:50.499493Z",
          "shell.execute_reply": "2022-04-19T22:50:50.504727Z"
        },
        "trusted": true,
        "id": "LsOxlieUbbB_"
      },
      "execution_count": null,
      "outputs": []
    },
    {
      "cell_type": "markdown",
      "source": [
        "Transformers uses the `TrainingArguments` class to set up arguments. Don't worry too much about the values we're using here -- they should generally work fine in most cases. It's just the 3 parameters above that you may need to change for different models."
      ],
      "metadata": {
        "id": "XJB6EPt0bbB_"
      }
    },
    {
      "cell_type": "code",
      "source": [
        "args = TrainingArguments('outputs', learning_rate=lr, warmup_ratio=0.1, lr_scheduler_type='cosine', fp16=True,\n",
        "    evaluation_strategy=\"epoch\", per_device_train_batch_size=bs, per_device_eval_batch_size=bs*2,\n",
        "    num_train_epochs=epochs, weight_decay=0.01, report_to='none')"
      ],
      "metadata": {
        "execution": {
          "iopub.status.busy": "2022-04-19T22:50:50.511094Z",
          "iopub.execute_input": "2022-04-19T22:50:50.511688Z",
          "iopub.status.idle": "2022-04-19T22:50:50.571158Z",
          "shell.execute_reply.started": "2022-04-19T22:50:50.511653Z",
          "shell.execute_reply": "2022-04-19T22:50:50.570503Z"
        },
        "trusted": true,
        "id": "A_aEPl-PbbB_"
      },
      "execution_count": null,
      "outputs": []
    },
    {
      "cell_type": "markdown",
      "source": [
        "We can now create our model, and `Trainer`, which is a class which combines the data and model together (just like `Learner` in fastai):"
      ],
      "metadata": {
        "id": "8GT0VKBBbbB_"
      }
    },
    {
      "cell_type": "code",
      "source": [
        "model = AutoModelForSequenceClassification.from_pretrained(model_nm, num_labels=1)\n",
        "trainer = Trainer(model, args, train_dataset=dds['train'], eval_dataset=dds['test'],\n",
        "                  tokenizer=tokz, compute_metrics=corr_d)"
      ],
      "metadata": {
        "execution": {
          "iopub.status.busy": "2022-04-19T22:50:50.572318Z",
          "iopub.execute_input": "2022-04-19T22:50:50.57282Z",
          "iopub.status.idle": "2022-04-19T22:51:06.368797Z",
          "shell.execute_reply.started": "2022-04-19T22:50:50.57276Z",
          "shell.execute_reply": "2022-04-19T22:51:06.368066Z"
        },
        "trusted": true,
        "id": "x3DOMNqzbbCA"
      },
      "execution_count": null,
      "outputs": []
    },
    {
      "cell_type": "markdown",
      "source": [
        "As you see, Transformers spits out lots of warnings. You can safely ignore them.\n",
        "\n",
        "Let's train our model!"
      ],
      "metadata": {
        "id": "WUP4NPJGbbCA"
      }
    },
    {
      "cell_type": "code",
      "source": [
        "trainer.train();"
      ],
      "metadata": {
        "execution": {
          "iopub.status.busy": "2022-04-19T22:51:06.370099Z",
          "iopub.execute_input": "2022-04-19T22:51:06.370349Z",
          "iopub.status.idle": "2022-04-19T22:56:03.884434Z",
          "shell.execute_reply.started": "2022-04-19T22:51:06.370314Z",
          "shell.execute_reply": "2022-04-19T22:56:03.883722Z"
        },
        "trusted": true,
        "id": "wyTRdgZvbbCA"
      },
      "execution_count": null,
      "outputs": []
    },
    {
      "cell_type": "markdown",
      "source": [
        "Lots more warning from Transformers again -- you can ignore these as before.\n",
        "\n",
        "The key thing to look at is the \"Pearson\" value in table above. As you see, it's increasing, and is already above 0.8. That's great news! We can now submit our predictions to Kaggle if we want them to be scored on the official leaderboard. Let's get some predictions on the test set:"
      ],
      "metadata": {
        "id": "JWAT0LwvbbCA"
      }
    },
    {
      "cell_type": "code",
      "source": [
        "preds = trainer.predict(eval_ds).predictions.astype(float)\n",
        "preds"
      ],
      "metadata": {
        "execution": {
          "iopub.status.busy": "2022-04-19T22:56:03.885816Z",
          "iopub.execute_input": "2022-04-19T22:56:03.886213Z",
          "iopub.status.idle": "2022-04-19T22:56:03.939419Z",
          "shell.execute_reply.started": "2022-04-19T22:56:03.886175Z",
          "shell.execute_reply": "2022-04-19T22:56:03.938611Z"
        },
        "trusted": true,
        "id": "_vpu2k38bbCA"
      },
      "execution_count": null,
      "outputs": []
    },
    {
      "cell_type": "markdown",
      "source": [
        "Look out - some of our predictions are <0, or >1! This once again shows the value of remember to actually *look* at your data. Let's fix those out-of-bounds predictions:"
      ],
      "metadata": {
        "id": "NRvrJiBPbbCB"
      }
    },
    {
      "cell_type": "code",
      "source": [
        "preds = np.clip(preds, 0, 1)"
      ],
      "metadata": {
        "execution": {
          "iopub.status.busy": "2022-04-19T22:56:03.940755Z",
          "iopub.execute_input": "2022-04-19T22:56:03.941019Z",
          "iopub.status.idle": "2022-04-19T22:56:03.94481Z",
          "shell.execute_reply.started": "2022-04-19T22:56:03.940986Z",
          "shell.execute_reply": "2022-04-19T22:56:03.944055Z"
        },
        "trusted": true,
        "id": "kE-wyNY_bbCB"
      },
      "execution_count": null,
      "outputs": []
    },
    {
      "cell_type": "code",
      "source": [
        "preds"
      ],
      "metadata": {
        "execution": {
          "iopub.status.busy": "2022-04-19T22:56:03.94601Z",
          "iopub.execute_input": "2022-04-19T22:56:03.946624Z",
          "iopub.status.idle": "2022-04-19T22:56:03.957676Z",
          "shell.execute_reply.started": "2022-04-19T22:56:03.946586Z",
          "shell.execute_reply": "2022-04-19T22:56:03.956977Z"
        },
        "trusted": true,
        "id": "PDXA2eBfbbCB"
      },
      "execution_count": null,
      "outputs": []
    },
    {
      "cell_type": "markdown",
      "source": [
        "OK, now we're ready to create our submission file. If you save a CSV in your notebook, you will get the option to submit it later."
      ],
      "metadata": {
        "id": "evwdxCMvbbCB"
      }
    },
    {
      "cell_type": "code",
      "source": [
        "import datasets\n",
        "\n",
        "submission = datasets.Dataset.from_dict({\n",
        "    'id': eval_ds['id'],\n",
        "    'score': preds\n",
        "})\n",
        "\n",
        "submission.to_csv('submission.csv', index=False)"
      ],
      "metadata": {
        "execution": {
          "iopub.status.busy": "2022-04-19T22:56:03.959091Z",
          "iopub.execute_input": "2022-04-19T22:56:03.959387Z",
          "iopub.status.idle": "2022-04-19T22:56:04.014925Z",
          "shell.execute_reply.started": "2022-04-19T22:56:03.959351Z",
          "shell.execute_reply": "2022-04-19T22:56:04.014252Z"
        },
        "trusted": true,
        "id": "YMSUcoy2bbCB"
      },
      "execution_count": null,
      "outputs": []
    },
    {
      "cell_type": "markdown",
      "source": [
        "Unfortunately this is a *code competition* and internet access is disabled. That means the `pip install datasets` command we used above won't work if you want to submit to Kaggle. To fix this, you'll need to download the pip installers to Kaggle first, as [described here](https://www.kaggle.com/c/severstal-steel-defect-detection/discussion/113195). Once you've done that, disable internet in your notebook, go to the Kaggle leaderboards page, and click the *Submission* button."
      ],
      "metadata": {
        "id": "-EHxyRojbbCC"
      }
    },
    {
      "cell_type": "markdown",
      "source": [
        "## The end"
      ],
      "metadata": {
        "id": "H_-oMTkDbbCC"
      }
    },
    {
      "cell_type": "markdown",
      "source": [
        "Once you're ready to go deeper, take a look at my [Iterate Like a Grandmaster](https://www.kaggle.com/code/jhoward/iterate-like-a-grandmaster/) notebook.\n",
        "\n",
        "Thanks for reading! This has been a bit of an experiment for me -- I've never done an \"absolute beginners\" guide before on Kaggle. I hope you like it! If you do, I'd greatly appreciate an upvote. Don't hesitate to add a comment if you have any questions or thoughts to add."
      ],
      "metadata": {
        "id": "7iR7NTAibbCC"
      }
    }
  ]
}
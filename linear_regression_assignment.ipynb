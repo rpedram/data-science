{
  "cells": [
    {
      "cell_type": "markdown",
      "metadata": {
        "id": "view-in-github",
        "colab_type": "text"
      },
      "source": [
        "<a href=\"https://colab.research.google.com/github/rpedram/data-science/blob/main/linear_regression_assignment.ipynb\" target=\"_parent\"><img src=\"https://colab.research.google.com/assets/colab-badge.svg\" alt=\"Open In Colab\"/></a>"
      ]
    },
    {
      "cell_type": "markdown",
      "id": "764d0a27-a454-4e28-a5d6-9039a9fabbb3",
      "metadata": {
        "id": "764d0a27-a454-4e28-a5d6-9039a9fabbb3"
      },
      "source": [
        "# Q1. Housing Price Prediction\n",
        "\n",
        "Dataset Description: The data pertains to the houses found in each California district and some summary statistics about them based on the 1990 census data. It contains one instance per district block group. A block group is the smallest geographical unit for which the U.S. Census Bureau publishes sample data (a block group typically has a population of 600 to 3,000 people).\n",
        "\n",
        "The goal of this task is to design a regression model to predict the median house value conditioned upon a set of input attributes corresponding to a particular California district block.\n",
        "\n",
        "The attributes in the dataset are as follows; their names are self-explanatory:\n",
        "     \n",
        "\n",
        "    longitude (continuous): One of the coordinates that are used to identify the California district block\n",
        "     \n",
        "\n",
        "    latitude (continuous): One of the coordinates that are used to identify the California district block\n",
        "     \n",
        "\n",
        "    housing_median_age (continuous): Average age of the house in California district block\n",
        "     \n",
        "\n",
        "    total_rooms (continuous): Total number of rooms of all the houses in the California district block\n",
        "     \n",
        "\n",
        "    total_bedrooms (continuous): Total number of bedrooms of all the houses in the California district block\n",
        "     \n",
        "\n",
        "    population (continuous): Number of people residing in the district block\n",
        "     \n",
        "\n",
        "    households (continuous): Number of families in the district block\n",
        "     \n",
        "\n",
        "    median_income (continuous): Median income for households in the district block of houses (measured in tens of thousands of US Dollars)  \n",
        "     \n",
        "\n",
        "    ocean_proximity (categorical): Location of the house. Is it inland, near the bay, near the ocean, etc.  \n",
        "     \n",
        "\n",
        "    median_house_value.(continuous): Median house value within a district block (measured in US Dollars)\n",
        "\n",
        "Our target variable will be median_house_value.  Use the rest of the fields mentioned above to predict the median_house_value.\n",
        "\n",
        "## Import Libraries\n",
        "Import all necessary libraries"
      ]
    },
    {
      "cell_type": "code",
      "execution_count": 1,
      "id": "d3de6346-1836-4312-8f21-777ac6b59e4f",
      "metadata": {
        "tags": [],
        "id": "d3de6346-1836-4312-8f21-777ac6b59e4f"
      },
      "outputs": [],
      "source": [
        "import pandas as pd\n",
        "import matplotlib.pyplot as plt\n",
        "from sklearn.preprocessing import StandardScaler\n",
        "from sklearn.model_selection import train_test_split\n",
        "from sklearn.preprocessing import MinMaxScaler\n",
        "from sklearn.linear_model import LinearRegression\n",
        "from sklearn.metrics import mean_squared_error,explained_variance_score,mean_absolute_error,r2_score\n",
        "from sklearn.decomposition import PCA\n",
        "import numpy as np\n",
        "from sklearn.metrics import mean_absolute_percentage_error\n",
        "from sklearn.metrics import r2_score\n",
        "import warnings\n",
        "warnings.filterwarnings(\"ignore\")"
      ]
    },
    {
      "cell_type": "markdown",
      "id": "422ee179-f70a-4a88-8b44-117deb549881",
      "metadata": {
        "id": "422ee179-f70a-4a88-8b44-117deb549881"
      },
      "source": [
        "### b. Data Loading / Preprocessing\n",
        "\n",
        "#### i. Loading\n",
        "\n",
        "1. Load the California housing dataset using `pandas.read_csv()` function and store it in the variable (i.e., a pandas dataframe) named `df’.\n",
        "\n",
        "2. The resulting data frame should have the shape (20640, 10) indicating that there are 20640 rows and 10 columns."
      ]
    },
    {
      "cell_type": "code",
      "execution_count": 2,
      "id": "598f6dc5",
      "metadata": {
        "colab": {
          "base_uri": "https://localhost:8080/"
        },
        "id": "598f6dc5",
        "outputId": "e7e560a7-2fce-44da-cde3-a8bec7fae3cd"
      },
      "outputs": [
        {
          "output_type": "stream",
          "name": "stdout",
          "text": [
            "Drive already mounted at /content/drive; to attempt to forcibly remount, call drive.mount(\"/content/drive\", force_remount=True).\n",
            "   longitude  latitude  housing_median_age  total_rooms  total_bedrooms  \\\n",
            "0    -122.23     37.88                41.0        880.0           129.0   \n",
            "1    -122.22     37.86                21.0       7099.0          1106.0   \n",
            "2    -122.24     37.85                52.0       1467.0           190.0   \n",
            "3    -122.25     37.85                52.0       1274.0           235.0   \n",
            "4    -122.25     37.85                52.0       1627.0           280.0   \n",
            "\n",
            "   population  households  median_income  median_house_value ocean_proximity  \n",
            "0       322.0       126.0         8.3252            452600.0        NEAR BAY  \n",
            "1      2401.0      1138.0         8.3014            358500.0        NEAR BAY  \n",
            "2       496.0       177.0         7.2574            352100.0        NEAR BAY  \n",
            "3       558.0       219.0         5.6431            341300.0        NEAR BAY  \n",
            "4       565.0       259.0         3.8462            342200.0        NEAR BAY  \n",
            "<class 'pandas.core.frame.DataFrame'>\n",
            "RangeIndex: 20640 entries, 0 to 20639\n",
            "Data columns (total 10 columns):\n",
            " #   Column              Non-Null Count  Dtype  \n",
            "---  ------              --------------  -----  \n",
            " 0   longitude           20640 non-null  float64\n",
            " 1   latitude            20640 non-null  float64\n",
            " 2   housing_median_age  20640 non-null  float64\n",
            " 3   total_rooms         20640 non-null  float64\n",
            " 4   total_bedrooms      20433 non-null  float64\n",
            " 5   population          20640 non-null  float64\n",
            " 6   households          20640 non-null  float64\n",
            " 7   median_income       20640 non-null  float64\n",
            " 8   median_house_value  20640 non-null  float64\n",
            " 9   ocean_proximity     20640 non-null  object \n",
            "dtypes: float64(9), object(1)\n",
            "memory usage: 1.6+ MB\n",
            "None\n",
            "          longitude      latitude  housing_median_age   total_rooms  \\\n",
            "count  20640.000000  20640.000000        20640.000000  20640.000000   \n",
            "mean    -119.569704     35.631861           28.639486   2635.763081   \n",
            "std        2.003532      2.135952           12.585558   2181.615252   \n",
            "min     -124.350000     32.540000            1.000000      2.000000   \n",
            "25%     -121.800000     33.930000           18.000000   1447.750000   \n",
            "50%     -118.490000     34.260000           29.000000   2127.000000   \n",
            "75%     -118.010000     37.710000           37.000000   3148.000000   \n",
            "max     -114.310000     41.950000           52.000000  39320.000000   \n",
            "\n",
            "       total_bedrooms    population    households  median_income  \\\n",
            "count    20433.000000  20640.000000  20640.000000   20640.000000   \n",
            "mean       537.870553   1425.476744    499.539680       3.870671   \n",
            "std        421.385070   1132.462122    382.329753       1.899822   \n",
            "min          1.000000      3.000000      1.000000       0.499900   \n",
            "25%        296.000000    787.000000    280.000000       2.563400   \n",
            "50%        435.000000   1166.000000    409.000000       3.534800   \n",
            "75%        647.000000   1725.000000    605.000000       4.743250   \n",
            "max       6445.000000  35682.000000   6082.000000      15.000100   \n",
            "\n",
            "       median_house_value  \n",
            "count        20640.000000  \n",
            "mean        206855.816909  \n",
            "std         115395.615874  \n",
            "min          14999.000000  \n",
            "25%         119600.000000  \n",
            "50%         179700.000000  \n",
            "75%         264725.000000  \n",
            "max         500001.000000  \n",
            "<class 'pandas.core.frame.DataFrame'>\n",
            "RangeIndex: 20640 entries, 0 to 20639\n",
            "Data columns (total 10 columns):\n",
            " #   Column              Non-Null Count  Dtype  \n",
            "---  ------              --------------  -----  \n",
            " 0   longitude           20640 non-null  float64\n",
            " 1   latitude            20640 non-null  float64\n",
            " 2   housing_median_age  20640 non-null  float64\n",
            " 3   total_rooms         20640 non-null  float64\n",
            " 4   total_bedrooms      20433 non-null  float64\n",
            " 5   population          20640 non-null  float64\n",
            " 6   households          20640 non-null  float64\n",
            " 7   median_income       20640 non-null  float64\n",
            " 8   median_house_value  20640 non-null  float64\n",
            " 9   ocean_proximity     20640 non-null  object \n",
            "dtypes: float64(9), object(1)\n",
            "memory usage: 1.6+ MB\n",
            "None\n"
          ]
        }
      ],
      "source": [
        "\n",
        "import pandas as pd\n",
        "from google.colab import drive\n",
        "drive.mount('/content/drive')\n",
        "import numpy as np\n",
        "import matplotlib.pyplot as plt\n",
        "import seaborn as sns\n",
        "\n",
        "# Get the file path from Google Drive\n",
        "file_path = '/content/drive/My Drive/Dataset/ml_class/housing.csv'\n",
        "\n",
        "# Read the file into a Pandas DataFrame\n",
        "df = pd.read_csv(file_path)\n",
        "print(df.head())\n",
        "print(df.info())\n",
        "# Describe numerical variables to check for missing values, outliers, etc.\n",
        "print(df.describe())\n",
        "\n",
        "print(df.info())"
      ]
    },
    {
      "cell_type": "markdown",
      "source": [
        "Df is correctly captured (20640, 10)"
      ],
      "metadata": {
        "id": "sMvIKy8P1liV"
      },
      "id": "sMvIKy8P1liV"
    },
    {
      "cell_type": "code",
      "execution_count": 3,
      "id": "3f643a32",
      "metadata": {
        "colab": {
          "base_uri": "https://localhost:8080/"
        },
        "id": "3f643a32",
        "outputId": "06c5c0d6-c4e5-4d00-fa43-835c018bcede"
      },
      "outputs": [
        {
          "output_type": "execute_result",
          "data": {
            "text/plain": [
              "longitude             float64\n",
              "latitude              float64\n",
              "housing_median_age    float64\n",
              "total_rooms           float64\n",
              "total_bedrooms        float64\n",
              "population            float64\n",
              "households            float64\n",
              "median_income         float64\n",
              "median_house_value    float64\n",
              "ocean_proximity        object\n",
              "dtype: object"
            ]
          },
          "metadata": {},
          "execution_count": 3
        }
      ],
      "source": [
        "df.shape\n",
        "#Check dtypes\n",
        "df.dtypes\n",
        "#All float less ocean_proximity"
      ]
    },
    {
      "cell_type": "markdown",
      "id": "c0c2c788-2ad1-4cb8-b78a-435562a4cb68",
      "metadata": {
        "id": "c0c2c788-2ad1-4cb8-b78a-435562a4cb68"
      },
      "source": [
        "3. Find the missing values in the data frame. If any (i.e., even if one column in each instance / row has a missing value), drop the row using `pandas.DataFrame.dropna()` function. The resulting data frame should have the shape (20433, 10) indicating that there are 20433 rows and 10 columns."
      ]
    },
    {
      "cell_type": "code",
      "execution_count": 4,
      "id": "dbd7b542",
      "metadata": {
        "colab": {
          "base_uri": "https://localhost:8080/"
        },
        "id": "dbd7b542",
        "outputId": "fb943693-1e7a-494b-fada-99a2e3ed28da"
      },
      "outputs": [
        {
          "output_type": "execute_result",
          "data": {
            "text/plain": [
              "longitude               0\n",
              "latitude                0\n",
              "housing_median_age      0\n",
              "total_rooms             0\n",
              "total_bedrooms        207\n",
              "population              0\n",
              "households              0\n",
              "median_income           0\n",
              "median_house_value      0\n",
              "ocean_proximity         0\n",
              "dtype: int64"
            ]
          },
          "metadata": {},
          "execution_count": 4
        }
      ],
      "source": [
        "df.isna().sum(axis=0)"
      ]
    },
    {
      "cell_type": "markdown",
      "source": [
        "Drop the null value rows in total_bedrooms. Inplace = true is required else the index wont be in line. If you dont use that reassign df=df.dropna()"
      ],
      "metadata": {
        "id": "znekfkXy2d2d"
      },
      "id": "znekfkXy2d2d"
    },
    {
      "cell_type": "code",
      "execution_count": 5,
      "id": "0d9b0759",
      "metadata": {
        "id": "0d9b0759"
      },
      "outputs": [],
      "source": [
        "df.dropna(how='any',inplace=True)"
      ]
    },
    {
      "cell_type": "markdown",
      "source": [
        "shape correct"
      ],
      "metadata": {
        "id": "Hf_EGAzb3bBC"
      },
      "id": "Hf_EGAzb3bBC"
    },
    {
      "cell_type": "code",
      "source": [
        "#check df again\n",
        "df.isna().sum(axis=0)\n",
        "df.shape\n",
        "df.info()"
      ],
      "metadata": {
        "colab": {
          "base_uri": "https://localhost:8080/"
        },
        "id": "6euZiUTu3Iqj",
        "outputId": "187eb1dc-dd65-4228-e7b2-f6f0a4181b5b"
      },
      "id": "6euZiUTu3Iqj",
      "execution_count": 6,
      "outputs": [
        {
          "output_type": "stream",
          "name": "stdout",
          "text": [
            "<class 'pandas.core.frame.DataFrame'>\n",
            "Index: 20433 entries, 0 to 20639\n",
            "Data columns (total 10 columns):\n",
            " #   Column              Non-Null Count  Dtype  \n",
            "---  ------              --------------  -----  \n",
            " 0   longitude           20433 non-null  float64\n",
            " 1   latitude            20433 non-null  float64\n",
            " 2   housing_median_age  20433 non-null  float64\n",
            " 3   total_rooms         20433 non-null  float64\n",
            " 4   total_bedrooms      20433 non-null  float64\n",
            " 5   population          20433 non-null  float64\n",
            " 6   households          20433 non-null  float64\n",
            " 7   median_income       20433 non-null  float64\n",
            " 8   median_house_value  20433 non-null  float64\n",
            " 9   ocean_proximity     20433 non-null  object \n",
            "dtypes: float64(9), object(1)\n",
            "memory usage: 1.7+ MB\n"
          ]
        }
      ]
    },
    {
      "cell_type": "markdown",
      "id": "1dcdaee1-691e-47ae-b90d-0cda36ccf0cd",
      "metadata": {
        "id": "1dcdaee1-691e-47ae-b90d-0cda36ccf0cd"
      },
      "source": [
        "4. Create a data frame `corr_df` by dropping the columns latitude, longitude, and ocean_proximity using the `pandas.DataFrame.drop()` function. Use the Pearson correlation to find the correlation of each remaining feature in the `corr_df` with the target variable `median_house_value` using the function `pandas.DataFrame.corrwith()`."
      ]
    },
    {
      "cell_type": "markdown",
      "source": [
        "corr() function by default takes only numeric data. Drop unnccesary columns"
      ],
      "metadata": {
        "id": "UGpRIkPq4Jec"
      },
      "id": "UGpRIkPq4Jec"
    },
    {
      "cell_type": "code",
      "execution_count": 7,
      "id": "86f000d3",
      "metadata": {
        "colab": {
          "base_uri": "https://localhost:8080/"
        },
        "id": "86f000d3",
        "outputId": "e23ffc28-f156-4137-bd75-be6fe63a4b51"
      },
      "outputs": [
        {
          "output_type": "stream",
          "name": "stdout",
          "text": [
            "housing_median_age    0.106432\n",
            "total_rooms           0.133294\n",
            "total_bedrooms        0.049686\n",
            "population           -0.025300\n",
            "households            0.064894\n",
            "median_income         0.688355\n",
            "median_house_value    1.000000\n",
            "dtype: float64\n"
          ]
        }
      ],
      "source": [
        "# Create a new data frame excluding the specified columns\n",
        "corr_df = df.drop(columns=['latitude', 'longitude', 'ocean_proximity'])\n",
        "\n",
        "# Calculate correlation with the target variable\n",
        "corr = corr_df.corrwith(corr_df['median_house_value'])\n",
        "\n",
        "# Print the correlation coefficients\n",
        "print(corr)"
      ]
    },
    {
      "cell_type": "code",
      "execution_count": 7,
      "id": "260ce9a5",
      "metadata": {
        "id": "260ce9a5"
      },
      "outputs": [],
      "source": []
    },
    {
      "cell_type": "markdown",
      "id": "46ddbc8b-dcf5-46ff-b4c6-eb02429318e7",
      "metadata": {
        "id": "46ddbc8b-dcf5-46ff-b4c6-eb02429318e7"
      },
      "source": [
        "#### ii. Data Visualization\n",
        "\n",
        "1. Use `pandas.DataFrame.hist(bins = 50)` function for visualizing the variation on the columns housing_median_age, total_rooms, total_bedrooms, population, household, median_income and median_house_value. Plot each histogram as a separate subplot.\n",
        "\n",
        "#### Use subplot in plotting\n",
        "We can make grid of plots. Max row size is 4 practically for std screen in colabs. Run all features in loop. Easy visualisation in single screen. Can change to a 2x2 grid for more clarity."
      ]
    },
    {
      "cell_type": "code",
      "execution_count": 8,
      "id": "ee86a1bb",
      "metadata": {
        "colab": {
          "base_uri": "https://localhost:8080/",
          "height": 607
        },
        "id": "ee86a1bb",
        "outputId": "0ed376fd-ef65-4179-bcc1-8c6125068074"
      },
      "outputs": [
        {
          "output_type": "display_data",
          "data": {
            "text/plain": [
              "<Figure size 1200x600 with 7 Axes>"
            ],
            "image/png": "[encoded data removed]"
          },
          "metadata": {}
        }
      ],
      "source": [
        "# Create separate subplots for each feature's histogram\n",
        "plt.figure(figsize=(12, 6))\n",
        "\n",
        "# Define features to visualize\n",
        "features = ['housing_median_age', 'total_rooms', 'total_bedrooms', 'population', 'households', 'median_income', 'median_house_value']\n",
        "\n",
        "for i, feature in enumerate(features):\n",
        "    plt.subplot(2, 4, i+1)  # Create a subplot at position i+1 in a 2x4 grid\n",
        "    df[feature].hist(bins=50)  # Generate histogram with 50 bins\n",
        "    plt.title(feature)  # Add title as the feature name\n",
        "    plt.xlabel(feature)  # Label x-axis as the feature name\n",
        "    plt.ylabel('Frequency')  # Label y-axis as 'Frequency'\n",
        "\n",
        "plt.tight_layout()  # Adjust spacing between subplots\n",
        "plt.show()  # Display the plot"
      ]
    },
    {
      "cell_type": "code",
      "execution_count": 8,
      "id": "2aa90102",
      "metadata": {
        "id": "2aa90102"
      },
      "outputs": [],
      "source": []
    },
    {
      "cell_type": "markdown",
      "id": "bf638e98-eb4a-4fd6-9b12-251eb3d2ce00",
      "metadata": {
        "id": "bf638e98-eb4a-4fd6-9b12-251eb3d2ce00"
      },
      "source": [
        "2. Use `pandas.dataframe.describe()` function to find the mean, median and standard deviations for each feature and report in the jupyter notebook."
      ]
    },
    {
      "cell_type": "code",
      "execution_count": 9,
      "id": "ecaf22b5",
      "metadata": {
        "colab": {
          "base_uri": "https://localhost:8080/",
          "height": 300
        },
        "id": "ecaf22b5",
        "outputId": "ba646c77-b02f-40eb-ae27-8ba9304269db"
      },
      "outputs": [
        {
          "output_type": "execute_result",
          "data": {
            "text/plain": [
              "          longitude      latitude  housing_median_age   total_rooms  \\\n",
              "count  20433.000000  20433.000000        20433.000000  20433.000000   \n",
              "mean    -119.570689     35.633221           28.633094   2636.504233   \n",
              "std        2.003578      2.136348           12.591805   2185.269567   \n",
              "min     -124.350000     32.540000            1.000000      2.000000   \n",
              "25%     -121.800000     33.930000           18.000000   1450.000000   \n",
              "50%     -118.490000     34.260000           29.000000   2127.000000   \n",
              "75%     -118.010000     37.720000           37.000000   3143.000000   \n",
              "max     -114.310000     41.950000           52.000000  39320.000000   \n",
              "\n",
              "       total_bedrooms    population    households  median_income  \\\n",
              "count    20433.000000  20433.000000  20433.000000   20433.000000   \n",
              "mean       537.870553   1424.946949    499.433465       3.871162   \n",
              "std        421.385070   1133.208490    382.299226       1.899291   \n",
              "min          1.000000      3.000000      1.000000       0.499900   \n",
              "25%        296.000000    787.000000    280.000000       2.563700   \n",
              "50%        435.000000   1166.000000    409.000000       3.536500   \n",
              "75%        647.000000   1722.000000    604.000000       4.744000   \n",
              "max       6445.000000  35682.000000   6082.000000      15.000100   \n",
              "\n",
              "       median_house_value  \n",
              "count        20433.000000  \n",
              "mean        206864.413155  \n",
              "std         115435.667099  \n",
              "min          14999.000000  \n",
              "25%         119500.000000  \n",
              "50%         179700.000000  \n",
              "75%         264700.000000  \n",
              "max         500001.000000  "
            ],
            "text/html": [
              "\n",
              "  <div id=\"df-5eec36e6-88d7-4568-b9aa-9786808813c8\" class=\"colab-df-container\">\n",
              "    <div>\n",
              "<style scoped>\n",
              "    .dataframe tbody tr th:only-of-type {\n",
              "        vertical-align: middle;\n",
              "    }\n",
              "\n",
              "    .dataframe tbody tr th {\n",
              "        vertical-align: top;\n",
              "    }\n",
              "\n",
              "    .dataframe thead th {\n",
              "        text-align: right;\n",
              "    }\n",
              "</style>\n",
              "<table border=\"1\" class=\"dataframe\">\n",
              "  <thead>\n",
              "    <tr style=\"text-align: right;\">\n",
              "      <th></th>\n",
              "      <th>longitude</th>\n",
              "      <th>latitude</th>\n",
              "      <th>housing_median_age</th>\n",
              "      <th>total_rooms</th>\n",
              "      <th>total_bedrooms</th>\n",
              "      <th>population</th>\n",
              "      <th>households</th>\n",
              "      <th>median_income</th>\n",
              "      <th>median_house_value</th>\n",
              "    </tr>\n",
              "  </thead>\n",
              "  <tbody>\n",
              "    <tr>\n",
              "      <th>count</th>\n",
              "      <td>20433.000000</td>\n",
              "      <td>20433.000000</td>\n",
              "      <td>20433.000000</td>\n",
              "      <td>20433.000000</td>\n",
              "      <td>20433.000000</td>\n",
              "      <td>20433.000000</td>\n",
              "      <td>20433.000000</td>\n",
              "      <td>20433.000000</td>\n",
              "      <td>20433.000000</td>\n",
              "    </tr>\n",
              "    <tr>\n",
              "      <th>mean</th>\n",
              "      <td>-119.570689</td>\n",
              "      <td>35.633221</td>\n",
              "      <td>28.633094</td>\n",
              "      <td>2636.504233</td>\n",
              "      <td>537.870553</td>\n",
              "      <td>1424.946949</td>\n",
              "      <td>499.433465</td>\n",
              "      <td>3.871162</td>\n",
              "      <td>206864.413155</td>\n",
              "    </tr>\n",
              "    <tr>\n",
              "      <th>std</th>\n",
              "      <td>2.003578</td>\n",
              "      <td>2.136348</td>\n",
              "      <td>12.591805</td>\n",
              "      <td>2185.269567</td>\n",
              "      <td>421.385070</td>\n",
              "      <td>1133.208490</td>\n",
              "      <td>382.299226</td>\n",
              "      <td>1.899291</td>\n",
              "      <td>115435.667099</td>\n",
              "    </tr>\n",
              "    <tr>\n",
              "      <th>min</th>\n",
              "      <td>-124.350000</td>\n",
              "      <td>32.540000</td>\n",
              "      <td>1.000000</td>\n",
              "      <td>2.000000</td>\n",
              "      <td>1.000000</td>\n",
              "      <td>3.000000</td>\n",
              "      <td>1.000000</td>\n",
              "      <td>0.499900</td>\n",
              "      <td>14999.000000</td>\n",
              "    </tr>\n",
              "    <tr>\n",
              "      <th>25%</th>\n",
              "      <td>-121.800000</td>\n",
              "      <td>33.930000</td>\n",
              "      <td>18.000000</td>\n",
              "      <td>1450.000000</td>\n",
              "      <td>296.000000</td>\n",
              "      <td>787.000000</td>\n",
              "      <td>280.000000</td>\n",
              "      <td>2.563700</td>\n",
              "      <td>119500.000000</td>\n",
              "    </tr>\n",
              "    <tr>\n",
              "      <th>50%</th>\n",
              "      <td>-118.490000</td>\n",
              "      <td>34.260000</td>\n",
              "      <td>29.000000</td>\n",
              "      <td>2127.000000</td>\n",
              "      <td>435.000000</td>\n",
              "      <td>1166.000000</td>\n",
              "      <td>409.000000</td>\n",
              "      <td>3.536500</td>\n",
              "      <td>179700.000000</td>\n",
              "    </tr>\n",
              "    <tr>\n",
              "      <th>75%</th>\n",
              "      <td>-118.010000</td>\n",
              "      <td>37.720000</td>\n",
              "      <td>37.000000</td>\n",
              "      <td>3143.000000</td>\n",
              "      <td>647.000000</td>\n",
              "      <td>1722.000000</td>\n",
              "      <td>604.000000</td>\n",
              "      <td>4.744000</td>\n",
              "      <td>264700.000000</td>\n",
              "    </tr>\n",
              "    <tr>\n",
              "      <th>max</th>\n",
              "      <td>-114.310000</td>\n",
              "      <td>41.950000</td>\n",
              "      <td>52.000000</td>\n",
              "      <td>39320.000000</td>\n",
              "      <td>6445.000000</td>\n",
              "      <td>35682.000000</td>\n",
              "      <td>6082.000000</td>\n",
              "      <td>15.000100</td>\n",
              "      <td>500001.000000</td>\n",
              "    </tr>\n",
              "  </tbody>\n",
              "</table>\n",
              "</div>\n",
              "    <div class=\"colab-df-buttons\">\n",
              "\n",
              "  <div class=\"colab-df-container\">\n",
              "    <button class=\"colab-df-convert\" onclick=\"convertToInteractive('df-5eec36e6-88d7-4568-b9aa-9786808813c8')\"\n",
              "            title=\"Convert this dataframe to an interactive table.\"\n",
              "            style=\"display:none;\">\n",
              "\n",
              "  <svg xmlns=\"http://www.w3.org/2000/svg\" height=\"24px\" viewBox=\"0 -960 960 960\">\n",
              "    <path d=\"M120-120v-720h720v720H120Zm60-500h600v-160H180v160Zm220 220h160v-160H400v160Zm0 220h160v-160H400v160ZM180-400h160v-160H180v160Zm440 0h160v-160H620v160ZM180-180h160v-160H180v160Zm440 0h160v-160H620v160Z\"/>\n",
              "  </svg>\n",
              "    </button>\n",
              "\n",
              "  <style>\n",
              "    .colab-df-container {\n",
              "      display:flex;\n",
              "      gap: 12px;\n",
              "    }\n",
              "\n",
              "    .colab-df-convert {\n",
              "      background-color: #E8F0FE;\n",
              "      border: none;\n",
              "      border-radius: 50%;\n",
              "      cursor: pointer;\n",
              "      display: none;\n",
              "      fill: #1967D2;\n",
              "      height: 32px;\n",
              "      padding: 0 0 0 0;\n",
              "      width: 32px;\n",
              "    }\n",
              "\n",
              "    .colab-df-convert:hover {\n",
              "      background-color: #E2EBFA;\n",
              "      box-shadow: 0px 1px 2px rgba(60, 64, 67, 0.3), 0px 1px 3px 1px rgba(60, 64, 67, 0.15);\n",
              "      fill: #174EA6;\n",
              "    }\n",
              "\n",
              "    .colab-df-buttons div {\n",
              "      margin-bottom: 4px;\n",
              "    }\n",
              "\n",
              "    [theme=dark] .colab-df-convert {\n",
              "      background-color: #3B4455;\n",
              "      fill: #D2E3FC;\n",
              "    }\n",
              "\n",
              "    [theme=dark] .colab-df-convert:hover {\n",
              "      background-color: #434B5C;\n",
              "      box-shadow: 0px 1px 3px 1px rgba(0, 0, 0, 0.15);\n",
              "      filter: drop-shadow(0px 1px 2px rgba(0, 0, 0, 0.3));\n",
              "      fill: #FFFFFF;\n",
              "    }\n",
              "  </style>\n",
              "\n",
              "    <script>\n",
              "      const buttonEl =\n",
              "        document.querySelector('#df-5eec36e6-88d7-4568-b9aa-9786808813c8 button.colab-df-convert');\n",
              "      buttonEl.style.display =\n",
              "        google.colab.kernel.accessAllowed ? 'block' : 'none';\n",
              "\n",
              "      async function convertToInteractive(key) {\n",
              "        const element = document.querySelector('#df-5eec36e6-88d7-4568-b9aa-9786808813c8');\n",
              "        const dataTable =\n",
              "          await google.colab.kernel.invokeFunction('convertToInteractive',\n",
              "                                                    [key], {});\n",
              "        if (!dataTable) return;\n",
              "\n",
              "        const docLinkHtml = 'Like what you see? Visit the ' +\n",
              "          '<a target=\"_blank\" href=https://colab.research.google.com/notebooks/data_table.ipynb>data table notebook</a>'\n",
              "          + ' to learn more about interactive tables.';\n",
              "        element.innerHTML = '';\n",
              "        dataTable['output_type'] = 'display_data';\n",
              "        await google.colab.output.renderOutput(dataTable, element);\n",
              "        const docLink = document.createElement('div');\n",
              "        docLink.innerHTML = docLinkHtml;\n",
              "        element.appendChild(docLink);\n",
              "      }\n",
              "    </script>\n",
              "  </div>\n",
              "\n",
              "\n",
              "<div id=\"df-411430c7-6045-40a7-97a8-fe8e990933bc\">\n",
              "  <button class=\"colab-df-quickchart\" onclick=\"quickchart('df-411430c7-6045-40a7-97a8-fe8e990933bc')\"\n",
              "            title=\"Suggest charts\"\n",
              "            style=\"display:none;\">\n",
              "\n",
              "<svg xmlns=\"http://www.w3.org/2000/svg\" height=\"24px\"viewBox=\"0 0 24 24\"\n",
              "     width=\"24px\">\n",
              "    <g>\n",
              "        <path d=\"M19 3H5c-1.1 0-2 .9-2 2v14c0 1.1.9 2 2 2h14c1.1 0 2-.9 2-2V5c0-1.1-.9-2-2-2zM9 17H7v-7h2v7zm4 0h-2V7h2v10zm4 0h-2v-4h2v4z\"/>\n",
              "    </g>\n",
              "</svg>\n",
              "  </button>\n",
              "\n",
              "<style>\n",
              "  .colab-df-quickchart {\n",
              "      --bg-color: #E8F0FE;\n",
              "      --fill-color: #1967D2;\n",
              "      --hover-bg-color: #E2EBFA;\n",
              "      --hover-fill-color: #174EA6;\n",
              "      --disabled-fill-color: #AAA;\n",
              "      --disabled-bg-color: #DDD;\n",
              "  }\n",
              "\n",
              "  [theme=dark] .colab-df-quickchart {\n",
              "      --bg-color: #3B4455;\n",
              "      --fill-color: #D2E3FC;\n",
              "      --hover-bg-color: #434B5C;\n",
              "      --hover-fill-color: #FFFFFF;\n",
              "      --disabled-bg-color: #3B4455;\n",
              "      --disabled-fill-color: #666;\n",
              "  }\n",
              "\n",
              "  .colab-df-quickchart {\n",
              "    background-color: var(--bg-color);\n",
              "    border: none;\n",
              "    border-radius: 50%;\n",
              "    cursor: pointer;\n",
              "    display: none;\n",
              "    fill: var(--fill-color);\n",
              "    height: 32px;\n",
              "    padding: 0;\n",
              "    width: 32px;\n",
              "  }\n",
              "\n",
              "  .colab-df-quickchart:hover {\n",
              "    background-color: var(--hover-bg-color);\n",
              "    box-shadow: 0 1px 2px rgba(60, 64, 67, 0.3), 0 1px 3px 1px rgba(60, 64, 67, 0.15);\n",
              "    fill: var(--button-hover-fill-color);\n",
              "  }\n",
              "\n",
              "  .colab-df-quickchart-complete:disabled,\n",
              "  .colab-df-quickchart-complete:disabled:hover {\n",
              "    background-color: var(--disabled-bg-color);\n",
              "    fill: var(--disabled-fill-color);\n",
              "    box-shadow: none;\n",
              "  }\n",
              "\n",
              "  .colab-df-spinner {\n",
              "    border: 2px solid var(--fill-color);\n",
              "    border-color: transparent;\n",
              "    border-bottom-color: var(--fill-color);\n",
              "    animation:\n",
              "      spin 1s steps(1) infinite;\n",
              "  }\n",
              "\n",
              "  @keyframes spin {\n",
              "    0% {\n",
              "      border-color: transparent;\n",
              "      border-bottom-color: var(--fill-color);\n",
              "      border-left-color: var(--fill-color);\n",
              "    }\n",
              "    20% {\n",
              "      border-color: transparent;\n",
              "      border-left-color: var(--fill-color);\n",
              "      border-top-color: var(--fill-color);\n",
              "    }\n",
              "    30% {\n",
              "      border-color: transparent;\n",
              "      border-left-color: var(--fill-color);\n",
              "      border-top-color: var(--fill-color);\n",
              "      border-right-color: var(--fill-color);\n",
              "    }\n",
              "    40% {\n",
              "      border-color: transparent;\n",
              "      border-right-color: var(--fill-color);\n",
              "      border-top-color: var(--fill-color);\n",
              "    }\n",
              "    60% {\n",
              "      border-color: transparent;\n",
              "      border-right-color: var(--fill-color);\n",
              "    }\n",
              "    80% {\n",
              "      border-color: transparent;\n",
              "      border-right-color: var(--fill-color);\n",
              "      border-bottom-color: var(--fill-color);\n",
              "    }\n",
              "    90% {\n",
              "      border-color: transparent;\n",
              "      border-bottom-color: var(--fill-color);\n",
              "    }\n",
              "  }\n",
              "</style>\n",
              "\n",
              "  <script>\n",
              "    async function quickchart(key) {\n",
              "      const quickchartButtonEl =\n",
              "        document.querySelector('#' + key + ' button');\n",
              "      quickchartButtonEl.disabled = true;  // To prevent multiple clicks.\n",
              "      quickchartButtonEl.classList.add('colab-df-spinner');\n",
              "      try {\n",
              "        const charts = await google.colab.kernel.invokeFunction(\n",
              "            'suggestCharts', [key], {});\n",
              "      } catch (error) {\n",
              "        console.error('Error during call to suggestCharts:', error);\n",
              "      }\n",
              "      quickchartButtonEl.classList.remove('colab-df-spinner');\n",
              "      quickchartButtonEl.classList.add('colab-df-quickchart-complete');\n",
              "    }\n",
              "    (() => {\n",
              "      let quickchartButtonEl =\n",
              "        document.querySelector('#df-411430c7-6045-40a7-97a8-fe8e990933bc button');\n",
              "      quickchartButtonEl.style.display =\n",
              "        google.colab.kernel.accessAllowed ? 'block' : 'none';\n",
              "    })();\n",
              "  </script>\n",
              "</div>\n",
              "\n",
              "    </div>\n",
              "  </div>\n"
            ],
            "application/vnd.google.colaboratory.intrinsic+json": {
              "type": "dataframe",
              "summary": "{\n  \"name\": \"df\",\n  \"rows\": 8,\n  \"fields\": [\n    {\n      \"column\": \"longitude\",\n      \"properties\": {\n        \"dtype\": \"number\",\n        \"std\": 7260.370412696817,\n        \"min\": -124.35,\n        \"max\": 20433.0,\n        \"num_unique_values\": 8,\n        \"samples\": [\n          -119.57068859198355,\n          -118.49,\n          20433.0\n        ],\n        \"semantic_type\": \"\",\n        \"description\": \"\"\n      }\n    },\n    {\n      \"column\": \"latitude\",\n      \"properties\": {\n        \"dtype\": \"number\",\n        \"std\": 7213.147511561998,\n        \"min\": 2.1363476663780268,\n        \"max\": 20433.0,\n        \"num_unique_values\": 8,\n        \"samples\": [\n          35.63322125972691,\n          34.26,\n          20433.0\n        ],\n        \"semantic_type\": \"\",\n        \"description\": \"\"\n      }\n    },\n    {\n      \"column\": \"housing_median_age\",\n      \"properties\": {\n        \"dtype\": \"number\",\n        \"std\": 7215.17134168753,\n        \"min\": 1.0,\n        \"max\": 20433.0,\n        \"num_unique_values\": 8,\n        \"samples\": [\n          28.633093525179856,\n          29.0,\n          20433.0\n        ],\n        \"semantic_type\": \"\",\n        \"description\": \"\"\n      }\n    },\n    {\n      \"column\": \"total_rooms\",\n      \"properties\": {\n        \"dtype\": \"number\",\n        \"std\": 13920.169253696857,\n        \"min\": 2.0,\n        \"max\": 39320.0,\n        \"num_unique_values\": 8,\n        \"samples\": [\n          2636.5042333480155,\n          2127.0,\n          20433.0\n        ],\n        \"semantic_type\": \"\",\n        \"description\": \"\"\n      }\n    },\n    {\n      \"column\": \"total_bedrooms\",\n      \"properties\": {\n        \"dtype\": \"number\",\n        \"std\": 7106.427031043753,\n        \"min\": 1.0,\n        \"max\": 20433.0,\n        \"num_unique_values\": 8,\n        \"samples\": [\n          537.8705525375618,\n          435.0,\n          20433.0\n        ],\n        \"semantic_type\": \"\",\n        \"description\": \"\"\n      }\n    },\n    {\n      \"column\": \"population\",\n      \"properties\": {\n        \"dtype\": \"number\",\n        \"std\": 13163.87450143078,\n        \"min\": 3.0,\n        \"max\": 35682.0,\n        \"num_unique_values\": 8,\n        \"samples\": [\n          1424.9469485635982,\n          1166.0,\n          20433.0\n        ],\n        \"semantic_type\": \"\",\n        \"description\": \"\"\n      }\n    },\n    {\n      \"column\": \"households\",\n      \"properties\": {\n        \"dtype\": \"number\",\n        \"std\": 7097.379090588839,\n        \"min\": 1.0,\n        \"max\": 20433.0,\n        \"num_unique_values\": 8,\n        \"samples\": [\n          499.43346547251997,\n          409.0,\n          20433.0\n        ],\n        \"semantic_type\": \"\",\n        \"description\": \"\"\n      }\n    },\n    {\n      \"column\": \"median_income\",\n      \"properties\": {\n        \"dtype\": \"number\",\n        \"std\": 7222.535760794969,\n        \"min\": 0.4999,\n        \"max\": 20433.0,\n        \"num_unique_values\": 8,\n        \"samples\": [\n          3.8711616013311794,\n          3.5365,\n          20433.0\n        ],\n        \"semantic_type\": \"\",\n        \"description\": \"\"\n      }\n    },\n    {\n      \"column\": \"median_house_value\",\n      \"properties\": {\n        \"dtype\": \"number\",\n        \"std\": 156191.32466331025,\n        \"min\": 14999.0,\n        \"max\": 500001.0,\n        \"num_unique_values\": 8,\n        \"samples\": [\n          206864.41315519012,\n          179700.0,\n          20433.0\n        ],\n        \"semantic_type\": \"\",\n        \"description\": \"\"\n      }\n    }\n  ]\n}"
            }
          },
          "metadata": {},
          "execution_count": 9
        }
      ],
      "source": [
        "df.describe()"
      ]
    },
    {
      "cell_type": "code",
      "execution_count": 10,
      "id": "c8576b5b",
      "metadata": {
        "colab": {
          "base_uri": "https://localhost:8080/"
        },
        "id": "c8576b5b",
        "outputId": "acc2dd46-e380-4283-d47b-bbc018277443"
      },
      "outputs": [
        {
          "output_type": "execute_result",
          "data": {
            "text/plain": [
              "Index(['longitude', 'latitude', 'housing_median_age', 'total_rooms',\n",
              "       'total_bedrooms', 'population', 'households', 'median_income',\n",
              "       'median_house_value', 'ocean_proximity'],\n",
              "      dtype='object')"
            ]
          },
          "metadata": {},
          "execution_count": 10
        }
      ],
      "source": [
        "df.columns"
      ]
    },
    {
      "cell_type": "markdown",
      "id": "9e5fa925-788d-45a7-bfd4-9d688abb3696",
      "metadata": {
        "id": "9e5fa925-788d-45a7-bfd4-9d688abb3696"
      },
      "source": [
        "Create a data frame `X` of features (by dropping the column `median_house_value` from the original data frame) using the `pandas.DataFrame.drop()` function. Create a Series object of targets `Y` (by only considering the `median_house_value` column from the original data frame (Do NOT use the `corr_df` data frame in this step. Use the data frame which was obtained as a result of step 3 above)."
      ]
    },
    {
      "cell_type": "code",
      "execution_count": 11,
      "id": "1f2cbcbd",
      "metadata": {
        "colab": {
          "base_uri": "https://localhost:8080/"
        },
        "id": "1f2cbcbd",
        "outputId": "dcbb201f-6a18-44c5-ca63-bcebf3498bec"
      },
      "outputs": [
        {
          "output_type": "stream",
          "name": "stdout",
          "text": [
            "DataFrame X:\n",
            "       housing_median_age  total_rooms  total_bedrooms  population  \\\n",
            "0                    41.0        880.0           129.0       322.0   \n",
            "1                    21.0       7099.0          1106.0      2401.0   \n",
            "2                    52.0       1467.0           190.0       496.0   \n",
            "3                    52.0       1274.0           235.0       558.0   \n",
            "4                    52.0       1627.0           280.0       565.0   \n",
            "...                   ...          ...             ...         ...   \n",
            "20635                25.0       1665.0           374.0       845.0   \n",
            "20636                18.0        697.0           150.0       356.0   \n",
            "20637                17.0       2254.0           485.0      1007.0   \n",
            "20638                18.0       1860.0           409.0       741.0   \n",
            "20639                16.0       2785.0           616.0      1387.0   \n",
            "\n",
            "       households  median_income ocean_proximity  \n",
            "0           126.0         8.3252        NEAR BAY  \n",
            "1          1138.0         8.3014        NEAR BAY  \n",
            "2           177.0         7.2574        NEAR BAY  \n",
            "3           219.0         5.6431        NEAR BAY  \n",
            "4           259.0         3.8462        NEAR BAY  \n",
            "...           ...            ...             ...  \n",
            "20635       330.0         1.5603          INLAND  \n",
            "20636       114.0         2.5568          INLAND  \n",
            "20637       433.0         1.7000          INLAND  \n",
            "20638       349.0         1.8672          INLAND  \n",
            "20639       530.0         2.3886          INLAND  \n",
            "\n",
            "[20433 rows x 7 columns]\n",
            "\n",
            "Series Y:\n",
            "0        452600.0\n",
            "1        358500.0\n",
            "2        352100.0\n",
            "3        341300.0\n",
            "4        342200.0\n",
            "           ...   \n",
            "20635     78100.0\n",
            "20636     77100.0\n",
            "20637     92300.0\n",
            "20638     84700.0\n",
            "20639     89400.0\n",
            "Name: median_house_value, Length: 20433, dtype: float64\n"
          ]
        },
        {
          "output_type": "execute_result",
          "data": {
            "text/plain": [
              "(20433,)"
            ]
          },
          "metadata": {},
          "execution_count": 11
        }
      ],
      "source": [
        "# Create a DataFrame X of features by dropping the target variable 'median_house_value'\n",
        "X = df.drop(columns=['median_house_value', 'longitude', 'latitude'])\n",
        "\n",
        "# Create a Series object Y of targets by selecting the 'median_house_value' column\n",
        "y = df['median_house_value']\n",
        "\n",
        "# Print the Dataframe X and Series Y to verify\n",
        "print(\"DataFrame X:\")\n",
        "print(X)\n",
        "print(\"\\nSeries Y:\")\n",
        "print(y)\n",
        "# Confirm shape of df rows should be same\n",
        "X.shape\n",
        "y.shape"
      ]
    },
    {
      "cell_type": "code",
      "execution_count": 12,
      "id": "abbcb8a0",
      "metadata": {
        "colab": {
          "base_uri": "https://localhost:8080/"
        },
        "id": "abbcb8a0",
        "outputId": "4408b354-3d01-47b0-cd65-2da8b96944d1"
      },
      "outputs": [
        {
          "output_type": "execute_result",
          "data": {
            "text/plain": [
              "Index(['housing_median_age', 'total_rooms', 'total_bedrooms', 'population',\n",
              "       'households', 'median_income', 'ocean_proximity'],\n",
              "      dtype='object')"
            ]
          },
          "metadata": {},
          "execution_count": 12
        }
      ],
      "source": [
        "X.columns"
      ]
    },
    {
      "cell_type": "code",
      "execution_count": 13,
      "id": "b571ee3d",
      "metadata": {
        "colab": {
          "base_uri": "https://localhost:8080/"
        },
        "id": "b571ee3d",
        "outputId": "73fc0dc5-512e-411f-92b4-8473dcf71a30"
      },
      "outputs": [
        {
          "output_type": "execute_result",
          "data": {
            "text/plain": [
              "array(['NEAR BAY', '<1H OCEAN', 'INLAND', 'NEAR OCEAN', 'ISLAND'],\n",
              "      dtype=object)"
            ]
          },
          "metadata": {},
          "execution_count": 13
        }
      ],
      "source": [
        "df['ocean_proximity'].nunique()\n",
        "# I have 5 categories in original df under ociean proximity\n",
        "df['ocean_proximity'].unique()\n"
      ]
    },
    {
      "cell_type": "markdown",
      "id": "cc7d7c60-763c-4487-8ab7-3c194ca384a9",
      "metadata": {
        "id": "cc7d7c60-763c-4487-8ab7-3c194ca384a9"
      },
      "source": [
        "3. Use `pandas.get_dummies` to convert categorical variables into dummy /one-hot encoding. In this case the categorical column is ocean_proximity"
      ]
    },
    {
      "cell_type": "code",
      "execution_count": 14,
      "id": "b3bfc611",
      "metadata": {
        "colab": {
          "base_uri": "https://localhost:8080/"
        },
        "id": "b3bfc611",
        "outputId": "b11f7d4a-2ae2-494c-f5d0-e7100f35f1e7"
      },
      "outputs": [
        {
          "output_type": "stream",
          "name": "stdout",
          "text": [
            "       housing_median_age  total_rooms  total_bedrooms  population  \\\n",
            "0                    41.0        880.0           129.0       322.0   \n",
            "1                    21.0       7099.0          1106.0      2401.0   \n",
            "2                    52.0       1467.0           190.0       496.0   \n",
            "3                    52.0       1274.0           235.0       558.0   \n",
            "4                    52.0       1627.0           280.0       565.0   \n",
            "...                   ...          ...             ...         ...   \n",
            "20635                25.0       1665.0           374.0       845.0   \n",
            "20636                18.0        697.0           150.0       356.0   \n",
            "20637                17.0       2254.0           485.0      1007.0   \n",
            "20638                18.0       1860.0           409.0       741.0   \n",
            "20639                16.0       2785.0           616.0      1387.0   \n",
            "\n",
            "       households  median_income  ocean_proximity_<1H OCEAN  \\\n",
            "0           126.0         8.3252                      False   \n",
            "1          1138.0         8.3014                      False   \n",
            "2           177.0         7.2574                      False   \n",
            "3           219.0         5.6431                      False   \n",
            "4           259.0         3.8462                      False   \n",
            "...           ...            ...                        ...   \n",
            "20635       330.0         1.5603                      False   \n",
            "20636       114.0         2.5568                      False   \n",
            "20637       433.0         1.7000                      False   \n",
            "20638       349.0         1.8672                      False   \n",
            "20639       530.0         2.3886                      False   \n",
            "\n",
            "       ocean_proximity_INLAND  ocean_proximity_ISLAND  \\\n",
            "0                       False                   False   \n",
            "1                       False                   False   \n",
            "2                       False                   False   \n",
            "3                       False                   False   \n",
            "4                       False                   False   \n",
            "...                       ...                     ...   \n",
            "20635                    True                   False   \n",
            "20636                    True                   False   \n",
            "20637                    True                   False   \n",
            "20638                    True                   False   \n",
            "20639                    True                   False   \n",
            "\n",
            "       ocean_proximity_NEAR BAY  ocean_proximity_NEAR OCEAN  \n",
            "0                          True                       False  \n",
            "1                          True                       False  \n",
            "2                          True                       False  \n",
            "3                          True                       False  \n",
            "4                          True                       False  \n",
            "...                         ...                         ...  \n",
            "20635                     False                       False  \n",
            "20636                     False                       False  \n",
            "20637                     False                       False  \n",
            "20638                     False                       False  \n",
            "20639                     False                       False  \n",
            "\n",
            "[20433 rows x 11 columns]\n"
          ]
        },
        {
          "output_type": "execute_result",
          "data": {
            "text/plain": [
              "(20433, 11)"
            ]
          },
          "metadata": {},
          "execution_count": 14
        }
      ],
      "source": [
        "# One-hot encode the 'ocean_proximity' column\n",
        "X = pd.get_dummies(X, columns=['ocean_proximity'])\n",
        "\n",
        "print(X)\n",
        "X.shape\n"
      ]
    },
    {
      "cell_type": "markdown",
      "source": [
        "Check shape from above. One hot shoud have deleted the original colum and made 5 additional instead based on category. Original df shape incr by 4 columns"
      ],
      "metadata": {
        "id": "kTX5ELzz_Fa9"
      },
      "id": "kTX5ELzz_Fa9"
    },
    {
      "cell_type": "code",
      "execution_count": 14,
      "id": "892f98f5",
      "metadata": {
        "id": "892f98f5"
      },
      "outputs": [],
      "source": []
    },
    {
      "cell_type": "markdown",
      "id": "d3de9798-341c-4fad-bb69-e07655a5859c",
      "metadata": {
        "id": "d3de9798-341c-4fad-bb69-e07655a5859c"
      },
      "source": [
        "#### iii. Data Splitting\n",
        "\n",
        "1. Split data into training and test sets using the sklearn `train_test_split()` function. Perform 70-30 distribution i.e. 70% training and 30% testing. The result of your data split should yield 4 separate data frames `X_train, X_test, y_train, y_test`. (respectively, the training features, testing features, training targets and testing target)."
      ]
    },
    {
      "cell_type": "code",
      "execution_count": 15,
      "id": "a962b90e",
      "metadata": {
        "id": "a962b90e"
      },
      "outputs": [],
      "source": [
        "# Perform the split (70% training, 30% testing)\n",
        "X_train, X_test, y_train, y_test = train_test_split(X, y, test_size=0.3, random_state=42)"
      ]
    },
    {
      "cell_type": "code",
      "execution_count": 15,
      "id": "8a32d41a",
      "metadata": {
        "id": "8a32d41a"
      },
      "outputs": [],
      "source": []
    },
    {
      "cell_type": "code",
      "execution_count": 15,
      "id": "ace9089f",
      "metadata": {
        "id": "ace9089f"
      },
      "outputs": [],
      "source": []
    },
    {
      "cell_type": "code",
      "execution_count": 15,
      "id": "97fa8181",
      "metadata": {
        "id": "97fa8181"
      },
      "outputs": [],
      "source": []
    },
    {
      "cell_type": "markdown",
      "id": "fc6cdeca-0f98-4039-8191-61cef7338869",
      "metadata": {
        "id": "fc6cdeca-0f98-4039-8191-61cef7338869"
      },
      "source": [
        "#### iv. Data Scaling\n",
        "\n",
        "1. Use the `StandardScaler()` to instantiate the standard scaler class. Note: You will need two separate scaler objects, one to scale the features, another to scale the target values."
      ]
    },
    {
      "cell_type": "code",
      "execution_count": 16,
      "id": "3eb95bc2",
      "metadata": {
        "colab": {
          "base_uri": "https://localhost:8080/"
        },
        "id": "3eb95bc2",
        "outputId": "1642fdfa-ad3f-406b-83f3-594b5d283e8a"
      },
      "outputs": [
        {
          "output_type": "execute_result",
          "data": {
            "text/plain": [
              "(14303, 1)"
            ]
          },
          "metadata": {},
          "execution_count": 16
        }
      ],
      "source": [
        "from sklearn.preprocessing import StandardScaler\n",
        "\n",
        "# Assuming you have your X_train, X_test, y_train, y_test from the previous step\n",
        "\n",
        "# Create scaler for features\n",
        "scaler_features = StandardScaler()\n",
        "\n",
        "# Fit the scaler to the training features (learn mean and standard deviation)\n",
        "#Using fit_transform instead of seperate fit and transform functions.\n",
        "\n",
        "# Apply the scaler to both training and testing features\n",
        "X_train_scaled = scaler_features.fit_transform(X_train)\n",
        "X_test_scaled = scaler_features.transform(X_test)\n",
        "\n",
        "# Create a separate scaler for the target variable\n",
        "scaler_target = StandardScaler()\n",
        "\n",
        "\n",
        "\n",
        "# Apply the scaler to training and testing targets\n",
        "# Convert the target variable which is single colum into a 2D array\n",
        "y_train_scaled = scaler_target.fit_transform(y_train.values.reshape(-1, 1))\n",
        "y_test_scaled = scaler_target.transform(y_test.values.reshape(-1, 1))\n",
        "y_train_scaled.shape # Check the shape of the Ytrain it should be (no of rows,1) 2d array"
      ]
    },
    {
      "cell_type": "code",
      "execution_count": 17,
      "id": "553f97a4",
      "metadata": {
        "colab": {
          "base_uri": "https://localhost:8080/"
        },
        "id": "553f97a4",
        "outputId": "a2289dd6-b282-47e5-f85b-dd919a3c4730"
      },
      "outputs": [
        {
          "output_type": "execute_result",
          "data": {
            "text/plain": [
              "(14303, 11)"
            ]
          },
          "metadata": {},
          "execution_count": 17
        }
      ],
      "source": [
        "X_train_scaled.shape"
      ]
    },
    {
      "cell_type": "markdown",
      "id": "e3b7c211-b7eb-4778-9145-9d23da103eb9",
      "metadata": {
        "id": "e3b7c211-b7eb-4778-9145-9d23da103eb9"
      },
      "source": [
        "2. For each scaler, employ the `fit_transform()` function (only on the training  features, training targets) of the scaler to retrieve the new (scaled) version of the data. Store them in `X_train`, and `y_train` again"
      ]
    },
    {
      "cell_type": "code",
      "execution_count": 17,
      "id": "112daafd",
      "metadata": {
        "id": "112daafd"
      },
      "outputs": [],
      "source": []
    },
    {
      "cell_type": "code",
      "execution_count": 17,
      "id": "986f2c69",
      "metadata": {
        "id": "986f2c69"
      },
      "outputs": [],
      "source": []
    },
    {
      "cell_type": "markdown",
      "id": "a5131ddd-6593-4ad3-b9aa-47635785d50f",
      "metadata": {
        "id": "a5131ddd-6593-4ad3-b9aa-47635785d50f"
      },
      "source": [
        "3. Scale the `X_test` and `y_test` as well and store the scaled values back in `X_test` and `y_test`. (i.e., use the appropriate “fitted” scaler above to “transform” the test data. Note: the function to be employed in this case is `transform()` as opposed to `fit_transform()`).  \n",
        "Henceforth, `X_train, y_train, X_test, y_test` will refer to the scaled data unless stated otherwise."
      ]
    },
    {
      "cell_type": "code",
      "execution_count": 17,
      "id": "eb397872",
      "metadata": {
        "id": "eb397872"
      },
      "outputs": [],
      "source": []
    },
    {
      "cell_type": "code",
      "execution_count": 17,
      "id": "fa511118",
      "metadata": {
        "id": "fa511118"
      },
      "outputs": [],
      "source": []
    },
    {
      "cell_type": "markdown",
      "source": [
        "i have kept the names seperate from scaled and unscaled data to understand what the transformation has done"
      ],
      "metadata": {
        "id": "tDV1t6OxKaC8"
      },
      "id": "tDV1t6OxKaC8"
    },
    {
      "cell_type": "markdown",
      "id": "9d85dae5-dd57-4e72-9761-b2cd10dbd486",
      "metadata": {
        "id": "9d85dae5-dd57-4e72-9761-b2cd10dbd486"
      },
      "source": [
        "### c. Modelling\n",
        "\n",
        "#### i. Employ Linear Regression from sklearn.linear_model, and instantiate the model."
      ]
    },
    {
      "cell_type": "code",
      "execution_count": 17,
      "id": "618398ed",
      "metadata": {
        "id": "618398ed"
      },
      "outputs": [],
      "source": []
    },
    {
      "cell_type": "markdown",
      "id": "b16fc923-4ef7-4234-b2f4-590a6a38f667",
      "metadata": {
        "id": "b16fc923-4ef7-4234-b2f4-590a6a38f667"
      },
      "source": [
        "#### ii. Once instantiated, `fit()` the model using the scaled `X_train, y_train` data."
      ]
    },
    {
      "cell_type": "code",
      "execution_count": 17,
      "id": "e9bbe834",
      "metadata": {
        "id": "e9bbe834"
      },
      "outputs": [],
      "source": []
    },
    {
      "cell_type": "markdown",
      "id": "7a09f41e-46b4-4f0b-9f63-5aa6e35eca7b",
      "metadata": {
        "id": "7a09f41e-46b4-4f0b-9f63-5aa6e35eca7b"
      },
      "source": [
        "#### iii. Employ the `predict()` function to obtain predictions on `X_test`. Store the predictions in a variable named `y_preds`. Note: Since the model has been trained on scaled data (i.e., both features and targets, the predictions will also be in the “scaled” space. We need to transform the predictions back to the original space)."
      ]
    },
    {
      "cell_type": "code",
      "execution_count": 18,
      "id": "bfad8e3a",
      "metadata": {
        "id": "bfad8e3a"
      },
      "outputs": [],
      "source": [
        "from sklearn.linear_model import LinearRegression\n",
        "\n",
        "# A. Instantiate the model\n",
        "model = LinearRegression()\n",
        "\n",
        "# B. Fit the model\n",
        "model.fit(X_train_scaled, y_train_scaled)\n",
        "\n",
        "# C Make predictions on the testing set\n",
        "y_preds_scaled = model.predict(X_test_scaled)\n",
        "\n",
        "# D. Inverse transform the predictions (back to the original scale)\n",
        "y_preds_lr = scaler_target.inverse_transform(y_preds_scaled)\n"
      ]
    },
    {
      "cell_type": "code",
      "execution_count": 18,
      "id": "e354a0cd",
      "metadata": {
        "id": "e354a0cd"
      },
      "outputs": [],
      "source": []
    },
    {
      "cell_type": "markdown",
      "id": "4330dab2-1121-4abe-8782-94f83ee2ec1f",
      "metadata": {
        "id": "4330dab2-1121-4abe-8782-94f83ee2ec1f"
      },
      "source": [
        "#### iv. Use `inverse_transform()` function to convert the normalized data (`y_preds` ) to original scale. Store the transformed values back into `y_preds`."
      ]
    },
    {
      "cell_type": "code",
      "execution_count": 19,
      "id": "6efbe79b",
      "metadata": {
        "id": "6efbe79b"
      },
      "outputs": [],
      "source": [
        "# transform predictions back to original space\n",
        "#y_preds = scaler_y.inverse_transform(y_preds)"
      ]
    },
    {
      "cell_type": "code",
      "execution_count": 19,
      "id": "88045600",
      "metadata": {
        "id": "88045600"
      },
      "outputs": [],
      "source": []
    },
    {
      "cell_type": "code",
      "execution_count": 19,
      "id": "2dd262c1",
      "metadata": {
        "id": "2dd262c1"
      },
      "outputs": [],
      "source": []
    },
    {
      "cell_type": "markdown",
      "id": "bfa373cb-33f5-4fdb-9e82-6b5de5c18e16",
      "metadata": {
        "id": "bfa373cb-33f5-4fdb-9e82-6b5de5c18e16"
      },
      "source": [
        "### d. Evaluation\n",
        "\n",
        "#### i. Plot a scatter plot using matplotlib.pyplot.scatter function. Plot the predicted median house values on the y-axis vs the actual median house values on the x-axis"
      ]
    },
    {
      "cell_type": "markdown",
      "id": "faf7711e-f2f3-443e-a0ce-05d7dc77c0c9",
      "metadata": {
        "id": "faf7711e-f2f3-443e-a0ce-05d7dc77c0c9"
      },
      "source": [
        "#### ii. Calculate MAPE, RMSE and R2 for the model and report them in the following table.  \n",
        "Hint: for RMSE set the squared parameter to False."
      ]
    },
    {
      "cell_type": "code",
      "execution_count": 20,
      "id": "8b641ab0",
      "metadata": {
        "colab": {
          "base_uri": "https://localhost:8080/",
          "height": 544
        },
        "id": "8b641ab0",
        "outputId": "972e4e38-8399-4d6a-cbf7-e11cb145590c"
      },
      "outputs": [
        {
          "output_type": "display_data",
          "data": {
            "text/plain": [
              "<Figure size 640x480 with 1 Axes>"
            ],
            "image/png": "[encoded data removed]"
          },
          "metadata": {}
        },
        {
          "output_type": "stream",
          "name": "stdout",
          "text": [
            "Evaluation Metrics:\n",
            "MAPE      : 0.29\n",
            "RMSE      : 69166.19\n",
            "R-squared : 0.64\n"
          ]
        }
      ],
      "source": [
        "import matplotlib.pyplot as plt\n",
        "from sklearn.metrics import mean_absolute_percentage_error, mean_squared_error, r2_score\n",
        "\n",
        "# i. Scatter plot of predicted vs. actual values\n",
        "plt.scatter(y_test, y_preds_lr)\n",
        "plt.xlabel('Actual Median House Value')\n",
        "plt.ylabel('Predicted Median House Value')\n",
        "plt.title('Predicted vs. Actual Median House Values')\n",
        "plt.show()\n",
        "\n",
        "# ii. Performance metrics\n",
        "mape = mean_absolute_percentage_error(y_test, y_preds_lr)\n",
        "rmse = mean_squared_error(y_test, y_preds_lr, squared=False)  # RMSE\n",
        "r2 = r2_score(y_test, y_preds_lr)\n",
        "\n",
        "# Print metrics in a table format\n",
        "print(\"Evaluation Metrics:\")\n",
        "print(f\"{'MAPE':<10}: {mape:.2f}\")\n",
        "print(f\"{'RMSE':<10}: {rmse:.2f}\")\n",
        "print(f\"{'R-squared':<10}: {r2:.2f}\")\n"
      ]
    },
    {
      "cell_type": "code",
      "execution_count": 21,
      "id": "e29bbc97",
      "metadata": {
        "id": "e29bbc97"
      },
      "outputs": [],
      "source": [
        "# Import the function learning_curve\n",
        "from sklearn.model_selection import learning_curve\n",
        "\n",
        "def plot_learning_curve(estimator, X, y, title, ylim=None, cv=None, n_jobs=None,\n",
        "                        train_sizes=np.linspace(.1, 1.0, 5)):\n",
        "    \"\"\"\n",
        "    Plotslearning curve.\n",
        "    \"\"\"\n",
        "    plt.figure()\n",
        "    plt.title(title)\n",
        "    if ylim is not None:\n",
        "        plt.ylim(*ylim)\n",
        "    plt.xlabel(\"Training examples\")\n",
        "    plt.ylabel(\"MSE\")  # We'll use MSE as our performance measure\n",
        "    train_sizes, train_scores, test_scores = learning_curve(\n",
        "        estimator, X, y, cv=cv, n_jobs=n_jobs, train_sizes=train_sizes,\n",
        "        scoring='neg_mean_squared_error')  # Use negative MSE for consistency\n",
        "    train_scores_mean = -train_scores.mean(axis=1)\n",
        "    test_scores_mean = -test_scores.mean(axis=1)\n",
        "    plt.grid()\n",
        "    plt.plot(train_sizes, train_scores_mean, 'o-', color=\"r\", label=\"Training score\")\n",
        "    plt.plot(train_sizes, test_scores_mean, 'o-', color=\"g\", label=\"Cross-validation score\")\n",
        "    plt.legend(loc=\"best\")\n",
        "    plt.show()\n"
      ]
    },
    {
      "cell_type": "markdown",
      "source": [
        "## Plot the learning curve"
      ],
      "metadata": {
        "id": "FmLQ3RBpWaXd"
      },
      "id": "FmLQ3RBpWaXd"
    },
    {
      "cell_type": "code",
      "execution_count": 22,
      "id": "e802790c",
      "metadata": {
        "colab": {
          "base_uri": "https://localhost:8080/",
          "height": 472
        },
        "id": "e802790c",
        "outputId": "954a3072-9d02-4697-df5a-d3b83f57d00b"
      },
      "outputs": [
        {
          "output_type": "display_data",
          "data": {
            "text/plain": [
              "<Figure size 640x480 with 1 Axes>"
            ],
            "image/png": "[encoded data removed]"
          },
          "metadata": {}
        }
      ],
      "source": [
        "plot_learning_curve(model,X,y, 'linear regression')"
      ]
    },
    {
      "cell_type": "markdown",
      "source": [
        "The learning curve shows a bit of over fitting as it is not converging. Can use Ridge or lasso regression and compare models"
      ],
      "metadata": {
        "id": "zwX4qxkFSL-5"
      },
      "id": "zwX4qxkFSL-5"
    },
    {
      "cell_type": "markdown",
      "source": [
        "# Using Ridge and Lasso regression\n",
        "Use the ridge and lasso and set the parameter alpha\n",
        "Use hyper parameter tuning with grid search to set the optimal alpha for each model\n",
        "\n",
        "## Hyper parameter tuning\n",
        "We can use GridSearch CV for any algo in genral. In case od ridge and Lasso we can use the RidgeCV ot LassoCV. Syntax\n",
        "ridge_cv = RidgeCV(alphas=(0.01, 1, 10), cv=5)  # Use alpha range(in log scale) and cv folds genrally 5\n",
        "ridge_cv.fit(X_train, y_train)"
      ],
      "metadata": {
        "id": "iUqO6HyINdpr"
      },
      "id": "iUqO6HyINdpr"
    },
    {
      "cell_type": "code",
      "execution_count": 23,
      "id": "a2c7b8ab",
      "metadata": {
        "colab": {
          "base_uri": "https://localhost:8080/"
        },
        "id": "a2c7b8ab",
        "outputId": "92bb7206-cff0-4189-c3e9-7242e7558520"
      },
      "outputs": [
        {
          "output_type": "stream",
          "name": "stdout",
          "text": [
            "Best Ridge: Ridge(alpha=20)\n",
            "Best Lasso: Lasso(alpha=0.01)\n"
          ]
        }
      ],
      "source": [
        "from sklearn.model_selection import GridSearchCV\n",
        "from sklearn.linear_model import Ridge, Lasso\n",
        "\n",
        "# Define a set of alphas to be used in lasso and ridge models\n",
        "alphas = [0.01, 0.1, 1, 5, 10, 20]\n",
        "\n",
        "# Define parameter grids for Ridge and Lasso\n",
        "ridge_params = {'alpha': alphas}\n",
        "lasso_params = {'alpha': alphas}\n",
        "\n",
        "# Setup cross-validation with RMSE scoring\n",
        "ridge_cv = GridSearchCV(Ridge(), ridge_params, scoring='neg_mean_squared_error', cv=5)\n",
        "lasso_cv = GridSearchCV(Lasso(), lasso_params, scoring='neg_mean_squared_error', cv=5)\n",
        "\n",
        "# Fit the models using cross-validation\n",
        "ridge_cv.fit(X_train_scaled, y_train_scaled)\n",
        "lasso_cv.fit(X_train_scaled, y_train_scaled)\n",
        "\n",
        "# Find the best models and their parameters\n",
        "best_ridge = ridge_cv.best_estimator_\n",
        "best_lasso = lasso_cv.best_estimator_\n",
        "\n",
        "print(\"Best Ridge:\", best_ridge)\n",
        "print(\"Best Lasso:\", best_lasso)\n"
      ]
    },
    {
      "cell_type": "markdown",
      "source": [
        "The ridge used a alpha of 20 for the best model and Lasso used 0.01\n",
        "The tabulate function is a nifty tool. For getting well formatted data"
      ],
      "metadata": {
        "id": "m3EZiIQoQGEX"
      },
      "id": "m3EZiIQoQGEX"
    },
    {
      "cell_type": "code",
      "execution_count": 41,
      "id": "6b73cadb",
      "metadata": {
        "colab": {
          "base_uri": "https://localhost:8080/"
        },
        "id": "6b73cadb",
        "outputId": "8ad1ba36-74d1-4daa-f475-a72323635569"
      },
      "outputs": [
        {
          "output_type": "stream",
          "name": "stdout",
          "text": [
            "+-------------------+---------+-------------+----------------------+---------+-------------+----------------+\n",
            "| Model             |     MAE |         MSE |   Explained Variance |    RMSE |   R-squared | Alpha          |\n",
            "+===================+=========+=============+======================+=========+=============+================+\n",
            "| Linear Regression | 50431.4 | 4.78396e+09 |             0.641139 | 69166.2 |    0.641138 | Not Applicable |\n",
            "+-------------------+---------+-------------+----------------------+---------+-------------+----------------+\n",
            "| Ridge             | 50448.1 | 4.78525e+09 |             0.641042 | 69175.5 |    0.641042 | 20             |\n",
            "+-------------------+---------+-------------+----------------------+---------+-------------+----------------+\n",
            "| Lasso             | 50983.7 | 4.872e+09   |             0.634537 | 69799.7 |    0.634534 | 0.01           |\n",
            "+-------------------+---------+-------------+----------------------+---------+-------------+----------------+\n"
          ]
        }
      ],
      "source": [
        "from sklearn.linear_model import LinearRegression\n",
        "from tabulate import tabulate\n",
        "from math import sqrt\n",
        "\n",
        "# Predicted score of Ridge and Lasso\n",
        "y_preds_ridge_scaled = best_ridge.predict(X_test_scaled)\n",
        "y_preds_lasso_scaled = best_lasso.predict(X_test_scaled)\n",
        "y_preds_lasso_scaled.shape\n",
        "# Invert the ridge and Lasso prediction\n",
        "y_preds_ridge = scaler_target.inverse_transform(y_preds_ridge_scaled.reshape(-1,1))\n",
        "y_preds_lasso = scaler_target.inverse_transform(y_preds_lasso_scaled.reshape(-1,1))\n",
        "# Compare using metrics\n",
        "from sklearn.metrics import mean_squared_error, r2_score\n",
        "# Calculate metrics for each model\n",
        "results = []\n",
        "\n",
        "\n",
        "results.append(['Linear Regression', mean_absolute_error(y_test, y_preds_lr),mean_squared_error(y_test, y_preds_lr),explained_variance_score(y_test, y_preds_lr),\n",
        "                sqrt(mean_squared_error(y_test, y_preds_lr)), r2_score(y_test, y_preds_lr), \"Not Applicable\"])\n",
        "\n",
        "results.append(['Ridge', mean_absolute_error(y_test, y_preds_ridge),mean_squared_error(y_test, y_preds_ridge), explained_variance_score(y_test, y_preds_ridge),\n",
        "                sqrt(mean_squared_error(y_test, y_preds_ridge)),r2_score(y_test, y_preds_ridge), best_ridge.alpha])\n",
        "\n",
        "results.append(['Lasso', mean_absolute_error(y_test, y_preds_lasso),mean_squared_error(y_test, y_preds_lasso),explained_variance_score(y_test, y_preds_lasso),\n",
        "                sqrt(mean_squared_error(y_test, y_preds_lasso)), r2_score(y_test, y_preds_lasso), best_lasso.alpha])\n",
        "\n",
        "# Create the table using tabulate\n",
        "table = tabulate(results, headers=[\"Model\", \"MAE\",\"MSE\",\"Explained Variance\", \"RMSE\",  \"R-squared\", \"Alpha\"], tablefmt='grid')\n",
        "print(table)\n"
      ]
    },
    {
      "cell_type": "markdown",
      "source": [
        "## Inference\n",
        "The best performing model is the linear regression. There is hardly a change. Lasso regression has low alpha meaning very minimal change in error coeff and all features of original model considered. Ridge shows that small change in alpha improved the model.\n",
        "\n",
        "### Action for further analysis\n",
        "Consider changing alpha list as per logarithmic scale.\n",
        "Feature engineering.\n",
        "Get list of priority features. This output does not give any idea of the coeff having impact."
      ],
      "metadata": {
        "id": "ry2BmaH4Wlt8"
      },
      "id": "ry2BmaH4Wlt8"
    },
    {
      "cell_type": "markdown",
      "source": [
        "### Extract features of importance\n",
        "\n",
        "Imp learning- list has to be changed to a np to get index. the model coeff result has to be flattened"
      ],
      "metadata": {
        "id": "uxE57tzeU7K2"
      },
      "id": "uxE57tzeU7K2"
    },
    {
      "cell_type": "code",
      "execution_count": 25,
      "id": "b97ad4bc",
      "metadata": {
        "id": "b97ad4bc",
        "colab": {
          "base_uri": "https://localhost:8080/"
        },
        "outputId": "64aaae0e-890b-41f5-e985-3eaf8cf75376"
      },
      "outputs": [
        {
          "output_type": "stream",
          "name": "stdout",
          "text": [
            "median_income                 0.666818\n",
            "population                    0.340284\n",
            "total_bedrooms                0.320039\n",
            "households                    0.210503\n",
            "ocean_proximity_INLAND        0.197902\n",
            "total_rooms                   0.145172\n",
            "housing_median_age            0.132409\n",
            "ocean_proximity_NEAR OCEAN    0.091598\n",
            "ocean_proximity_<1H OCEAN     0.084096\n",
            "ocean_proximity_NEAR BAY      0.060214\n",
            "ocean_proximity_ISLAND        0.023745\n",
            "dtype: float64\n"
          ]
        }
      ],
      "source": [
        "import pandas as pd\n",
        "\n",
        "# Assuming you have a fitted linear model (e.g., 'model') and your features in 'X'\n",
        "feature_names = X.columns\n",
        "# Convert feature_names to a NumPy array\n",
        "feature_names_array = np.array(feature_names)\n",
        "\n",
        "# Create the pandas Series\n",
        "coefs = pd.Series(model.coef_.flatten(), index=feature_names_array)\n",
        "#Coefs is now a iD array with index as feature\n",
        "\n",
        "print(coefs.abs().sort_values(ascending=False))"
      ]
    },
    {
      "cell_type": "code",
      "execution_count": 26,
      "id": "4c4f14f7",
      "metadata": {
        "id": "4c4f14f7",
        "colab": {
          "base_uri": "https://localhost:8080/"
        },
        "outputId": "647dc6cd-24dd-493a-e4ae-1d04d8fa25c9"
      },
      "outputs": [
        {
          "output_type": "stream",
          "name": "stdout",
          "text": [
            "<class 'numpy.ndarray'>\n",
            "(1, 11)\n",
            "<class 'pandas.core.indexes.base.Index'>\n",
            "Index(['housing_median_age', 'total_rooms', 'total_bedrooms', 'population',\n",
            "       'households', 'median_income', 'ocean_proximity_<1H OCEAN',\n",
            "       'ocean_proximity_INLAND', 'ocean_proximity_ISLAND',\n",
            "       'ocean_proximity_NEAR BAY', 'ocean_proximity_NEAR OCEAN'],\n",
            "      dtype='object')\n"
          ]
        },
        {
          "output_type": "execute_result",
          "data": {
            "text/plain": [
              "(11,)"
            ]
          },
          "metadata": {},
          "execution_count": 26
        }
      ],
      "source": [
        "print(type(model.coef_))\n",
        "print(model.coef_.shape)\n",
        "print(type(feature_names))\n",
        "print(feature_names)\n",
        "coefs.shape"
      ]
    },
    {
      "cell_type": "markdown",
      "source": [
        "Use SVC for the above"
      ],
      "metadata": {
        "id": "PNpPG0lZ9CdB"
      },
      "id": "PNpPG0lZ9CdB"
    },
    {
      "cell_type": "markdown",
      "source": [
        "## SVR Alogo in Grid search\n",
        "\n",
        "The code runs the svr algo with grid search. With range of parameters.\n",
        "The best model is best_svr gives model with least MSE.\n",
        "This alo takes a huge time to run keep the parameter list limited. This can take more than a hour."
      ],
      "metadata": {
        "id": "Qj4JSTQTNOMS"
      },
      "id": "Qj4JSTQTNOMS"
    },
    {
      "cell_type": "code",
      "source": [
        "from sklearn.feature_selection import RFE\n",
        "from sklearn.linear_model import LinearRegression\n",
        "from sklearn.pipeline import Pipeline\n",
        "from sklearn.preprocessing import StandardScaler\n",
        "from sklearn.svm import SVR\n",
        "from sklearn.model_selection import GridSearchCV\n",
        "\n",
        "# Using your previous data (X, y) and X_train, X_test, y_train, y_test\n",
        "\n",
        "# Define pipeline steps (unchanged)\n",
        "steps = [\n",
        "    ('scaler', StandardScaler()),\n",
        "    ('rfe', RFE(estimator=LinearRegression(), n_features_to_select=5)),\n",
        "    ('svr', SVR())\n",
        "]\n",
        "\n",
        "# Parameters for grid search\n",
        "param_grid = {\n",
        "    'svr__kernel': ['linear', 'poly', 'rbf'],\n",
        "    'svr__C': [0.1, 1],  # Sample C values\n",
        "    'svr__epsilon': [0.01, 0.1]  # Sample epsilon values\n",
        "}\n",
        "\n",
        "# Create the pipeline\n",
        "pipeline = Pipeline(steps)\n",
        "\n",
        "# Grid Search for hyperparameter tuning\n",
        "grid_search = GridSearchCV(pipeline, param_grid, cv=5, scoring='neg_mean_squared_error')\n",
        "\n",
        "# Fit the grid search to your training data\n",
        "grid_search.fit(X_train, y_train)\n",
        "\n",
        "# Best model\n",
        "best_svr = grid_search.best_estimator_\n",
        "print(best_svr)\n",
        "\n",
        "# Make predictions using the best model\n",
        "y_preds_svr = best_svr.predict(X_test)\n"
      ],
      "metadata": {
        "colab": {
          "base_uri": "https://localhost:8080/"
        },
        "id": "FfNWUkAOGUmD",
        "outputId": "d21e818e-fe07-49bf-85b7-8ff6620f1db0"
      },
      "id": "FfNWUkAOGUmD",
      "execution_count": 38,
      "outputs": [
        {
          "output_type": "stream",
          "name": "stdout",
          "text": [
            "Pipeline(steps=[('scaler', StandardScaler()),\n",
            "                ('rfe',\n",
            "                 RFE(estimator=LinearRegression(), n_features_to_select=5)),\n",
            "                ('svr', SVR(C=1, kernel='linear'))])\n"
          ]
        }
      ]
    },
    {
      "cell_type": "code",
      "source": [
        "#Add the results of the svc to the mainresults table\n",
        "results.append(['SVR Regression hyper2', mean_absolute_error(y_test, y_preds_svr),mean_squared_error(y_test, y_preds_svr),explained_variance_score(y_test, y_preds_svr),\n",
        "                sqrt(mean_squared_error(y_test, y_preds_svr)), r2_score(y_test, y_preds_svr), \"Not Applicable\"])\n",
        "\n",
        "# Create the table using tabulate\n",
        "table2 = tabulate(results, headers=[\"Model\", \"MAE\",\"MSE\",\"Explained Variance\", \"RMSE\",  \"R-squared\", \"Alpha\"], tablefmt='grid')\n",
        "print(table2)"
      ],
      "metadata": {
        "colab": {
          "base_uri": "https://localhost:8080/"
        },
        "id": "qvzxbXYJGhTD",
        "outputId": "66780d88-b1c1-49de-9b06-10c896ce093c"
      },
      "id": "qvzxbXYJGhTD",
      "execution_count": 42,
      "outputs": [
        {
          "output_type": "stream",
          "name": "stdout",
          "text": [
            "+-----------------------+---------+-------------+----------------------+----------+-------------+----------------+\n",
            "| Model                 |     MAE |         MSE |   Explained Variance |     RMSE |   R-squared | Alpha          |\n",
            "+=======================+=========+=============+======================+==========+=============+================+\n",
            "| Linear Regression     | 50431.4 | 4.78396e+09 |             0.641139 |  69166.2 |   0.641138  | Not Applicable |\n",
            "+-----------------------+---------+-------------+----------------------+----------+-------------+----------------+\n",
            "| Ridge                 | 50448.1 | 4.78525e+09 |             0.641042 |  69175.5 |   0.641042  | 20             |\n",
            "+-----------------------+---------+-------------+----------------------+----------+-------------+----------------+\n",
            "| Lasso                 | 50983.7 | 4.872e+09   |             0.634537 |  69799.7 |   0.634534  | 0.01           |\n",
            "+-----------------------+---------+-------------+----------------------+----------+-------------+----------------+\n",
            "| SVR Regression hyper2 | 80424.4 | 1.20647e+10 |             0.150702 | 109839   |   0.0949852 | Not Applicable |\n",
            "+-----------------------+---------+-------------+----------------------+----------+-------------+----------------+\n"
          ]
        }
      ]
    },
    {
      "cell_type": "markdown",
      "source": [
        "## Inference\n",
        "The svr had degraded the model performance. Result needs to be analysed further."
      ],
      "metadata": {
        "id": "4fIBEzMsSUAp"
      },
      "id": "4fIBEzMsSUAp"
    }
  ],
  "metadata": {
    "kernelspec": {
      "display_name": "Python 3 (ipykernel)",
      "language": "python",
      "name": "python3"
    },
    "language_info": {
      "codemirror_mode": {
        "name": "ipython",
        "version": 3
      },
      "file_extension": ".py",
      "mimetype": "text/x-python",
      "name": "python",
      "nbconvert_exporter": "python",
      "pygments_lexer": "ipython3",
      "version": "3.9.7"
    },
    "colab": {
      "provenance": [],
      "include_colab_link": true
    }
  },
  "nbformat": 4,
  "nbformat_minor": 5
}
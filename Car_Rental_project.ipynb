{
  "nbformat": 4,
  "nbformat_minor": 0,
  "metadata": {
    "colab": {
      "provenance": [],
      "include_colab_link": true
    },
    "kernelspec": {
      "name": "python3",
      "display_name": "Python 3"
    },
    "language_info": {
      "name": "python"
    }
  },
  "cells": [
    {
      "cell_type": "markdown",
      "metadata": {
        "id": "view-in-github",
        "colab_type": "text"
      },
      "source": [
        "<a href=\"https://colab.research.google.com/github/rpedram/data-science/blob/main/Car_Rental_project.ipynb\" target=\"_parent\"><img src=\"https://colab.research.google.com/assets/colab-badge.svg\" alt=\"Open In Colab\"/></a>"
      ]
    },
    {
      "cell_type": "code",
      "execution_count": null,
      "metadata": {
        "id": "eLoyZY39GMnL"
      },
      "outputs": [],
      "source": []
    },
    {
      "cell_type": "code",
      "source": [
        "#Project for Car Rental Website\n",
        "class car():\n",
        "  counter=0\n",
        "  #Constructor to have cars on rent on hourly, daily and weekly basis\n",
        "  def __init__(self,stock,rentonhour,rentondaily,rentonweekly):\n",
        "        self.stock=stock\n",
        "        self.rentonhour=rentonhour\n",
        "        self.rentondaily=rentondaily\n",
        "        self.rentonweekly=rentonweekly\n",
        "        car.counter+=1\n",
        "  def displaycar(self):\n",
        "         print(\"Total cars in stock\",self.stock)\n",
        "  def rentforcar(self,n):\n",
        "         if n<=0:\n",
        "            print(\"Enter the positive value or greater than zero\")\n",
        "         elif n>self.stock:\n",
        "            print(\"Enter the value less then stock\")\n",
        "         else:\n",
        "            print(\"Total cars remain in stock\",self.stock-n)\n",
        "  def rentonhour(self,n):\n",
        "    if n>=0:\n",
        "      print(\"Total bill amount:\", n*400)\n",
        "  def rentondaily(self,n):\n",
        "    if n>=0:\n",
        "      print(\"Total Bill Amount:\",n*10000)\n",
        "  def rentonweekly(self,n):\n",
        "    if n>=0:\n",
        "      print(\"Total Bill Amount:\",n*50000)\n",
        "\n",
        "while True:\n",
        "        obj=car(100,400,10000,50000)\n",
        "        userchoice =int(input('''\n",
        "        1.Total numbers of available cars\n",
        "        2.Enter quantity of cars for rent\n",
        "        3.Choose if car required on hourly basis at Rs.400 per hour\n",
        "        4.Choose if car required on daily basis at Rs. 10000 per day\n",
        "        5.Choose if car required on weekly basis at Rs. 50000 per week\n",
        "        6.Exit\n",
        "        '''))\n",
        "        if userchoice==1:\n",
        "             obj.displaycar()\n",
        "        elif userchoice==2:\n",
        "            a=int(input(\"Enter the quantity:\"))\n",
        "            obj.rentforcar(a)\n",
        "        elif userchoice==3:\n",
        "          b=int(input(\"Enter number of Hours:\"))\n",
        "          print('Bill Amount:',a*b*400)\n",
        "        elif userchoice==4:\n",
        "          c=int(input(\"Enter Number of Days:\"))\n",
        "          print('Bill Amount:',a*c*10000)\n",
        "        elif userchoice==5:\n",
        "          d=int(input(\"Enter of Week\"))\n",
        "          print(\"Total Bill:\",a*d*50000)\n",
        "        else:\n",
        "            print(\"Thank you for your patronage\")\n",
        "            break"
      ],
      "metadata": {
        "colab": {
          "base_uri": "https://localhost:8080/"
        },
        "id": "grJJ7-1qO9yO",
        "outputId": "73be34a5-7ade-4f71-896b-4d38c713cce3"
      },
      "execution_count": null,
      "outputs": [
        {
          "output_type": "stream",
          "name": "stdout",
          "text": [
            "\n",
            "        1.Total numbers of available cars\n",
            "        2.Enter quantity of cars for rent\n",
            "        3.Choose if car required on hourly basis at Rs.400 per hour\n",
            "        4.Choose if car required on daily basis at Rs. 10000 per day\n",
            "        5.Choose if car required on weekly basis at Rs. 50000 per week\n",
            "        6.Exit\n",
            "        1\n",
            "Total cars in stock 100\n",
            "\n",
            "        1.Total numbers of available cars\n",
            "        2.Enter quantity of cars for rent\n",
            "        3.Choose if car required on hourly basis at Rs.400 per hour\n",
            "        4.Choose if car required on daily basis at Rs. 10000 per day\n",
            "        5.Choose if car required on weekly basis at Rs. 50000 per week\n",
            "        6.Exit\n",
            "        2\n",
            "Enter the quantity:1\n",
            "Total cars remain in stock 99\n",
            "\n",
            "        1.Total numbers of available cars\n",
            "        2.Enter quantity of cars for rent\n",
            "        3.Choose if car required on hourly basis at Rs.400 per hour\n",
            "        4.Choose if car required on daily basis at Rs. 10000 per day\n",
            "        5.Choose if car required on weekly basis at Rs. 50000 per week\n",
            "        6.Exit\n",
            "        5\n",
            "Enter of Week1\n",
            "Total Bill: 50000\n",
            "\n",
            "        1.Total numbers of available cars\n",
            "        2.Enter quantity of cars for rent\n",
            "        3.Choose if car required on hourly basis at Rs.400 per hour\n",
            "        4.Choose if car required on daily basis at Rs. 10000 per day\n",
            "        5.Choose if car required on weekly basis at Rs. 50000 per week\n",
            "        6.Exit\n",
            "        6\n",
            "Thank you for your patronage\n"
          ]
        }
      ]
    }
  ]
}
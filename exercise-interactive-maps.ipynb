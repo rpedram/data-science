{
 "cells": [
  {
   "cell_type": "markdown",
   "id": "723b8c3d",
   "metadata": {
    "papermill": {
     "duration": 0.011526,
     "end_time": "2024-08-06T01:47:31.104353",
     "exception": false,
     "start_time": "2024-08-06T01:47:31.092827",
     "status": "completed"
    },
    "tags": []
   },
   "source": [
    "**This notebook is an exercise in the [Geospatial Analysis](https://www.kaggle.com/learn/geospatial-analysis) course.  You can reference the tutorial at [this link](https://www.kaggle.com/alexisbcook/interactive-maps).**\n",
    "\n",
    "---\n"
   ]
  },
  {
   "cell_type": "markdown",
   "id": "a9fa93a7",
   "metadata": {
    "papermill": {
     "duration": 0.011495,
     "end_time": "2024-08-06T01:47:31.127039",
     "exception": false,
     "start_time": "2024-08-06T01:47:31.115544",
     "status": "completed"
    },
    "tags": []
   },
   "source": [
    "# Introduction\n",
    "\n",
    "You are an urban safety planner in Japan, and you are analyzing which areas of Japan need extra earthquake reinforcement.  Which areas are both high in population density and prone to earthquakes?\n",
    "\n",
    "<center>\n",
    "<img src=\"https://storage.googleapis.com/kaggle-media/learn/images/Kuh9gPj.png\" width=\"450\"><br/>\n",
    "</center>\n",
    "\n",
    "Before you get started, run the code cell below to set everything up."
   ]
  },
  {
   "cell_type": "code",
   "execution_count": 1,
   "id": "da0e2d8d",
   "metadata": {
    "execution": {
     "iopub.execute_input": "2024-08-06T01:47:31.152177Z",
     "iopub.status.busy": "2024-08-06T01:47:31.151118Z",
     "iopub.status.idle": "2024-08-06T01:47:33.336233Z",
     "shell.execute_reply": "2024-08-06T01:47:33.334820Z"
    },
    "papermill": {
     "duration": 2.200813,
     "end_time": "2024-08-06T01:47:33.339386",
     "exception": false,
     "start_time": "2024-08-06T01:47:31.138573",
     "status": "completed"
    },
    "tags": []
   },
   "outputs": [],
   "source": [
    "import pandas as pd\n",
    "import geopandas as gpd\n",
    "\n",
    "import folium\n",
    "from folium import Choropleth\n",
    "from folium.plugins import HeatMap\n",
    "\n",
    "from learntools.core import binder\n",
    "binder.bind(globals())\n",
    "from learntools.geospatial.ex3 import *"
   ]
  },
  {
   "cell_type": "markdown",
   "id": "25590abf",
   "metadata": {
    "papermill": {
     "duration": 0.01086,
     "end_time": "2024-08-06T01:47:33.363185",
     "exception": false,
     "start_time": "2024-08-06T01:47:33.352325",
     "status": "completed"
    },
    "tags": []
   },
   "source": [
    "We define a function `embed_map()` for displaying interactive maps. It accepts two arguments: the variable containing the map, and the name of the HTML file where the map will be saved.\n",
    "\n",
    "This function ensures that the maps are visible [in all web browsers](https://github.com/python-visualization/folium/issues/812)."
   ]
  },
  {
   "cell_type": "code",
   "execution_count": 2,
   "id": "2fbe9764",
   "metadata": {
    "execution": {
     "iopub.execute_input": "2024-08-06T01:47:33.388194Z",
     "iopub.status.busy": "2024-08-06T01:47:33.387602Z",
     "iopub.status.idle": "2024-08-06T01:47:33.394544Z",
     "shell.execute_reply": "2024-08-06T01:47:33.393367Z"
    },
    "papermill": {
     "duration": 0.022757,
     "end_time": "2024-08-06T01:47:33.397099",
     "exception": false,
     "start_time": "2024-08-06T01:47:33.374342",
     "status": "completed"
    },
    "tags": []
   },
   "outputs": [],
   "source": [
    "def embed_map(m, file_name):\n",
    "    from IPython.display import IFrame\n",
    "    m.save(file_name)\n",
    "    return IFrame(file_name, width='100%', height='500px')"
   ]
  },
  {
   "cell_type": "markdown",
   "id": "d25aeee1",
   "metadata": {
    "papermill": {
     "duration": 0.014161,
     "end_time": "2024-08-06T01:47:33.423864",
     "exception": false,
     "start_time": "2024-08-06T01:47:33.409703",
     "status": "completed"
    },
    "tags": []
   },
   "source": [
    "# Exercises\n",
    "\n",
    "### 1) Do earthquakes coincide with plate boundaries?\n",
    "\n",
    "Run the code cell below to create a DataFrame `plate_boundaries` that shows global plate boundaries.  The \"coordinates\" column is a list of (latitude, longitude) locations along the boundaries."
   ]
  },
  {
   "cell_type": "code",
   "execution_count": 3,
   "id": "ef0250e2",
   "metadata": {
    "execution": {
     "iopub.execute_input": "2024-08-06T01:47:33.455555Z",
     "iopub.status.busy": "2024-08-06T01:47:33.454822Z",
     "iopub.status.idle": "2024-08-06T01:47:34.354317Z",
     "shell.execute_reply": "2024-08-06T01:47:34.353145Z"
    },
    "papermill": {
     "duration": 0.918734,
     "end_time": "2024-08-06T01:47:34.356946",
     "exception": false,
     "start_time": "2024-08-06T01:47:33.438212",
     "status": "completed"
    },
    "tags": []
   },
   "outputs": [
    {
     "data": {
      "text/html": [
       "<div>\n",
       "<style scoped>\n",
       "    .dataframe tbody tr th:only-of-type {\n",
       "        vertical-align: middle;\n",
       "    }\n",
       "\n",
       "    .dataframe tbody tr th {\n",
       "        vertical-align: top;\n",
       "    }\n",
       "\n",
       "    .dataframe thead th {\n",
       "        text-align: right;\n",
       "    }\n",
       "</style>\n",
       "<table border=\"1\" class=\"dataframe\">\n",
       "  <thead>\n",
       "    <tr style=\"text-align: right;\">\n",
       "      <th></th>\n",
       "      <th>HAZ_PLATES</th>\n",
       "      <th>HAZ_PLAT_1</th>\n",
       "      <th>HAZ_PLAT_2</th>\n",
       "      <th>Shape_Leng</th>\n",
       "      <th>coordinates</th>\n",
       "    </tr>\n",
       "  </thead>\n",
       "  <tbody>\n",
       "    <tr>\n",
       "      <th>0</th>\n",
       "      <td>TRENCH</td>\n",
       "      <td>SERAM TROUGH (ACTIVE)</td>\n",
       "      <td>6722</td>\n",
       "      <td>5.843467</td>\n",
       "      <td>[(-5.444200361999947, 133.6808931800001), (-5....</td>\n",
       "    </tr>\n",
       "    <tr>\n",
       "      <th>1</th>\n",
       "      <td>TRENCH</td>\n",
       "      <td>WETAR THRUST</td>\n",
       "      <td>6722</td>\n",
       "      <td>1.829013</td>\n",
       "      <td>[(-7.760600482999962, 125.47879802900002), (-7...</td>\n",
       "    </tr>\n",
       "    <tr>\n",
       "      <th>2</th>\n",
       "      <td>TRENCH</td>\n",
       "      <td>TRENCH WEST OF LUZON (MANILA TRENCH) NORTHERN ...</td>\n",
       "      <td>6621</td>\n",
       "      <td>6.743604</td>\n",
       "      <td>[(19.817899819000047, 120.09999798800004), (19...</td>\n",
       "    </tr>\n",
       "    <tr>\n",
       "      <th>3</th>\n",
       "      <td>TRENCH</td>\n",
       "      <td>BONIN TRENCH</td>\n",
       "      <td>9821</td>\n",
       "      <td>8.329381</td>\n",
       "      <td>[(26.175899215000072, 143.20620700100005), (26...</td>\n",
       "    </tr>\n",
       "    <tr>\n",
       "      <th>4</th>\n",
       "      <td>TRENCH</td>\n",
       "      <td>NEW GUINEA TRENCH</td>\n",
       "      <td>8001</td>\n",
       "      <td>11.998145</td>\n",
       "      <td>[(0.41880004000006466, 132.8273013480001), (0....</td>\n",
       "    </tr>\n",
       "  </tbody>\n",
       "</table>\n",
       "</div>"
      ],
      "text/plain": [
       "  HAZ_PLATES                                         HAZ_PLAT_1  HAZ_PLAT_2  \\\n",
       "0     TRENCH                              SERAM TROUGH (ACTIVE)        6722   \n",
       "1     TRENCH                                       WETAR THRUST        6722   \n",
       "2     TRENCH  TRENCH WEST OF LUZON (MANILA TRENCH) NORTHERN ...        6621   \n",
       "3     TRENCH                                       BONIN TRENCH        9821   \n",
       "4     TRENCH                                  NEW GUINEA TRENCH        8001   \n",
       "\n",
       "   Shape_Leng                                        coordinates  \n",
       "0    5.843467  [(-5.444200361999947, 133.6808931800001), (-5....  \n",
       "1    1.829013  [(-7.760600482999962, 125.47879802900002), (-7...  \n",
       "2    6.743604  [(19.817899819000047, 120.09999798800004), (19...  \n",
       "3    8.329381  [(26.175899215000072, 143.20620700100005), (26...  \n",
       "4   11.998145  [(0.41880004000006466, 132.8273013480001), (0....  "
      ]
     },
     "execution_count": 3,
     "metadata": {},
     "output_type": "execute_result"
    }
   ],
   "source": [
    "plate_boundaries = gpd.read_file(\"../input/geospatial-learn-course-data/Plate_Boundaries/Plate_Boundaries/Plate_Boundaries.shp\")\n",
    "plate_boundaries['coordinates'] = plate_boundaries.apply(lambda x: [(b,a) for (a,b) in list(x.geometry.coords)], axis='columns')\n",
    "plate_boundaries.drop('geometry', axis=1, inplace=True)\n",
    "\n",
    "plate_boundaries.head()"
   ]
  },
  {
   "cell_type": "markdown",
   "id": "e103f5b1",
   "metadata": {
    "papermill": {
     "duration": 0.011951,
     "end_time": "2024-08-06T01:47:34.380128",
     "exception": false,
     "start_time": "2024-08-06T01:47:34.368177",
     "status": "completed"
    },
    "tags": []
   },
   "source": [
    "Next, run the code cell below without changes to load the historical earthquake data into a DataFrame `earthquakes`."
   ]
  },
  {
   "cell_type": "code",
   "execution_count": 4,
   "id": "c329739c",
   "metadata": {
    "execution": {
     "iopub.execute_input": "2024-08-06T01:47:34.404326Z",
     "iopub.status.busy": "2024-08-06T01:47:34.403945Z",
     "iopub.status.idle": "2024-08-06T01:47:34.474414Z",
     "shell.execute_reply": "2024-08-06T01:47:34.473343Z"
    },
    "papermill": {
     "duration": 0.085774,
     "end_time": "2024-08-06T01:47:34.477141",
     "exception": false,
     "start_time": "2024-08-06T01:47:34.391367",
     "status": "completed"
    },
    "tags": []
   },
   "outputs": [
    {
     "data": {
      "text/html": [
       "<div>\n",
       "<style scoped>\n",
       "    .dataframe tbody tr th:only-of-type {\n",
       "        vertical-align: middle;\n",
       "    }\n",
       "\n",
       "    .dataframe tbody tr th {\n",
       "        vertical-align: top;\n",
       "    }\n",
       "\n",
       "    .dataframe thead th {\n",
       "        text-align: right;\n",
       "    }\n",
       "</style>\n",
       "<table border=\"1\" class=\"dataframe\">\n",
       "  <thead>\n",
       "    <tr style=\"text-align: right;\">\n",
       "      <th></th>\n",
       "      <th>DateTime</th>\n",
       "      <th>Latitude</th>\n",
       "      <th>Longitude</th>\n",
       "      <th>Depth</th>\n",
       "      <th>Magnitude</th>\n",
       "      <th>MagType</th>\n",
       "      <th>NbStations</th>\n",
       "      <th>Gap</th>\n",
       "      <th>Distance</th>\n",
       "      <th>RMS</th>\n",
       "      <th>Source</th>\n",
       "      <th>EventID</th>\n",
       "    </tr>\n",
       "  </thead>\n",
       "  <tbody>\n",
       "    <tr>\n",
       "      <th>0</th>\n",
       "      <td>1970-01-04 17:00:40.200</td>\n",
       "      <td>24.139</td>\n",
       "      <td>102.503</td>\n",
       "      <td>31.0</td>\n",
       "      <td>7.5</td>\n",
       "      <td>Ms</td>\n",
       "      <td>90.0</td>\n",
       "      <td>NaN</td>\n",
       "      <td>NaN</td>\n",
       "      <td>0.0</td>\n",
       "      <td>NEI</td>\n",
       "      <td>1.970010e+09</td>\n",
       "    </tr>\n",
       "    <tr>\n",
       "      <th>1</th>\n",
       "      <td>1970-01-06 05:35:51.800</td>\n",
       "      <td>-9.628</td>\n",
       "      <td>151.458</td>\n",
       "      <td>8.0</td>\n",
       "      <td>6.2</td>\n",
       "      <td>Ms</td>\n",
       "      <td>85.0</td>\n",
       "      <td>NaN</td>\n",
       "      <td>NaN</td>\n",
       "      <td>0.0</td>\n",
       "      <td>NEI</td>\n",
       "      <td>1.970011e+09</td>\n",
       "    </tr>\n",
       "    <tr>\n",
       "      <th>2</th>\n",
       "      <td>1970-01-08 17:12:39.100</td>\n",
       "      <td>-34.741</td>\n",
       "      <td>178.568</td>\n",
       "      <td>179.0</td>\n",
       "      <td>6.1</td>\n",
       "      <td>Mb</td>\n",
       "      <td>59.0</td>\n",
       "      <td>NaN</td>\n",
       "      <td>NaN</td>\n",
       "      <td>0.0</td>\n",
       "      <td>NEI</td>\n",
       "      <td>1.970011e+09</td>\n",
       "    </tr>\n",
       "    <tr>\n",
       "      <th>3</th>\n",
       "      <td>1970-01-10 12:07:08.600</td>\n",
       "      <td>6.825</td>\n",
       "      <td>126.737</td>\n",
       "      <td>73.0</td>\n",
       "      <td>6.1</td>\n",
       "      <td>Mb</td>\n",
       "      <td>91.0</td>\n",
       "      <td>NaN</td>\n",
       "      <td>NaN</td>\n",
       "      <td>0.0</td>\n",
       "      <td>NEI</td>\n",
       "      <td>1.970011e+09</td>\n",
       "    </tr>\n",
       "    <tr>\n",
       "      <th>4</th>\n",
       "      <td>1970-01-16 08:05:39.000</td>\n",
       "      <td>60.280</td>\n",
       "      <td>-152.660</td>\n",
       "      <td>85.0</td>\n",
       "      <td>6.0</td>\n",
       "      <td>ML</td>\n",
       "      <td>0.0</td>\n",
       "      <td>NaN</td>\n",
       "      <td>NaN</td>\n",
       "      <td>NaN</td>\n",
       "      <td>AK</td>\n",
       "      <td>NaN</td>\n",
       "    </tr>\n",
       "  </tbody>\n",
       "</table>\n",
       "</div>"
      ],
      "text/plain": [
       "                 DateTime  Latitude  Longitude  Depth  Magnitude MagType  \\\n",
       "0 1970-01-04 17:00:40.200    24.139    102.503   31.0        7.5      Ms   \n",
       "1 1970-01-06 05:35:51.800    -9.628    151.458    8.0        6.2      Ms   \n",
       "2 1970-01-08 17:12:39.100   -34.741    178.568  179.0        6.1      Mb   \n",
       "3 1970-01-10 12:07:08.600     6.825    126.737   73.0        6.1      Mb   \n",
       "4 1970-01-16 08:05:39.000    60.280   -152.660   85.0        6.0      ML   \n",
       "\n",
       "   NbStations  Gap  Distance  RMS Source       EventID  \n",
       "0        90.0  NaN       NaN  0.0    NEI  1.970010e+09  \n",
       "1        85.0  NaN       NaN  0.0    NEI  1.970011e+09  \n",
       "2        59.0  NaN       NaN  0.0    NEI  1.970011e+09  \n",
       "3        91.0  NaN       NaN  0.0    NEI  1.970011e+09  \n",
       "4         0.0  NaN       NaN  NaN     AK           NaN  "
      ]
     },
     "execution_count": 4,
     "metadata": {},
     "output_type": "execute_result"
    }
   ],
   "source": [
    "# Load the data and print the first 5 rows\n",
    "earthquakes = pd.read_csv(\"../input/geospatial-learn-course-data/earthquakes1970-2014.csv\", parse_dates=[\"DateTime\"])\n",
    "earthquakes.head()\n",
    "# earthquakes.Depth.min() max is 688 min 0"
   ]
  },
  {
   "cell_type": "markdown",
   "id": "e8ad0b7b",
   "metadata": {
    "papermill": {
     "duration": 0.011294,
     "end_time": "2024-08-06T01:47:34.500442",
     "exception": false,
     "start_time": "2024-08-06T01:47:34.489148",
     "status": "completed"
    },
    "tags": []
   },
   "source": [
    "The code cell below visualizes the plate boundaries on a map.  Use all of the earthquake data to add a heatmap to the same map, to determine whether earthquakes coincide with plate boundaries.  "
   ]
  },
  {
   "cell_type": "code",
   "execution_count": 5,
   "id": "46340e40",
   "metadata": {
    "execution": {
     "iopub.execute_input": "2024-08-06T01:47:34.525860Z",
     "iopub.status.busy": "2024-08-06T01:47:34.525471Z",
     "iopub.status.idle": "2024-08-06T01:47:35.181185Z",
     "shell.execute_reply": "2024-08-06T01:47:35.179875Z"
    },
    "papermill": {
     "duration": 0.67205,
     "end_time": "2024-08-06T01:47:35.184089",
     "exception": false,
     "start_time": "2024-08-06T01:47:34.512039",
     "status": "completed"
    },
    "tags": []
   },
   "outputs": [
    {
     "data": {
      "text/html": [
       "\n",
       "        <iframe\n",
       "            width=\"100%\"\n",
       "            height=\"500px\"\n",
       "            src=\"q_1.html\"\n",
       "            frameborder=\"0\"\n",
       "            allowfullscreen\n",
       "            \n",
       "        ></iframe>\n",
       "        "
      ],
      "text/plain": [
       "<IPython.lib.display.IFrame at 0x7a877e30ca60>"
      ]
     },
     "execution_count": 5,
     "metadata": {},
     "output_type": "execute_result"
    }
   ],
   "source": [
    "# Create a base map with plate boundaries\n",
    "m_1 = folium.Map(location=[35,136], tiles='cartodbpositron', zoom_start=5)\n",
    "for i in range(len(plate_boundaries)):\n",
    "    folium.PolyLine(locations=plate_boundaries.coordinates.iloc[i], weight=2, color='black').add_to(m_1)\n",
    "\n",
    "# Your code here: Add a heatmap to the map\n",
    "HeatMap(data=earthquakes[['Latitude', 'Longitude']], radius=10).add_to(m_1)\n",
    "\n",
    "# Display the map\n",
    "m_1\n",
    "# Uncomment to see a hint\n",
    "#q_1.a.hint()\n",
    "\n",
    "# Show the map\n",
    "embed_map(m_1, 'q_1.html')"
   ]
  },
  {
   "cell_type": "code",
   "execution_count": 6,
   "id": "b1ae7682",
   "metadata": {
    "execution": {
     "iopub.execute_input": "2024-08-06T01:47:35.209853Z",
     "iopub.status.busy": "2024-08-06T01:47:35.209440Z",
     "iopub.status.idle": "2024-08-06T01:47:35.219920Z",
     "shell.execute_reply": "2024-08-06T01:47:35.218659Z"
    },
    "papermill": {
     "duration": 0.026418,
     "end_time": "2024-08-06T01:47:35.222424",
     "exception": false,
     "start_time": "2024-08-06T01:47:35.196006",
     "status": "completed"
    },
    "tags": []
   },
   "outputs": [
    {
     "data": {
      "application/javascript": [
       "parent.postMessage({\"jupyterEvent\": \"custom.exercise_interaction\", \"data\": {\"outcomeType\": 1, \"valueTowardsCompletion\": 1.0, \"interactionType\": 1, \"questionType\": 2, \"questionId\": \"1.1_Q1P\", \"learnToolsVersion\": \"0.3.4\", \"failureMessage\": \"\", \"exceptionClass\": \"\", \"trace\": \"\"}}, \"*\")"
      ],
      "text/plain": [
       "<IPython.core.display.Javascript object>"
      ]
     },
     "metadata": {},
     "output_type": "display_data"
    },
    {
     "data": {
      "text/markdown": [
       "<span style=\"color:#33cc33\">Thank you for creating a map!</span>"
      ],
      "text/plain": [
       "Thank you for creating a map!"
      ]
     },
     "metadata": {},
     "output_type": "display_data"
    }
   ],
   "source": [
    "# Get credit for your work after you have created a map\n",
    "q_1.a.check()\n",
    "\n",
    "# Uncomment to see our solution (your code may look different!)\n",
    "#q_1.a.solution()"
   ]
  },
  {
   "cell_type": "markdown",
   "id": "5a7e777d",
   "metadata": {
    "papermill": {
     "duration": 0.011989,
     "end_time": "2024-08-06T01:47:35.246463",
     "exception": false,
     "start_time": "2024-08-06T01:47:35.234474",
     "status": "completed"
    },
    "tags": []
   },
   "source": [
    "So, given the map above, do earthquakes coincide with plate boundaries?"
   ]
  },
  {
   "cell_type": "code",
   "execution_count": 7,
   "id": "c77ba31d",
   "metadata": {
    "execution": {
     "iopub.execute_input": "2024-08-06T01:47:35.273363Z",
     "iopub.status.busy": "2024-08-06T01:47:35.272942Z",
     "iopub.status.idle": "2024-08-06T01:47:35.282976Z",
     "shell.execute_reply": "2024-08-06T01:47:35.281607Z"
    },
    "papermill": {
     "duration": 0.026536,
     "end_time": "2024-08-06T01:47:35.285770",
     "exception": false,
     "start_time": "2024-08-06T01:47:35.259234",
     "status": "completed"
    },
    "tags": []
   },
   "outputs": [
    {
     "data": {
      "application/javascript": [
       "parent.postMessage({\"jupyterEvent\": \"custom.exercise_interaction\", \"data\": {\"interactionType\": 3, \"questionType\": 4, \"questionId\": \"1.2_Q1T\", \"learnToolsVersion\": \"0.3.4\", \"valueTowardsCompletion\": 0.0, \"failureMessage\": \"\", \"exceptionClass\": \"\", \"trace\": \"\", \"outcomeType\": 4}}, \"*\")"
      ],
      "text/plain": [
       "<IPython.core.display.Javascript object>"
      ]
     },
     "metadata": {},
     "output_type": "display_data"
    },
    {
     "data": {
      "text/markdown": [
       "<span style=\"color:#33cc99\">Solution:</span> Yes, earthquakes coincide with plate boundaries."
      ],
      "text/plain": [
       "Solution: Yes, earthquakes coincide with plate boundaries."
      ]
     },
     "metadata": {},
     "output_type": "display_data"
    }
   ],
   "source": [
    "# View the solution (Run this code cell to receive credit!)\n",
    "q_1.b.solution()"
   ]
  },
  {
   "cell_type": "markdown",
   "id": "dacfaf5e",
   "metadata": {
    "papermill": {
     "duration": 0.013617,
     "end_time": "2024-08-06T01:47:35.312192",
     "exception": false,
     "start_time": "2024-08-06T01:47:35.298575",
     "status": "completed"
    },
    "tags": []
   },
   "source": [
    "### 2) Is there a relationship between earthquake depth and proximity to a plate boundary in Japan?\n",
    "\n",
    "You recently read that the depth of earthquakes tells us [important information](https://www.usgs.gov/faqs/what-depth-do-earthquakes-occur-what-significance-depth?qt-news_science_products=0#qt-news_science_products) about the structure of the earth.  You're interested to see if there are any intereresting global patterns, and you'd also like to understand how depth varies in Japan.\n",
    "\n"
   ]
  },
  {
   "cell_type": "code",
   "execution_count": 8,
   "id": "48e05ecd",
   "metadata": {
    "execution": {
     "iopub.execute_input": "2024-08-06T01:47:35.339799Z",
     "iopub.status.busy": "2024-08-06T01:47:35.339355Z",
     "iopub.status.idle": "2024-08-06T01:47:41.915268Z",
     "shell.execute_reply": "2024-08-06T01:47:41.913804Z"
    },
    "papermill": {
     "duration": 6.592728,
     "end_time": "2024-08-06T01:47:41.918083",
     "exception": false,
     "start_time": "2024-08-06T01:47:35.325355",
     "status": "completed"
    },
    "tags": []
   },
   "outputs": [
    {
     "data": {
      "application/javascript": [
       "parent.postMessage({\"jupyterEvent\": \"custom.exercise_interaction\", \"data\": {\"interactionType\": 2, \"questionType\": 2, \"questionId\": \"2.1_Q2P\", \"learnToolsVersion\": \"0.3.4\", \"valueTowardsCompletion\": 0.0, \"failureMessage\": \"\", \"exceptionClass\": \"\", \"trace\": \"\", \"outcomeType\": 4}}, \"*\")"
      ],
      "text/plain": [
       "<IPython.core.display.Javascript object>"
      ]
     },
     "metadata": {},
     "output_type": "display_data"
    },
    {
     "data": {
      "text/markdown": [
       "<span style=\"color:#3366cc\">Hint:</span> Use `folium.Circle()` to create a bubble map. We visualized the relationship between location and depth by assigning the color of each circle based on the depth of the corresponding earthquake."
      ],
      "text/plain": [
       "Hint: Use `folium.Circle()` to create a bubble map. We visualized the relationship between location and depth by assigning the color of each circle based on the depth of the corresponding earthquake."
      ]
     },
     "metadata": {},
     "output_type": "display_data"
    },
    {
     "data": {
      "text/html": [
       "\n",
       "        <iframe\n",
       "            width=\"100%\"\n",
       "            height=\"500px\"\n",
       "            src=\"q_2.html\"\n",
       "            frameborder=\"0\"\n",
       "            allowfullscreen\n",
       "            \n",
       "        ></iframe>\n",
       "        "
      ],
      "text/plain": [
       "<IPython.lib.display.IFrame at 0x7a877d09d9f0>"
      ]
     },
     "execution_count": 8,
     "metadata": {},
     "output_type": "execute_result"
    }
   ],
   "source": [
    "# Create a base map with plate boundaries\n",
    "m_2 = folium.Map(location=[35,136], tiles='cartodbpositron', zoom_start=5)\n",
    "for i in range(len(plate_boundaries)):\n",
    "    folium.PolyLine(locations=plate_boundaries.coordinates.iloc[i], weight=2, color='black').add_to(m_2)\n",
    "    \n",
    "# Your code here: Add a map to visualize earthquake depth\n",
    "def color_producer(val):\n",
    "    if val <= 50:\n",
    "        return 'forestgreen'\n",
    "    elif val<=100:\n",
    "        return 'yellow'\n",
    "    else:\n",
    "        return 'darkred'\n",
    "\n",
    "# Add a bubble map to the base map\n",
    "for i in range(0,len(earthquakes)):\n",
    "    folium.Circle(\n",
    "        location=[earthquakes.iloc[i]['Latitude'], earthquakes.iloc[i]['Longitude']],\n",
    "        radius=20,\n",
    "        color=color_producer(earthquakes.iloc[i]['Depth'])).add_to(m_2)\n",
    "# Uncomment to see a hint\n",
    "q_2.a.hint()\n",
    "\n",
    "# View the map\n",
    "embed_map(m_2, 'q_2.html')"
   ]
  },
  {
   "cell_type": "code",
   "execution_count": 9,
   "id": "f1cb1c45",
   "metadata": {
    "execution": {
     "iopub.execute_input": "2024-08-06T01:47:41.947170Z",
     "iopub.status.busy": "2024-08-06T01:47:41.946719Z",
     "iopub.status.idle": "2024-08-06T01:47:41.960888Z",
     "shell.execute_reply": "2024-08-06T01:47:41.959783Z"
    },
    "papermill": {
     "duration": 0.031499,
     "end_time": "2024-08-06T01:47:41.963438",
     "exception": false,
     "start_time": "2024-08-06T01:47:41.931939",
     "status": "completed"
    },
    "tags": []
   },
   "outputs": [
    {
     "data": {
      "application/javascript": [
       "parent.postMessage({\"jupyterEvent\": \"custom.exercise_interaction\", \"data\": {\"outcomeType\": 1, \"valueTowardsCompletion\": 1.0, \"interactionType\": 1, \"questionType\": 2, \"questionId\": \"2.1_Q2P\", \"learnToolsVersion\": \"0.3.4\", \"failureMessage\": \"\", \"exceptionClass\": \"\", \"trace\": \"\"}}, \"*\")"
      ],
      "text/plain": [
       "<IPython.core.display.Javascript object>"
      ]
     },
     "metadata": {},
     "output_type": "display_data"
    },
    {
     "data": {
      "text/markdown": [
       "<span style=\"color:#33cc33\">Thank you for creating a map!</span>"
      ],
      "text/plain": [
       "Thank you for creating a map!"
      ]
     },
     "metadata": {},
     "output_type": "display_data"
    },
    {
     "data": {
      "application/javascript": [
       "parent.postMessage({\"jupyterEvent\": \"custom.exercise_interaction\", \"data\": {\"interactionType\": 3, \"questionType\": 2, \"questionId\": \"2.1_Q2P\", \"learnToolsVersion\": \"0.3.4\", \"valueTowardsCompletion\": 0.0, \"failureMessage\": \"\", \"exceptionClass\": \"\", \"trace\": \"\", \"outcomeType\": 4}}, \"*\")"
      ],
      "text/plain": [
       "<IPython.core.display.Javascript object>"
      ]
     },
     "metadata": {},
     "output_type": "display_data"
    },
    {
     "data": {
      "text/markdown": [
       "<span style=\"color:#33cc99\">Solution:</span> \n",
       "```python\n",
       "# Custom function to assign a color to each circle\n",
       "def color_producer(val):\n",
       "    if val < 50:\n",
       "        return 'forestgreen'\n",
       "    elif val < 100:\n",
       "        return 'darkorange'\n",
       "    else:\n",
       "        return 'darkred'\n",
       "\n",
       "# Add a map to visualize earthquake depth\n",
       "for i in range(0,len(earthquakes)):\n",
       "    folium.Circle(\n",
       "        location=[earthquakes.iloc[i]['Latitude'], earthquakes.iloc[i]['Longitude']],\n",
       "        radius=2000,\n",
       "        color=color_producer(earthquakes.iloc[i]['Depth'])).add_to(m_2)\n",
       "\n",
       "```"
      ],
      "text/plain": [
       "Solution: \n",
       "```python\n",
       "# Custom function to assign a color to each circle\n",
       "def color_producer(val):\n",
       "    if val < 50:\n",
       "        return 'forestgreen'\n",
       "    elif val < 100:\n",
       "        return 'darkorange'\n",
       "    else:\n",
       "        return 'darkred'\n",
       "\n",
       "# Add a map to visualize earthquake depth\n",
       "for i in range(0,len(earthquakes)):\n",
       "    folium.Circle(\n",
       "        location=[earthquakes.iloc[i]['Latitude'], earthquakes.iloc[i]['Longitude']],\n",
       "        radius=2000,\n",
       "        color=color_producer(earthquakes.iloc[i]['Depth'])).add_to(m_2)\n",
       "\n",
       "```"
      ]
     },
     "metadata": {},
     "output_type": "display_data"
    }
   ],
   "source": [
    "# Get credit for your work after you have created a map\n",
    "q_2.a.check()\n",
    "\n",
    "# Uncomment to see our solution (your code may look different!)\n",
    "q_2.a.solution()"
   ]
  },
  {
   "cell_type": "markdown",
   "id": "cf665fa9",
   "metadata": {
    "papermill": {
     "duration": 0.013646,
     "end_time": "2024-08-06T01:47:41.990866",
     "exception": false,
     "start_time": "2024-08-06T01:47:41.977220",
     "status": "completed"
    },
    "tags": []
   },
   "source": [
    "Can you detect a relationship between proximity to a plate boundary and earthquake depth?  Does this pattern hold globally?  In Japan?"
   ]
  },
  {
   "cell_type": "code",
   "execution_count": 10,
   "id": "bba221dd",
   "metadata": {
    "execution": {
     "iopub.execute_input": "2024-08-06T01:47:42.020788Z",
     "iopub.status.busy": "2024-08-06T01:47:42.020370Z",
     "iopub.status.idle": "2024-08-06T01:47:42.030642Z",
     "shell.execute_reply": "2024-08-06T01:47:42.029440Z"
    },
    "papermill": {
     "duration": 0.02895,
     "end_time": "2024-08-06T01:47:42.033443",
     "exception": false,
     "start_time": "2024-08-06T01:47:42.004493",
     "status": "completed"
    },
    "tags": []
   },
   "outputs": [
    {
     "data": {
      "application/javascript": [
       "parent.postMessage({\"jupyterEvent\": \"custom.exercise_interaction\", \"data\": {\"interactionType\": 3, \"questionType\": 4, \"questionId\": \"2.2_Q2T\", \"learnToolsVersion\": \"0.3.4\", \"valueTowardsCompletion\": 0.0, \"failureMessage\": \"\", \"exceptionClass\": \"\", \"trace\": \"\", \"outcomeType\": 4}}, \"*\")"
      ],
      "text/plain": [
       "<IPython.core.display.Javascript object>"
      ]
     },
     "metadata": {},
     "output_type": "display_data"
    },
    {
     "data": {
      "text/markdown": [
       "<span style=\"color:#33cc99\">Solution:</span> In the northern half of Japan, it does appear that earthquakes closer to plate boundaries tend to be shallower (and earthquakes farther from plate boundaries are deeper).  This pattern is repeated in other locations, such as the western coast of South America.  But, it does not hold everywhere (for instance, in China, Mongolia, and Russia)."
      ],
      "text/plain": [
       "Solution: In the northern half of Japan, it does appear that earthquakes closer to plate boundaries tend to be shallower (and earthquakes farther from plate boundaries are deeper).  This pattern is repeated in other locations, such as the western coast of South America.  But, it does not hold everywhere (for instance, in China, Mongolia, and Russia)."
      ]
     },
     "metadata": {},
     "output_type": "display_data"
    }
   ],
   "source": [
    "# View the solution (Run this code cell to receive credit!)\n",
    "q_2.b.solution()"
   ]
  },
  {
   "cell_type": "markdown",
   "id": "2708ae60",
   "metadata": {
    "papermill": {
     "duration": 0.01431,
     "end_time": "2024-08-06T01:47:42.061930",
     "exception": false,
     "start_time": "2024-08-06T01:47:42.047620",
     "status": "completed"
    },
    "tags": []
   },
   "source": [
    "### 3) Which prefectures have high population density?\n",
    "\n",
    "Run the next code cell (without changes) to create a GeoDataFrame `prefectures` that contains the geographical boundaries of Japanese prefectures."
   ]
  },
  {
   "cell_type": "code",
   "execution_count": 11,
   "id": "3c0fa36e",
   "metadata": {
    "execution": {
     "iopub.execute_input": "2024-08-06T01:47:42.092360Z",
     "iopub.status.busy": "2024-08-06T01:47:42.091970Z",
     "iopub.status.idle": "2024-08-06T01:47:43.021769Z",
     "shell.execute_reply": "2024-08-06T01:47:43.020627Z"
    },
    "papermill": {
     "duration": 0.948613,
     "end_time": "2024-08-06T01:47:43.024568",
     "exception": false,
     "start_time": "2024-08-06T01:47:42.075955",
     "status": "completed"
    },
    "tags": []
   },
   "outputs": [
    {
     "data": {
      "text/html": [
       "<div>\n",
       "<style scoped>\n",
       "    .dataframe tbody tr th:only-of-type {\n",
       "        vertical-align: middle;\n",
       "    }\n",
       "\n",
       "    .dataframe tbody tr th {\n",
       "        vertical-align: top;\n",
       "    }\n",
       "\n",
       "    .dataframe thead th {\n",
       "        text-align: right;\n",
       "    }\n",
       "</style>\n",
       "<table border=\"1\" class=\"dataframe\">\n",
       "  <thead>\n",
       "    <tr style=\"text-align: right;\">\n",
       "      <th></th>\n",
       "      <th>geometry</th>\n",
       "    </tr>\n",
       "    <tr>\n",
       "      <th>prefecture</th>\n",
       "      <th></th>\n",
       "    </tr>\n",
       "  </thead>\n",
       "  <tbody>\n",
       "    <tr>\n",
       "      <th>Aichi</th>\n",
       "      <td>MULTIPOLYGON (((137.09523 34.65330, 137.09546 ...</td>\n",
       "    </tr>\n",
       "    <tr>\n",
       "      <th>Akita</th>\n",
       "      <td>MULTIPOLYGON (((139.55725 39.20330, 139.55765 ...</td>\n",
       "    </tr>\n",
       "    <tr>\n",
       "      <th>Aomori</th>\n",
       "      <td>MULTIPOLYGON (((141.39860 40.92472, 141.39806 ...</td>\n",
       "    </tr>\n",
       "    <tr>\n",
       "      <th>Chiba</th>\n",
       "      <td>MULTIPOLYGON (((139.82488 34.98967, 139.82434 ...</td>\n",
       "    </tr>\n",
       "    <tr>\n",
       "      <th>Ehime</th>\n",
       "      <td>MULTIPOLYGON (((132.55859 32.91224, 132.55904 ...</td>\n",
       "    </tr>\n",
       "  </tbody>\n",
       "</table>\n",
       "</div>"
      ],
      "text/plain": [
       "                                                     geometry\n",
       "prefecture                                                   \n",
       "Aichi       MULTIPOLYGON (((137.09523 34.65330, 137.09546 ...\n",
       "Akita       MULTIPOLYGON (((139.55725 39.20330, 139.55765 ...\n",
       "Aomori      MULTIPOLYGON (((141.39860 40.92472, 141.39806 ...\n",
       "Chiba       MULTIPOLYGON (((139.82488 34.98967, 139.82434 ...\n",
       "Ehime       MULTIPOLYGON (((132.55859 32.91224, 132.55904 ..."
      ]
     },
     "execution_count": 11,
     "metadata": {},
     "output_type": "execute_result"
    }
   ],
   "source": [
    "# GeoDataFrame with prefecture boundaries\n",
    "prefectures = gpd.read_file(\"../input/geospatial-learn-course-data/japan-prefecture-boundaries/japan-prefecture-boundaries/japan-prefecture-boundaries.shp\")\n",
    "prefectures.set_index('prefecture', inplace=True)\n",
    "prefectures.head()"
   ]
  },
  {
   "cell_type": "markdown",
   "id": "9b778d1d",
   "metadata": {
    "papermill": {
     "duration": 0.01393,
     "end_time": "2024-08-06T01:47:43.052788",
     "exception": false,
     "start_time": "2024-08-06T01:47:43.038858",
     "status": "completed"
    },
    "tags": []
   },
   "source": [
    "The next code cell creates a DataFrame `stats` containing the population, area (in square kilometers), and population density (per square kilometer) for each Japanese prefecture.  Run the code cell without changes."
   ]
  },
  {
   "cell_type": "code",
   "execution_count": 12,
   "id": "2c562145",
   "metadata": {
    "execution": {
     "iopub.execute_input": "2024-08-06T01:47:43.083522Z",
     "iopub.status.busy": "2024-08-06T01:47:43.083109Z",
     "iopub.status.idle": "2024-08-06T01:47:44.597940Z",
     "shell.execute_reply": "2024-08-06T01:47:44.596636Z"
    },
    "papermill": {
     "duration": 1.533696,
     "end_time": "2024-08-06T01:47:44.600837",
     "exception": false,
     "start_time": "2024-08-06T01:47:43.067141",
     "status": "completed"
    },
    "tags": []
   },
   "outputs": [
    {
     "data": {
      "text/html": [
       "<div>\n",
       "<style scoped>\n",
       "    .dataframe tbody tr th:only-of-type {\n",
       "        vertical-align: middle;\n",
       "    }\n",
       "\n",
       "    .dataframe tbody tr th {\n",
       "        vertical-align: top;\n",
       "    }\n",
       "\n",
       "    .dataframe thead th {\n",
       "        text-align: right;\n",
       "    }\n",
       "</style>\n",
       "<table border=\"1\" class=\"dataframe\">\n",
       "  <thead>\n",
       "    <tr style=\"text-align: right;\">\n",
       "      <th></th>\n",
       "      <th>population</th>\n",
       "      <th>area_sqkm</th>\n",
       "      <th>density</th>\n",
       "    </tr>\n",
       "    <tr>\n",
       "      <th>prefecture</th>\n",
       "      <th></th>\n",
       "      <th></th>\n",
       "      <th></th>\n",
       "    </tr>\n",
       "  </thead>\n",
       "  <tbody>\n",
       "    <tr>\n",
       "      <th>Tokyo</th>\n",
       "      <td>12868000</td>\n",
       "      <td>1800.614782</td>\n",
       "      <td>7146.448049</td>\n",
       "    </tr>\n",
       "    <tr>\n",
       "      <th>Kanagawa</th>\n",
       "      <td>8943000</td>\n",
       "      <td>2383.038975</td>\n",
       "      <td>3752.771186</td>\n",
       "    </tr>\n",
       "    <tr>\n",
       "      <th>Osaka</th>\n",
       "      <td>8801000</td>\n",
       "      <td>1923.151529</td>\n",
       "      <td>4576.342460</td>\n",
       "    </tr>\n",
       "    <tr>\n",
       "      <th>Aichi</th>\n",
       "      <td>7418000</td>\n",
       "      <td>5164.400005</td>\n",
       "      <td>1436.372085</td>\n",
       "    </tr>\n",
       "    <tr>\n",
       "      <th>Saitama</th>\n",
       "      <td>7130000</td>\n",
       "      <td>3794.036890</td>\n",
       "      <td>1879.264806</td>\n",
       "    </tr>\n",
       "  </tbody>\n",
       "</table>\n",
       "</div>"
      ],
      "text/plain": [
       "            population    area_sqkm      density\n",
       "prefecture                                      \n",
       "Tokyo         12868000  1800.614782  7146.448049\n",
       "Kanagawa       8943000  2383.038975  3752.771186\n",
       "Osaka          8801000  1923.151529  4576.342460\n",
       "Aichi          7418000  5164.400005  1436.372085\n",
       "Saitama        7130000  3794.036890  1879.264806"
      ]
     },
     "execution_count": 12,
     "metadata": {},
     "output_type": "execute_result"
    }
   ],
   "source": [
    "# DataFrame containing population of each prefecture\n",
    "population = pd.read_csv(\"../input/geospatial-learn-course-data/japan-prefecture-population.csv\")\n",
    "population.set_index('prefecture', inplace=True)\n",
    "\n",
    "# Calculate area (in square kilometers) of each prefecture\n",
    "area_sqkm = pd.Series(prefectures.geometry.to_crs(epsg=32654).area / 10**6, name='area_sqkm')\n",
    "stats = population.join(area_sqkm)\n",
    "\n",
    "# Add density (per square kilometer) of each prefecture\n",
    "stats['density'] = stats[\"population\"] / stats[\"area_sqkm\"]\n",
    "stats.head()"
   ]
  },
  {
   "cell_type": "markdown",
   "id": "a56ed612",
   "metadata": {
    "papermill": {
     "duration": 0.014732,
     "end_time": "2024-08-06T01:47:44.630391",
     "exception": false,
     "start_time": "2024-08-06T01:47:44.615659",
     "status": "completed"
    },
    "tags": []
   },
   "source": [
    "Use the next code cell to create a choropleth map to visualize population density."
   ]
  },
  {
   "cell_type": "code",
   "execution_count": 13,
   "id": "829f8db4",
   "metadata": {
    "execution": {
     "iopub.execute_input": "2024-08-06T01:47:44.662551Z",
     "iopub.status.busy": "2024-08-06T01:47:44.662140Z",
     "iopub.status.idle": "2024-08-06T01:47:44.669981Z",
     "shell.execute_reply": "2024-08-06T01:47:44.668690Z"
    },
    "papermill": {
     "duration": 0.027081,
     "end_time": "2024-08-06T01:47:44.672658",
     "exception": false,
     "start_time": "2024-08-06T01:47:44.645577",
     "status": "completed"
    },
    "tags": []
   },
   "outputs": [
    {
     "data": {
      "text/plain": [
       "Index(['population', 'area_sqkm', 'density'], dtype='object')"
      ]
     },
     "execution_count": 13,
     "metadata": {},
     "output_type": "execute_result"
    }
   ],
   "source": [
    "stats.columns"
   ]
  },
  {
   "cell_type": "code",
   "execution_count": 14,
   "id": "15055ef5",
   "metadata": {
    "execution": {
     "iopub.execute_input": "2024-08-06T01:47:44.707313Z",
     "iopub.status.busy": "2024-08-06T01:47:44.706766Z",
     "iopub.status.idle": "2024-08-06T01:47:55.983573Z",
     "shell.execute_reply": "2024-08-06T01:47:55.982169Z"
    },
    "papermill": {
     "duration": 11.296279,
     "end_time": "2024-08-06T01:47:55.986372",
     "exception": false,
     "start_time": "2024-08-06T01:47:44.690093",
     "status": "completed"
    },
    "tags": []
   },
   "outputs": [
    {
     "data": {
      "application/javascript": [
       "parent.postMessage({\"jupyterEvent\": \"custom.exercise_interaction\", \"data\": {\"interactionType\": 2, \"questionType\": 2, \"questionId\": \"3.1_Q3P\", \"learnToolsVersion\": \"0.3.4\", \"valueTowardsCompletion\": 0.0, \"failureMessage\": \"\", \"exceptionClass\": \"\", \"trace\": \"\", \"outcomeType\": 4}}, \"*\")"
      ],
      "text/plain": [
       "<IPython.core.display.Javascript object>"
      ]
     },
     "metadata": {},
     "output_type": "display_data"
    },
    {
     "data": {
      "text/markdown": [
       "<span style=\"color:#3366cc\">Hint:</span> Use `folium.Choropleth()` to create a choropleth map.  Remember to use the `__geo_interface__` method to construct the value for `geo_data`. Set `data` to a Pandas Series containing the population density data, and indexed by prefecture."
      ],
      "text/plain": [
       "Hint: Use `folium.Choropleth()` to create a choropleth map.  Remember to use the `__geo_interface__` method to construct the value for `geo_data`. Set `data` to a Pandas Series containing the population density data, and indexed by prefecture."
      ]
     },
     "metadata": {},
     "output_type": "display_data"
    },
    {
     "data": {
      "text/html": [
       "\n",
       "        <iframe\n",
       "            width=\"100%\"\n",
       "            height=\"500px\"\n",
       "            src=\"q_3.html\"\n",
       "            frameborder=\"0\"\n",
       "            allowfullscreen\n",
       "            \n",
       "        ></iframe>\n",
       "        "
      ],
      "text/plain": [
       "<IPython.lib.display.IFrame at 0x7a8778c0fee0>"
      ]
     },
     "execution_count": 14,
     "metadata": {},
     "output_type": "execute_result"
    }
   ],
   "source": [
    "# Create a base map\n",
    "m_3 = folium.Map(location=[35,136], tiles='cartodbpositron', zoom_start=5)\n",
    "\n",
    "# Your code here: create a choropleth map to visualize population density\n",
    "# Add a choropleth map to the base map\n",
    "folium.Choropleth(geo_data=prefectures.__geo_interface__, \n",
    "           data=stats['density'], \n",
    "           key_on=\"feature.id\",\n",
    "           #columns=['density'],  # Specify the columns to use       \n",
    "           fill_color='YlGnBu', \n",
    "           legend_name='Population Density Japan'\n",
    "          ).add_to(m_3)\n",
    "# Uncomment to see a hint\n",
    "q_3.a.hint()\n",
    "\n",
    "# View the map\n",
    "embed_map(m_3, 'q_3.html')"
   ]
  },
  {
   "cell_type": "code",
   "execution_count": 15,
   "id": "42bb4bcf",
   "metadata": {
    "execution": {
     "iopub.execute_input": "2024-08-06T01:47:56.020525Z",
     "iopub.status.busy": "2024-08-06T01:47:56.020025Z",
     "iopub.status.idle": "2024-08-06T01:47:56.029757Z",
     "shell.execute_reply": "2024-08-06T01:47:56.028567Z"
    },
    "papermill": {
     "duration": 0.029986,
     "end_time": "2024-08-06T01:47:56.032445",
     "exception": false,
     "start_time": "2024-08-06T01:47:56.002459",
     "status": "completed"
    },
    "tags": []
   },
   "outputs": [
    {
     "data": {
      "application/javascript": [
       "parent.postMessage({\"jupyterEvent\": \"custom.exercise_interaction\", \"data\": {\"interactionType\": 2, \"questionType\": 2, \"questionId\": \"3.1_Q3P\", \"learnToolsVersion\": \"0.3.4\", \"valueTowardsCompletion\": 0.0, \"failureMessage\": \"\", \"exceptionClass\": \"\", \"trace\": \"\", \"outcomeType\": 4}}, \"*\")"
      ],
      "text/plain": [
       "<IPython.core.display.Javascript object>"
      ]
     },
     "metadata": {},
     "output_type": "display_data"
    },
    {
     "data": {
      "text/markdown": [
       "<span style=\"color:#3366cc\">Hint:</span> Use `folium.Choropleth()` to create a choropleth map.  Remember to use the `__geo_interface__` method to construct the value for `geo_data`. Set `data` to a Pandas Series containing the population density data, and indexed by prefecture."
      ],
      "text/plain": [
       "Hint: Use `folium.Choropleth()` to create a choropleth map.  Remember to use the `__geo_interface__` method to construct the value for `geo_data`. Set `data` to a Pandas Series containing the population density data, and indexed by prefecture."
      ]
     },
     "metadata": {},
     "output_type": "display_data"
    }
   ],
   "source": [
    "q_3.a.hint()"
   ]
  },
  {
   "cell_type": "code",
   "execution_count": 16,
   "id": "79b161df",
   "metadata": {
    "execution": {
     "iopub.execute_input": "2024-08-06T01:47:56.066443Z",
     "iopub.status.busy": "2024-08-06T01:47:56.065947Z",
     "iopub.status.idle": "2024-08-06T01:47:56.076357Z",
     "shell.execute_reply": "2024-08-06T01:47:56.075142Z"
    },
    "papermill": {
     "duration": 0.030577,
     "end_time": "2024-08-06T01:47:56.079007",
     "exception": false,
     "start_time": "2024-08-06T01:47:56.048430",
     "status": "completed"
    },
    "tags": []
   },
   "outputs": [
    {
     "data": {
      "application/javascript": [
       "parent.postMessage({\"jupyterEvent\": \"custom.exercise_interaction\", \"data\": {\"outcomeType\": 1, \"valueTowardsCompletion\": 1.0, \"interactionType\": 1, \"questionType\": 2, \"questionId\": \"3.1_Q3P\", \"learnToolsVersion\": \"0.3.4\", \"failureMessage\": \"\", \"exceptionClass\": \"\", \"trace\": \"\"}}, \"*\")"
      ],
      "text/plain": [
       "<IPython.core.display.Javascript object>"
      ]
     },
     "metadata": {},
     "output_type": "display_data"
    },
    {
     "data": {
      "text/markdown": [
       "<span style=\"color:#33cc33\">Thank you for creating a map!</span>"
      ],
      "text/plain": [
       "Thank you for creating a map!"
      ]
     },
     "metadata": {},
     "output_type": "display_data"
    }
   ],
   "source": [
    "# Get credit for your work after you have created a map\n",
    "q_3.a.check()\n",
    "\n",
    "# Uncomment to see our solution (your code may look different!)\n",
    "#q_3.a.solution()"
   ]
  },
  {
   "cell_type": "markdown",
   "id": "7068343f",
   "metadata": {
    "papermill": {
     "duration": 0.015733,
     "end_time": "2024-08-06T01:47:56.110755",
     "exception": false,
     "start_time": "2024-08-06T01:47:56.095022",
     "status": "completed"
    },
    "tags": []
   },
   "source": [
    "Which three prefectures have relatively higher density than the others?  Are they spread throughout the country, or all located in roughly the same geographical region?  (*If you're unfamiliar with Japanese geography, you might find [this map](https://en.wikipedia.org/wiki/Prefectures_of_Japan) useful to answer the questions.)*"
   ]
  },
  {
   "cell_type": "code",
   "execution_count": 17,
   "id": "da58cf94",
   "metadata": {
    "execution": {
     "iopub.execute_input": "2024-08-06T01:47:56.145438Z",
     "iopub.status.busy": "2024-08-06T01:47:56.144527Z",
     "iopub.status.idle": "2024-08-06T01:47:56.154773Z",
     "shell.execute_reply": "2024-08-06T01:47:56.153524Z"
    },
    "papermill": {
     "duration": 0.030823,
     "end_time": "2024-08-06T01:47:56.157822",
     "exception": false,
     "start_time": "2024-08-06T01:47:56.126999",
     "status": "completed"
    },
    "tags": []
   },
   "outputs": [
    {
     "data": {
      "application/javascript": [
       "parent.postMessage({\"jupyterEvent\": \"custom.exercise_interaction\", \"data\": {\"interactionType\": 3, \"questionType\": 4, \"questionId\": \"3.2_Q3T\", \"learnToolsVersion\": \"0.3.4\", \"valueTowardsCompletion\": 0.0, \"failureMessage\": \"\", \"exceptionClass\": \"\", \"trace\": \"\", \"outcomeType\": 4}}, \"*\")"
      ],
      "text/plain": [
       "<IPython.core.display.Javascript object>"
      ]
     },
     "metadata": {},
     "output_type": "display_data"
    },
    {
     "data": {
      "text/markdown": [
       "<span style=\"color:#33cc99\">Solution:</span> Tokyo, Kanagawa, and Osaka have the highest population density.  All of these prefectures are located in central Japan, and Tokyo and Kanagawa are adjacent."
      ],
      "text/plain": [
       "Solution: Tokyo, Kanagawa, and Osaka have the highest population density.  All of these prefectures are located in central Japan, and Tokyo and Kanagawa are adjacent."
      ]
     },
     "metadata": {},
     "output_type": "display_data"
    }
   ],
   "source": [
    "# View the solution (Run this code cell to receive credit!)\n",
    "q_3.b.solution()"
   ]
  },
  {
   "cell_type": "markdown",
   "id": "4c050324",
   "metadata": {
    "papermill": {
     "duration": 0.016106,
     "end_time": "2024-08-06T01:47:56.190865",
     "exception": false,
     "start_time": "2024-08-06T01:47:56.174759",
     "status": "completed"
    },
    "tags": []
   },
   "source": [
    "### 4) Which high-density prefecture is prone to high-magnitude earthquakes?\n",
    "\n",
    "Create a map to suggest one prefecture that might benefit from earthquake reinforcement.  Your map should visualize both density and earthquake magnitude."
   ]
  },
  {
   "cell_type": "code",
   "execution_count": 18,
   "id": "fb650025",
   "metadata": {
    "execution": {
     "iopub.execute_input": "2024-08-06T01:47:56.226851Z",
     "iopub.status.busy": "2024-08-06T01:47:56.226427Z",
     "iopub.status.idle": "2024-08-06T01:48:13.449592Z",
     "shell.execute_reply": "2024-08-06T01:48:13.448270Z"
    },
    "papermill": {
     "duration": 17.244217,
     "end_time": "2024-08-06T01:48:13.452172",
     "exception": false,
     "start_time": "2024-08-06T01:47:56.207955",
     "status": "completed"
    },
    "tags": []
   },
   "outputs": [
    {
     "data": {
      "application/javascript": [
       "parent.postMessage({\"jupyterEvent\": \"custom.exercise_interaction\", \"data\": {\"interactionType\": 2, \"questionType\": 2, \"questionId\": \"4.1_Q4P\", \"learnToolsVersion\": \"0.3.4\", \"valueTowardsCompletion\": 0.0, \"failureMessage\": \"\", \"exceptionClass\": \"\", \"trace\": \"\", \"outcomeType\": 4}}, \"*\")"
      ],
      "text/plain": [
       "<IPython.core.display.Javascript object>"
      ]
     },
     "metadata": {},
     "output_type": "display_data"
    },
    {
     "data": {
      "text/markdown": [
       "<span style=\"color:#3366cc\">Hint:</span> We visualized population density and earthquake magnitude by adding both a choropleth map and a bubble map to the base map."
      ],
      "text/plain": [
       "Hint: We visualized population density and earthquake magnitude by adding both a choropleth map and a bubble map to the base map."
      ]
     },
     "metadata": {},
     "output_type": "display_data"
    },
    {
     "data": {
      "text/html": [
       "\n",
       "        <iframe\n",
       "            width=\"100%\"\n",
       "            height=\"500px\"\n",
       "            src=\"q_4.html\"\n",
       "            frameborder=\"0\"\n",
       "            allowfullscreen\n",
       "            \n",
       "        ></iframe>\n",
       "        "
      ],
      "text/plain": [
       "<IPython.lib.display.IFrame at 0x7a87717fab90>"
      ]
     },
     "execution_count": 18,
     "metadata": {},
     "output_type": "execute_result"
    }
   ],
   "source": [
    "# Create a base map\n",
    "m_4 = folium.Map(location=[35,136], tiles='cartodbpositron', zoom_start=5)\n",
    "\n",
    "# Your code here: create a map\n",
    "# Your code here: create a choropleth map to visualize population density\n",
    "# Add a choropleth map to the base map\n",
    "folium.Choropleth(geo_data=prefectures.__geo_interface__, \n",
    "           data=stats['density'], \n",
    "           key_on=\"feature.id\",\n",
    "           #columns=['density'],  # Specify the columns to use       \n",
    "           fill_color='YlGnBu', \n",
    "           legend_name='Population Density Japan'\n",
    "          ).add_to(m_4)\n",
    "# Add folium circle\n",
    "# Add a bubble map to the base map\n",
    "def color_producer(val):\n",
    "    if val <= 4:\n",
    "        return 'forestgreen'\n",
    "    elif val<=6:\n",
    "        return 'yellow'\n",
    "    else:\n",
    "        return 'darkred'\n",
    "for i in range(0,len(earthquakes)):\n",
    "    folium.Circle(\n",
    "        location=[earthquakes.iloc[i]['Latitude'], earthquakes.iloc[i]['Longitude']],\n",
    "        radius=20,\n",
    "        color=color_producer(earthquakes.iloc[i]['Magnitude'])).add_to(m_4)\n",
    "\n",
    "q_4.a.hint()\n",
    "\n",
    "# View the map\n",
    "embed_map(m_4, 'q_4.html')"
   ]
  },
  {
   "cell_type": "code",
   "execution_count": 19,
   "id": "ea9b91d1",
   "metadata": {
    "execution": {
     "iopub.execute_input": "2024-08-06T01:48:13.488310Z",
     "iopub.status.busy": "2024-08-06T01:48:13.487867Z",
     "iopub.status.idle": "2024-08-06T01:48:13.501877Z",
     "shell.execute_reply": "2024-08-06T01:48:13.500668Z"
    },
    "papermill": {
     "duration": 0.03506,
     "end_time": "2024-08-06T01:48:13.504345",
     "exception": false,
     "start_time": "2024-08-06T01:48:13.469285",
     "status": "completed"
    },
    "tags": []
   },
   "outputs": [
    {
     "data": {
      "application/javascript": [
       "parent.postMessage({\"jupyterEvent\": \"custom.exercise_interaction\", \"data\": {\"outcomeType\": 1, \"valueTowardsCompletion\": 1.0, \"interactionType\": 1, \"questionType\": 2, \"questionId\": \"4.1_Q4P\", \"learnToolsVersion\": \"0.3.4\", \"failureMessage\": \"\", \"exceptionClass\": \"\", \"trace\": \"\"}}, \"*\")"
      ],
      "text/plain": [
       "<IPython.core.display.Javascript object>"
      ]
     },
     "metadata": {},
     "output_type": "display_data"
    },
    {
     "data": {
      "text/markdown": [
       "<span style=\"color:#33cc33\">Thank you for creating a map!</span>"
      ],
      "text/plain": [
       "Thank you for creating a map!"
      ]
     },
     "metadata": {},
     "output_type": "display_data"
    },
    {
     "data": {
      "application/javascript": [
       "parent.postMessage({\"jupyterEvent\": \"custom.exercise_interaction\", \"data\": {\"interactionType\": 3, \"questionType\": 2, \"questionId\": \"4.1_Q4P\", \"learnToolsVersion\": \"0.3.4\", \"valueTowardsCompletion\": 0.0, \"failureMessage\": \"\", \"exceptionClass\": \"\", \"trace\": \"\", \"outcomeType\": 4}}, \"*\")"
      ],
      "text/plain": [
       "<IPython.core.display.Javascript object>"
      ]
     },
     "metadata": {},
     "output_type": "display_data"
    },
    {
     "data": {
      "text/markdown": [
       "<span style=\"color:#33cc99\">Solution:</span> \n",
       "```python\n",
       "# Create a map\n",
       "def color_producer(magnitude):\n",
       "    if magnitude > 6.5:\n",
       "        return 'red'\n",
       "    else:\n",
       "        return 'green'\n",
       "\n",
       "Choropleth(\n",
       "    geo_data=prefectures['geometry'].__geo_interface__,\n",
       "    data=stats['density'],\n",
       "    key_on=\"feature.id\",\n",
       "    fill_color='BuPu',\n",
       "    legend_name='Population density (per square kilometer)').add_to(m_4)\n",
       "\n",
       "for i in range(0,len(earthquakes)):\n",
       "    folium.Circle(\n",
       "        location=[earthquakes.iloc[i]['Latitude'], earthquakes.iloc[i]['Longitude']],\n",
       "        popup=(\"{} ({})\").format(\n",
       "            earthquakes.iloc[i]['Magnitude'],\n",
       "            earthquakes.iloc[i]['DateTime'].year),\n",
       "        radius=earthquakes.iloc[i]['Magnitude']**5.5,\n",
       "        color=color_producer(earthquakes.iloc[i]['Magnitude'])).add_to(m_4)\n",
       "\n",
       "```"
      ],
      "text/plain": [
       "Solution: \n",
       "```python\n",
       "# Create a map\n",
       "def color_producer(magnitude):\n",
       "    if magnitude > 6.5:\n",
       "        return 'red'\n",
       "    else:\n",
       "        return 'green'\n",
       "\n",
       "Choropleth(\n",
       "    geo_data=prefectures['geometry'].__geo_interface__,\n",
       "    data=stats['density'],\n",
       "    key_on=\"feature.id\",\n",
       "    fill_color='BuPu',\n",
       "    legend_name='Population density (per square kilometer)').add_to(m_4)\n",
       "\n",
       "for i in range(0,len(earthquakes)):\n",
       "    folium.Circle(\n",
       "        location=[earthquakes.iloc[i]['Latitude'], earthquakes.iloc[i]['Longitude']],\n",
       "        popup=(\"{} ({})\").format(\n",
       "            earthquakes.iloc[i]['Magnitude'],\n",
       "            earthquakes.iloc[i]['DateTime'].year),\n",
       "        radius=earthquakes.iloc[i]['Magnitude']**5.5,\n",
       "        color=color_producer(earthquakes.iloc[i]['Magnitude'])).add_to(m_4)\n",
       "\n",
       "```"
      ]
     },
     "metadata": {},
     "output_type": "display_data"
    }
   ],
   "source": [
    "# Get credit for your work after you have created a map\n",
    "q_4.a.check()\n",
    "\n",
    "# Uncomment to see our solution (your code may look different!)\n",
    "q_4.a.solution()"
   ]
  },
  {
   "cell_type": "code",
   "execution_count": 20,
   "id": "af3ca635",
   "metadata": {
    "execution": {
     "iopub.execute_input": "2024-08-06T01:48:13.541482Z",
     "iopub.status.busy": "2024-08-06T01:48:13.541056Z",
     "iopub.status.idle": "2024-08-06T01:48:53.072744Z",
     "shell.execute_reply": "2024-08-06T01:48:53.071288Z"
    },
    "papermill": {
     "duration": 39.570829,
     "end_time": "2024-08-06T01:48:53.092733",
     "exception": false,
     "start_time": "2024-08-06T01:48:13.521904",
     "status": "completed"
    },
    "tags": []
   },
   "outputs": [
    {
     "data": {
      "text/html": [
       "\n",
       "        <iframe\n",
       "            width=\"100%\"\n",
       "            height=\"500px\"\n",
       "            src=\"q_4.html\"\n",
       "            frameborder=\"0\"\n",
       "            allowfullscreen\n",
       "            \n",
       "        ></iframe>\n",
       "        "
      ],
      "text/plain": [
       "<IPython.lib.display.IFrame at 0x7a876a30b040>"
      ]
     },
     "execution_count": 20,
     "metadata": {},
     "output_type": "execute_result"
    }
   ],
   "source": [
    "# Create a map\n",
    "def color_producer(magnitude):\n",
    "    if magnitude > 6.5:\n",
    "        return 'red'\n",
    "    else:\n",
    "        return 'green'\n",
    "\n",
    "Choropleth(\n",
    "    geo_data=prefectures['geometry'].__geo_interface__,\n",
    "    data=stats['density'],\n",
    "    key_on=\"feature.id\",\n",
    "    fill_color='BuPu',\n",
    "    legend_name='Population density (per square kilometer)').add_to(m_4)\n",
    "\n",
    "for i in range(0,len(earthquakes)):\n",
    "    folium.Circle(\n",
    "        location=[earthquakes.iloc[i]['Latitude'], earthquakes.iloc[i]['Longitude']],\n",
    "        popup=(\"{} ({})\").format(\n",
    "            earthquakes.iloc[i]['Magnitude'],\n",
    "            earthquakes.iloc[i]['DateTime'].year),\n",
    "        radius=earthquakes.iloc[i]['Magnitude']**5.5,\n",
    "        color=color_producer(earthquakes.iloc[i]['Magnitude'])).add_to(m_4)\n",
    "# View the map\n",
    "embed_map(m_4, 'q_4.html')"
   ]
  },
  {
   "cell_type": "markdown",
   "id": "cb1019c9",
   "metadata": {
    "papermill": {
     "duration": 0.017548,
     "end_time": "2024-08-06T01:48:53.127806",
     "exception": false,
     "start_time": "2024-08-06T01:48:53.110258",
     "status": "completed"
    },
    "tags": []
   },
   "source": [
    "Which prefecture do you recommend for extra earthquake reinforcement?"
   ]
  },
  {
   "cell_type": "code",
   "execution_count": 21,
   "id": "e4f20e53",
   "metadata": {
    "execution": {
     "iopub.execute_input": "2024-08-06T01:48:53.233663Z",
     "iopub.status.busy": "2024-08-06T01:48:53.232610Z",
     "iopub.status.idle": "2024-08-06T01:48:53.243245Z",
     "shell.execute_reply": "2024-08-06T01:48:53.241940Z"
    },
    "papermill": {
     "duration": 0.032736,
     "end_time": "2024-08-06T01:48:53.245967",
     "exception": false,
     "start_time": "2024-08-06T01:48:53.213231",
     "status": "completed"
    },
    "tags": []
   },
   "outputs": [
    {
     "data": {
      "application/javascript": [
       "parent.postMessage({\"jupyterEvent\": \"custom.exercise_interaction\", \"data\": {\"interactionType\": 3, \"questionType\": 4, \"questionId\": \"4.2_Q4T\", \"learnToolsVersion\": \"0.3.4\", \"valueTowardsCompletion\": 0.0, \"failureMessage\": \"\", \"exceptionClass\": \"\", \"trace\": \"\", \"outcomeType\": 4}}, \"*\")"
      ],
      "text/plain": [
       "<IPython.core.display.Javascript object>"
      ]
     },
     "metadata": {},
     "output_type": "display_data"
    },
    {
     "data": {
      "text/markdown": [
       "<span style=\"color:#33cc99\">Solution:</span> While there's no clear, single answer to this question, there are a few reasonable options. **Tokyo** is by far the most densely populated prefecture and has also experienced a number of earthquakes.  **Osaka** is relatively less densely populated, but experienced an earthquake that was relatively stronger than those near Tokyo.  And, the long coast of **Kanagawa** (in addition to its high density and the historical proximity of strong earthquakes) might lead us to worry about the added potential tsunami risk."
      ],
      "text/plain": [
       "Solution: While there's no clear, single answer to this question, there are a few reasonable options. **Tokyo** is by far the most densely populated prefecture and has also experienced a number of earthquakes.  **Osaka** is relatively less densely populated, but experienced an earthquake that was relatively stronger than those near Tokyo.  And, the long coast of **Kanagawa** (in addition to its high density and the historical proximity of strong earthquakes) might lead us to worry about the added potential tsunami risk."
      ]
     },
     "metadata": {},
     "output_type": "display_data"
    }
   ],
   "source": [
    "# View the solution (Run this code cell to receive credit!)\n",
    "q_4.b.solution()"
   ]
  },
  {
   "cell_type": "markdown",
   "id": "975ad005",
   "metadata": {
    "papermill": {
     "duration": 0.017816,
     "end_time": "2024-08-06T01:48:53.281919",
     "exception": false,
     "start_time": "2024-08-06T01:48:53.264103",
     "status": "completed"
    },
    "tags": []
   },
   "source": [
    "# Keep going\n",
    "\n",
    "Learn how to convert names of places to geographic coordinates with **[geocoding](https://www.kaggle.com/alexisbcook/manipulating-geospatial-data)**.  You'll also explore special ways to join information from multiple GeoDataFrames."
   ]
  },
  {
   "cell_type": "markdown",
   "id": "ac0ba77e",
   "metadata": {
    "papermill": {
     "duration": 0.018363,
     "end_time": "2024-08-06T01:48:53.318766",
     "exception": false,
     "start_time": "2024-08-06T01:48:53.300403",
     "status": "completed"
    },
    "tags": []
   },
   "source": [
    "---\n",
    "\n",
    "\n",
    "\n",
    "\n",
    "*Have questions or comments? Visit the [course discussion forum](https://www.kaggle.com/learn/geospatial-analysis/discussion) to chat with other learners.*"
   ]
  }
 ],
 "metadata": {
  "kaggle": {
   "accelerator": "none",
   "dataSources": [
    {
     "datasetId": 348259,
     "sourceId": 695175,
     "sourceType": "datasetVersion"
    },
    {
     "datasetId": 116573,
     "sourceId": 3551030,
     "sourceType": "datasetVersion"
    }
   ],
   "isGpuEnabled": false,
   "isInternetEnabled": false,
   "language": "python",
   "sourceType": "notebook"
  },
  "kernelspec": {
   "display_name": "Python 3",
   "language": "python",
   "name": "python3"
  },
  "language_info": {
   "codemirror_mode": {
    "name": "ipython",
    "version": 3
   },
   "file_extension": ".py",
   "mimetype": "text/x-python",
   "name": "python",
   "nbconvert_exporter": "python",
   "pygments_lexer": "ipython3",
   "version": "3.10.13"
  },
  "papermill": {
   "default_parameters": {},
   "duration": 87.47127,
   "end_time": "2024-08-06T01:48:54.664017",
   "environment_variables": {},
   "exception": null,
   "input_path": "__notebook__.ipynb",
   "output_path": "__notebook__.ipynb",
   "parameters": {},
   "start_time": "2024-08-06T01:47:27.192747",
   "version": "2.5.0"
  }
 },
 "nbformat": 4,
 "nbformat_minor": 5
}
